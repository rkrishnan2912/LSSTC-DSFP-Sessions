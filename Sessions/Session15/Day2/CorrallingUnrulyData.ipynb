{
 "cells": [
  {
   "cell_type": "code",
   "execution_count": 2,
   "metadata": {
    "slideshow": {
     "slide_type": "skip"
    }
   },
   "outputs": [],
   "source": [
    "import numpy as np\n",
    "import pandas as pd\n",
    "import matplotlib.pyplot as plt\n",
    "\n",
    "%matplotlib notebook"
   ]
  },
  {
   "cell_type": "markdown",
   "metadata": {
    "slideshow": {
     "slide_type": "slide"
    }
   },
   "source": [
    "# Wranglin' –– Corralling Unruly Data\n",
    "One bit at a time\n",
    "=====\n",
    "\n",
    "**Version 0.2**\n",
    "\n",
    "By AA Miller  \n",
    "2022 July 19"
   ]
  },
  {
   "cell_type": "markdown",
   "metadata": {
    "slideshow": {
     "slide_type": "skip"
    }
   },
   "source": [
    "For this exercise you will need a five different text files. They have been compiled into a tarball that you should [download](https://arch.library.northwestern.edu/downloads/8g84mm66j?locale=en) and unpack in the same directory as this notebook. "
   ]
  },
  {
   "cell_type": "markdown",
   "metadata": {
    "slideshow": {
     "slide_type": "slide"
    }
   },
   "source": [
    "Webster's Dictionary$^\\ast$ defines wrangler as:\n",
    "\n",
    "**wrangler** noun\n",
    "\n",
    "wran·gler | raŋ-g(ə-)lər\n",
    "\n",
    "(short for horse-wrangler, probably partial translation of Mexican Spanish caballerango groom): a ranch hand who takes care of the saddle horses broadly : cowboy "
   ]
  },
  {
   "cell_type": "markdown",
   "metadata": {
    "slideshow": {
     "slide_type": "subslide"
    }
   },
   "source": [
    "$^\\ast$actually https://www.merriam-webster.com/dictionary/ - Webster's didn't define wrangler in the way I wanted"
   ]
  },
  {
   "cell_type": "markdown",
   "metadata": {
    "slideshow": {
     "slide_type": "slide"
    }
   },
   "source": [
    "How then, as astronomers, are we all like cowhands?\n",
    "\n",
    "Data are often like horses in that: they all differ, rarely conform to a single standard set of behavior, and they love to eat hay.$^\\dagger$"
   ]
  },
  {
   "cell_type": "markdown",
   "metadata": {
    "slideshow": {
     "slide_type": "subslide"
    }
   },
   "source": [
    "$^\\dagger$I made that last one up."
   ]
  },
  {
   "cell_type": "markdown",
   "metadata": {
    "slideshow": {
     "slide_type": "slide"
    }
   },
   "source": [
    "Thus, in our efforts to better understand the Universe, we must often manipulate, coax, and, in some cases, force our data to \"behave.\" This involves a variety of tasks, such as: gathering, cleaning, matching, restructuring, transforming, filtering, combining, merging, verifying, and fixing data."
   ]
  },
  {
   "cell_type": "markdown",
   "metadata": {
    "slideshow": {
     "slide_type": "slide"
    }
   },
   "source": [
    "Here is a brief and unfortunate truth, there isn't a single person in the entire world that would organize data in *exactly* the same way that you would.\n",
    "\n",
    "As a result, you may find that data that are useful to you are not organized in an optimal fashion for use in your workflow/software.\n",
    "\n",
    "Hence: the need to wrangle."
   ]
  },
  {
   "cell_type": "markdown",
   "metadata": {
    "slideshow": {
     "slide_type": "slide"
    }
   },
   "source": [
    "There is one important and significant way in which our lives as astronomers are much better than the average data scientist: even though our data are \"worthless,\" virtually all of it is numbers.\n",
    "\n",
    "Furthermore, I contend that most astronomical data can easily be organized into a simple tabular structure."
   ]
  },
  {
   "cell_type": "markdown",
   "metadata": {
    "slideshow": {
     "slide_type": "slide"
    }
   },
   "source": [
    "Nevertheless, as you will see during the exercises, even with relatively simple, small numerical data sets there is a need for wrangling.\n",
    "\n",
    "And wrangling brings up a lot of issues..."
   ]
  },
  {
   "cell_type": "markdown",
   "metadata": {
    "slideshow": {
     "slide_type": "slide"
    }
   },
   "source": [
    "Consider the following data set that contains the street names for my best friends from childhood:\n",
    "\n",
    "    ['Ewing', 'Isabella', 'Reese', 'Isabella', \n",
    "     'Thayer', 'Reese', 'Reese', 'Ewing', 'Reece']\n",
    "\n",
    "Do you notice anything interesting?"
   ]
  },
  {
   "cell_type": "markdown",
   "metadata": {
    "slideshow": {
     "slide_type": "slide"
    }
   },
   "source": [
    "Either my hometown has a street named \"Reese\"  and a street named \"Reece\", or the last entry was input incorrectly. \n",
    "\n",
    "If the later is true, then we have to raise the question of: what should we do?"
   ]
  },
  {
   "cell_type": "markdown",
   "metadata": {
    "slideshow": {
     "slide_type": "slide"
    }
   },
   "source": [
    "For this particular data set, it would be possible to create a verification procedure to test for similar errors.\n",
    "\n",
    "1. Collect every street name in the city (from post office?)\n",
    "2. Confirm every data entry has a counterpart.\n",
    "\n",
    "For any instances where this isn't the case, one could then intervene with a correction. "
   ]
  },
  {
   "cell_type": "markdown",
   "metadata": {
    "slideshow": {
     "slide_type": "slide"
    }
   },
   "source": [
    "This particular verification catches this street name error, but it doesn't correct for the possibility that the person doing the data entry may have been reading addresses really quickly and the third \"Reese\" entry should have actually said \"Lawndale.\"\n",
    "\n",
    "(verification is really hard)"
   ]
  },
  {
   "cell_type": "markdown",
   "metadata": {
    "slideshow": {
     "slide_type": "slide"
    }
   },
   "source": [
    "Data provenance – a historical record of the data and its origins – is really really hard."
   ]
  },
  {
   "cell_type": "markdown",
   "metadata": {
    "slideshow": {
     "slide_type": "slide"
    }
   },
   "source": [
    "If you are making \"corrections\" to the data, then each and every one of those corrections should be reported (for databases this is called \"logging\"). Ideally, these reports would live with the data so others could understand how things have changed.\n",
    "\n",
    "If you did change \"Reece\" to \"Reese\", anyone working with the data should be able to confirm those changes."
   ]
  },
  {
   "cell_type": "markdown",
   "metadata": {
    "slideshow": {
     "slide_type": "slide"
    }
   },
   "source": [
    "Suppose now you wanted to use the same street name data set to estimate which street I lived on while growing up. \n",
    "\n",
    "One way to mathematically approach this problem would be to convert the streets in the data set to GPS coordinates, and then to perform a KDE of the PDF for the coordinates of where I lived. \n",
    "\n",
    "This too is a form of wrangling, because the data you have (street names) are not the data you need (coordinates). "
   ]
  },
  {
   "cell_type": "markdown",
   "metadata": {
    "slideshow": {
     "slide_type": "slide"
    }
   },
   "source": [
    "Why harp on this? \n",
    "\n",
    "In practice, data scientists (including astronomers) spend an unreasonable amount of time manipulating and quality checking data (some indsutry experts estimate that up to 80% of their time is spent warnglin').\n",
    "\n",
    "Today, we will work through several examples that require wrangling, while, hopefully, building some strategies to minimize the amount of time you spend on these tasks in the future."
   ]
  },
  {
   "cell_type": "markdown",
   "metadata": {
    "slideshow": {
     "slide_type": "slide"
    }
   },
   "source": [
    "For completeness, I will mention that there is a famous canonical paper about [data wrangling](http://vis.stanford.edu/files/2011-Wrangler-CHI.pdf), which introduces the [`Wrangler`](http://vis.stanford.edu/wrangler/), a tool specifically designed to take heterogeneous (text) data, and provide a set of suggested operations/manipulations to  create a homogenous table amenable to standard statistical analysis. \n",
    "\n",
    "One extremely nice property of the `Wrangler` is that it records every operation performed on the data, ensuring high-fidelity reporting on the data provenance. We should do a better job of this in astronomy."
   ]
  },
  {
   "cell_type": "markdown",
   "metadata": {
    "slideshow": {
     "slide_type": "slide"
    }
   },
   "source": [
    "Today, we are going to focus on `python` solutions to some specific astronomical data sets.\n",
    "\n",
    "Hopefully you learn some tricks to make your work easier in the future."
   ]
  },
  {
   "cell_type": "markdown",
   "metadata": {
    "slideshow": {
     "slide_type": "skip"
    }
   },
   "source": [
    "## Problem 0) An (Incomplete) Introduction to Pandas DataFrames"
   ]
  },
  {
   "cell_type": "markdown",
   "metadata": {
    "slideshow": {
     "slide_type": "skip"
    }
   },
   "source": [
    "**Problem 0a**\n",
    "\n",
    "Read the SDSS data for Problem 4, stored in a csv file called `DSFP_SDSS_spec_train.csv`, into a `pandas` DataFrame called `sdss_spec`."
   ]
  },
  {
   "cell_type": "markdown",
   "metadata": {
    "slideshow": {
     "slide_type": "skip"
    }
   },
   "source": [
    "After yesterday spending a great deal of time describing the value of binary data storage, does the fact that I am now providing a (moderate) amount of data as a plain ascii file mean that I am a bad teacher...\n",
    "\n",
    "*probably*"
   ]
  },
  {
   "cell_type": "code",
   "execution_count": 3,
   "metadata": {
    "slideshow": {
     "slide_type": "skip"
    }
   },
   "outputs": [
    {
     "data": {
      "text/html": [
       "<div>\n",
       "<style scoped>\n",
       "    .dataframe tbody tr th:only-of-type {\n",
       "        vertical-align: middle;\n",
       "    }\n",
       "\n",
       "    .dataframe tbody tr th {\n",
       "        vertical-align: top;\n",
       "    }\n",
       "\n",
       "    .dataframe thead th {\n",
       "        text-align: right;\n",
       "    }\n",
       "</style>\n",
       "<table border=\"1\" class=\"dataframe\">\n",
       "  <thead>\n",
       "    <tr style=\"text-align: right;\">\n",
       "      <th></th>\n",
       "      <th>specObjID</th>\n",
       "      <th>z</th>\n",
       "      <th>type</th>\n",
       "      <th>psfMag_u</th>\n",
       "      <th>psfMag_g</th>\n",
       "      <th>psfMag_r</th>\n",
       "      <th>psfMag_i</th>\n",
       "      <th>psfMag_z</th>\n",
       "      <th>modelMag_u</th>\n",
       "      <th>modelMag_g</th>\n",
       "      <th>...</th>\n",
       "      <th>extinction_i</th>\n",
       "      <th>extinction_z</th>\n",
       "      <th>w1mpro</th>\n",
       "      <th>w1snr</th>\n",
       "      <th>w2mpro</th>\n",
       "      <th>w2snr</th>\n",
       "      <th>w3mpro</th>\n",
       "      <th>w3snr</th>\n",
       "      <th>w4mpro</th>\n",
       "      <th>w4snr</th>\n",
       "    </tr>\n",
       "  </thead>\n",
       "  <tbody>\n",
       "    <tr>\n",
       "      <th>0</th>\n",
       "      <td>299567742770505728</td>\n",
       "      <td>0.071414</td>\n",
       "      <td>ext</td>\n",
       "      <td>20.88291</td>\n",
       "      <td>19.23907</td>\n",
       "      <td>18.56170</td>\n",
       "      <td>18.09715</td>\n",
       "      <td>17.76469</td>\n",
       "      <td>19.62189</td>\n",
       "      <td>18.03702</td>\n",
       "      <td>...</td>\n",
       "      <td>0.061267</td>\n",
       "      <td>0.045572</td>\n",
       "      <td>14.395</td>\n",
       "      <td>21.1</td>\n",
       "      <td>14.236</td>\n",
       "      <td>15.6</td>\n",
       "      <td>11.029</td>\n",
       "      <td>6.8</td>\n",
       "      <td>8.579</td>\n",
       "      <td>-0.9</td>\n",
       "    </tr>\n",
       "    <tr>\n",
       "      <th>1</th>\n",
       "      <td>299568017178650624</td>\n",
       "      <td>0.071380</td>\n",
       "      <td>ext</td>\n",
       "      <td>20.88291</td>\n",
       "      <td>19.23907</td>\n",
       "      <td>18.56170</td>\n",
       "      <td>18.09715</td>\n",
       "      <td>17.76469</td>\n",
       "      <td>19.62189</td>\n",
       "      <td>18.03702</td>\n",
       "      <td>...</td>\n",
       "      <td>0.061267</td>\n",
       "      <td>0.045572</td>\n",
       "      <td>14.395</td>\n",
       "      <td>21.1</td>\n",
       "      <td>14.236</td>\n",
       "      <td>15.6</td>\n",
       "      <td>11.029</td>\n",
       "      <td>6.8</td>\n",
       "      <td>8.579</td>\n",
       "      <td>-0.9</td>\n",
       "    </tr>\n",
       "    <tr>\n",
       "      <th>2</th>\n",
       "      <td>299566643258877952</td>\n",
       "      <td>0.088173</td>\n",
       "      <td>ext</td>\n",
       "      <td>20.84844</td>\n",
       "      <td>18.96040</td>\n",
       "      <td>18.08027</td>\n",
       "      <td>17.62953</td>\n",
       "      <td>17.31857</td>\n",
       "      <td>20.18508</td>\n",
       "      <td>18.26120</td>\n",
       "      <td>...</td>\n",
       "      <td>0.047582</td>\n",
       "      <td>0.035392</td>\n",
       "      <td>14.162</td>\n",
       "      <td>35.0</td>\n",
       "      <td>13.970</td>\n",
       "      <td>22.3</td>\n",
       "      <td>12.233</td>\n",
       "      <td>2.9</td>\n",
       "      <td>9.067</td>\n",
       "      <td>-0.3</td>\n",
       "    </tr>\n",
       "    <tr>\n",
       "      <th>3</th>\n",
       "      <td>299569116690278400</td>\n",
       "      <td>0.088161</td>\n",
       "      <td>ext</td>\n",
       "      <td>20.84844</td>\n",
       "      <td>18.96040</td>\n",
       "      <td>18.08027</td>\n",
       "      <td>17.62953</td>\n",
       "      <td>17.31857</td>\n",
       "      <td>20.18508</td>\n",
       "      <td>18.26120</td>\n",
       "      <td>...</td>\n",
       "      <td>0.047582</td>\n",
       "      <td>0.035392</td>\n",
       "      <td>14.162</td>\n",
       "      <td>35.0</td>\n",
       "      <td>13.970</td>\n",
       "      <td>22.3</td>\n",
       "      <td>12.233</td>\n",
       "      <td>2.9</td>\n",
       "      <td>9.067</td>\n",
       "      <td>-0.3</td>\n",
       "    </tr>\n",
       "    <tr>\n",
       "      <th>4</th>\n",
       "      <td>299568292056557568</td>\n",
       "      <td>0.066539</td>\n",
       "      <td>ext</td>\n",
       "      <td>21.28256</td>\n",
       "      <td>19.61427</td>\n",
       "      <td>18.98529</td>\n",
       "      <td>18.52956</td>\n",
       "      <td>18.26322</td>\n",
       "      <td>20.18081</td>\n",
       "      <td>18.47435</td>\n",
       "      <td>...</td>\n",
       "      <td>0.058709</td>\n",
       "      <td>0.043669</td>\n",
       "      <td>14.734</td>\n",
       "      <td>30.6</td>\n",
       "      <td>14.512</td>\n",
       "      <td>17.6</td>\n",
       "      <td>11.078</td>\n",
       "      <td>9.8</td>\n",
       "      <td>9.054</td>\n",
       "      <td>2.3</td>\n",
       "    </tr>\n",
       "  </tbody>\n",
       "</table>\n",
       "<p>5 rows × 26 columns</p>\n",
       "</div>"
      ],
      "text/plain": [
       "            specObjID         z type  psfMag_u  psfMag_g  psfMag_r  psfMag_i  \\\n",
       "0  299567742770505728  0.071414  ext  20.88291  19.23907  18.56170  18.09715   \n",
       "1  299568017178650624  0.071380  ext  20.88291  19.23907  18.56170  18.09715   \n",
       "2  299566643258877952  0.088173  ext  20.84844  18.96040  18.08027  17.62953   \n",
       "3  299569116690278400  0.088161  ext  20.84844  18.96040  18.08027  17.62953   \n",
       "4  299568292056557568  0.066539  ext  21.28256  19.61427  18.98529  18.52956   \n",
       "\n",
       "   psfMag_z  modelMag_u  modelMag_g  ...  extinction_i  extinction_z  w1mpro  \\\n",
       "0  17.76469    19.62189    18.03702  ...      0.061267      0.045572  14.395   \n",
       "1  17.76469    19.62189    18.03702  ...      0.061267      0.045572  14.395   \n",
       "2  17.31857    20.18508    18.26120  ...      0.047582      0.035392  14.162   \n",
       "3  17.31857    20.18508    18.26120  ...      0.047582      0.035392  14.162   \n",
       "4  18.26322    20.18081    18.47435  ...      0.058709      0.043669  14.734   \n",
       "\n",
       "   w1snr  w2mpro  w2snr  w3mpro  w3snr  w4mpro  w4snr  \n",
       "0   21.1  14.236   15.6  11.029    6.8   8.579   -0.9  \n",
       "1   21.1  14.236   15.6  11.029    6.8   8.579   -0.9  \n",
       "2   35.0  13.970   22.3  12.233    2.9   9.067   -0.3  \n",
       "3   35.0  13.970   22.3  12.233    2.9   9.067   -0.3  \n",
       "4   30.6  14.512   17.6  11.078    9.8   9.054    2.3  \n",
       "\n",
       "[5 rows x 26 columns]"
      ]
     },
     "execution_count": 3,
     "metadata": {},
     "output_type": "execute_result"
    }
   ],
   "source": [
    "sdss_spec = pd.read_csv(\"/home/radhakrishnan/Downloads/Others/dsfp_wrangling/DSFP_SDSS_spec_train.csv\")\n",
    "sdss_spec.head()"
   ]
  },
  {
   "cell_type": "markdown",
   "metadata": {
    "slideshow": {
     "slide_type": "skip"
    }
   },
   "source": [
    "`pandas` provides many different methods for selecting columns from the DataFrame. Supposing you wanted `psfMag`, you could use any of the following:\n",
    "\n",
    "    sdss_spec['psfMag_g']\n",
    "    sdss_spec[['psfMag_r', 'psfMag_z']]\n",
    "    sdss_spec.psfMag_g\n",
    "\n",
    "(notice that selecting multiple columns requires a list within `[]`)"
   ]
  },
  {
   "cell_type": "markdown",
   "metadata": {
    "slideshow": {
     "slide_type": "skip"
    }
   },
   "source": [
    "**Problem 0b**\n",
    "\n",
    "Plot a histogram of the `psfMag_g` - `modelMag_g` distribution for the data set (which requires a selection of those two columns).\n",
    "\n",
    "Do you notice anything interesting?\n",
    "\n",
    "*Hint* - you may want to use more than the default number of bins (=10)."
   ]
  },
  {
   "cell_type": "code",
   "execution_count": 11,
   "metadata": {
    "slideshow": {
     "slide_type": "skip"
    }
   },
   "outputs": [
    {
     "data": {
      "application/javascript": [
       "/* Put everything inside the global mpl namespace */\n",
       "/* global mpl */\n",
       "window.mpl = {};\n",
       "\n",
       "mpl.get_websocket_type = function () {\n",
       "    if (typeof WebSocket !== 'undefined') {\n",
       "        return WebSocket;\n",
       "    } else if (typeof MozWebSocket !== 'undefined') {\n",
       "        return MozWebSocket;\n",
       "    } else {\n",
       "        alert(\n",
       "            'Your browser does not have WebSocket support. ' +\n",
       "                'Please try Chrome, Safari or Firefox ≥ 6. ' +\n",
       "                'Firefox 4 and 5 are also supported but you ' +\n",
       "                'have to enable WebSockets in about:config.'\n",
       "        );\n",
       "    }\n",
       "};\n",
       "\n",
       "mpl.figure = function (figure_id, websocket, ondownload, parent_element) {\n",
       "    this.id = figure_id;\n",
       "\n",
       "    this.ws = websocket;\n",
       "\n",
       "    this.supports_binary = this.ws.binaryType !== undefined;\n",
       "\n",
       "    if (!this.supports_binary) {\n",
       "        var warnings = document.getElementById('mpl-warnings');\n",
       "        if (warnings) {\n",
       "            warnings.style.display = 'block';\n",
       "            warnings.textContent =\n",
       "                'This browser does not support binary websocket messages. ' +\n",
       "                'Performance may be slow.';\n",
       "        }\n",
       "    }\n",
       "\n",
       "    this.imageObj = new Image();\n",
       "\n",
       "    this.context = undefined;\n",
       "    this.message = undefined;\n",
       "    this.canvas = undefined;\n",
       "    this.rubberband_canvas = undefined;\n",
       "    this.rubberband_context = undefined;\n",
       "    this.format_dropdown = undefined;\n",
       "\n",
       "    this.image_mode = 'full';\n",
       "\n",
       "    this.root = document.createElement('div');\n",
       "    this.root.setAttribute('style', 'display: inline-block');\n",
       "    this._root_extra_style(this.root);\n",
       "\n",
       "    parent_element.appendChild(this.root);\n",
       "\n",
       "    this._init_header(this);\n",
       "    this._init_canvas(this);\n",
       "    this._init_toolbar(this);\n",
       "\n",
       "    var fig = this;\n",
       "\n",
       "    this.waiting = false;\n",
       "\n",
       "    this.ws.onopen = function () {\n",
       "        fig.send_message('supports_binary', { value: fig.supports_binary });\n",
       "        fig.send_message('send_image_mode', {});\n",
       "        if (fig.ratio !== 1) {\n",
       "            fig.send_message('set_dpi_ratio', { dpi_ratio: fig.ratio });\n",
       "        }\n",
       "        fig.send_message('refresh', {});\n",
       "    };\n",
       "\n",
       "    this.imageObj.onload = function () {\n",
       "        if (fig.image_mode === 'full') {\n",
       "            // Full images could contain transparency (where diff images\n",
       "            // almost always do), so we need to clear the canvas so that\n",
       "            // there is no ghosting.\n",
       "            fig.context.clearRect(0, 0, fig.canvas.width, fig.canvas.height);\n",
       "        }\n",
       "        fig.context.drawImage(fig.imageObj, 0, 0);\n",
       "    };\n",
       "\n",
       "    this.imageObj.onunload = function () {\n",
       "        fig.ws.close();\n",
       "    };\n",
       "\n",
       "    this.ws.onmessage = this._make_on_message_function(this);\n",
       "\n",
       "    this.ondownload = ondownload;\n",
       "};\n",
       "\n",
       "mpl.figure.prototype._init_header = function () {\n",
       "    var titlebar = document.createElement('div');\n",
       "    titlebar.classList =\n",
       "        'ui-dialog-titlebar ui-widget-header ui-corner-all ui-helper-clearfix';\n",
       "    var titletext = document.createElement('div');\n",
       "    titletext.classList = 'ui-dialog-title';\n",
       "    titletext.setAttribute(\n",
       "        'style',\n",
       "        'width: 100%; text-align: center; padding: 3px;'\n",
       "    );\n",
       "    titlebar.appendChild(titletext);\n",
       "    this.root.appendChild(titlebar);\n",
       "    this.header = titletext;\n",
       "};\n",
       "\n",
       "mpl.figure.prototype._canvas_extra_style = function (_canvas_div) {};\n",
       "\n",
       "mpl.figure.prototype._root_extra_style = function (_canvas_div) {};\n",
       "\n",
       "mpl.figure.prototype._init_canvas = function () {\n",
       "    var fig = this;\n",
       "\n",
       "    var canvas_div = (this.canvas_div = document.createElement('div'));\n",
       "    canvas_div.setAttribute(\n",
       "        'style',\n",
       "        'border: 1px solid #ddd;' +\n",
       "            'box-sizing: content-box;' +\n",
       "            'clear: both;' +\n",
       "            'min-height: 1px;' +\n",
       "            'min-width: 1px;' +\n",
       "            'outline: 0;' +\n",
       "            'overflow: hidden;' +\n",
       "            'position: relative;' +\n",
       "            'resize: both;'\n",
       "    );\n",
       "\n",
       "    function on_keyboard_event_closure(name) {\n",
       "        return function (event) {\n",
       "            return fig.key_event(event, name);\n",
       "        };\n",
       "    }\n",
       "\n",
       "    canvas_div.addEventListener(\n",
       "        'keydown',\n",
       "        on_keyboard_event_closure('key_press')\n",
       "    );\n",
       "    canvas_div.addEventListener(\n",
       "        'keyup',\n",
       "        on_keyboard_event_closure('key_release')\n",
       "    );\n",
       "\n",
       "    this._canvas_extra_style(canvas_div);\n",
       "    this.root.appendChild(canvas_div);\n",
       "\n",
       "    var canvas = (this.canvas = document.createElement('canvas'));\n",
       "    canvas.classList.add('mpl-canvas');\n",
       "    canvas.setAttribute('style', 'box-sizing: content-box;');\n",
       "\n",
       "    this.context = canvas.getContext('2d');\n",
       "\n",
       "    var backingStore =\n",
       "        this.context.backingStorePixelRatio ||\n",
       "        this.context.webkitBackingStorePixelRatio ||\n",
       "        this.context.mozBackingStorePixelRatio ||\n",
       "        this.context.msBackingStorePixelRatio ||\n",
       "        this.context.oBackingStorePixelRatio ||\n",
       "        this.context.backingStorePixelRatio ||\n",
       "        1;\n",
       "\n",
       "    this.ratio = (window.devicePixelRatio || 1) / backingStore;\n",
       "\n",
       "    var rubberband_canvas = (this.rubberband_canvas = document.createElement(\n",
       "        'canvas'\n",
       "    ));\n",
       "    rubberband_canvas.setAttribute(\n",
       "        'style',\n",
       "        'box-sizing: content-box; position: absolute; left: 0; top: 0; z-index: 1;'\n",
       "    );\n",
       "\n",
       "    // Apply a ponyfill if ResizeObserver is not implemented by browser.\n",
       "    if (this.ResizeObserver === undefined) {\n",
       "        if (window.ResizeObserver !== undefined) {\n",
       "            this.ResizeObserver = window.ResizeObserver;\n",
       "        } else {\n",
       "            var obs = _JSXTOOLS_RESIZE_OBSERVER({});\n",
       "            this.ResizeObserver = obs.ResizeObserver;\n",
       "        }\n",
       "    }\n",
       "\n",
       "    this.resizeObserverInstance = new this.ResizeObserver(function (entries) {\n",
       "        var nentries = entries.length;\n",
       "        for (var i = 0; i < nentries; i++) {\n",
       "            var entry = entries[i];\n",
       "            var width, height;\n",
       "            if (entry.contentBoxSize) {\n",
       "                if (entry.contentBoxSize instanceof Array) {\n",
       "                    // Chrome 84 implements new version of spec.\n",
       "                    width = entry.contentBoxSize[0].inlineSize;\n",
       "                    height = entry.contentBoxSize[0].blockSize;\n",
       "                } else {\n",
       "                    // Firefox implements old version of spec.\n",
       "                    width = entry.contentBoxSize.inlineSize;\n",
       "                    height = entry.contentBoxSize.blockSize;\n",
       "                }\n",
       "            } else {\n",
       "                // Chrome <84 implements even older version of spec.\n",
       "                width = entry.contentRect.width;\n",
       "                height = entry.contentRect.height;\n",
       "            }\n",
       "\n",
       "            // Keep the size of the canvas and rubber band canvas in sync with\n",
       "            // the canvas container.\n",
       "            if (entry.devicePixelContentBoxSize) {\n",
       "                // Chrome 84 implements new version of spec.\n",
       "                canvas.setAttribute(\n",
       "                    'width',\n",
       "                    entry.devicePixelContentBoxSize[0].inlineSize\n",
       "                );\n",
       "                canvas.setAttribute(\n",
       "                    'height',\n",
       "                    entry.devicePixelContentBoxSize[0].blockSize\n",
       "                );\n",
       "            } else {\n",
       "                canvas.setAttribute('width', width * fig.ratio);\n",
       "                canvas.setAttribute('height', height * fig.ratio);\n",
       "            }\n",
       "            canvas.setAttribute(\n",
       "                'style',\n",
       "                'width: ' + width + 'px; height: ' + height + 'px;'\n",
       "            );\n",
       "\n",
       "            rubberband_canvas.setAttribute('width', width);\n",
       "            rubberband_canvas.setAttribute('height', height);\n",
       "\n",
       "            // And update the size in Python. We ignore the initial 0/0 size\n",
       "            // that occurs as the element is placed into the DOM, which should\n",
       "            // otherwise not happen due to the minimum size styling.\n",
       "            if (fig.ws.readyState == 1 && width != 0 && height != 0) {\n",
       "                fig.request_resize(width, height);\n",
       "            }\n",
       "        }\n",
       "    });\n",
       "    this.resizeObserverInstance.observe(canvas_div);\n",
       "\n",
       "    function on_mouse_event_closure(name) {\n",
       "        return function (event) {\n",
       "            return fig.mouse_event(event, name);\n",
       "        };\n",
       "    }\n",
       "\n",
       "    rubberband_canvas.addEventListener(\n",
       "        'mousedown',\n",
       "        on_mouse_event_closure('button_press')\n",
       "    );\n",
       "    rubberband_canvas.addEventListener(\n",
       "        'mouseup',\n",
       "        on_mouse_event_closure('button_release')\n",
       "    );\n",
       "    // Throttle sequential mouse events to 1 every 20ms.\n",
       "    rubberband_canvas.addEventListener(\n",
       "        'mousemove',\n",
       "        on_mouse_event_closure('motion_notify')\n",
       "    );\n",
       "\n",
       "    rubberband_canvas.addEventListener(\n",
       "        'mouseenter',\n",
       "        on_mouse_event_closure('figure_enter')\n",
       "    );\n",
       "    rubberband_canvas.addEventListener(\n",
       "        'mouseleave',\n",
       "        on_mouse_event_closure('figure_leave')\n",
       "    );\n",
       "\n",
       "    canvas_div.addEventListener('wheel', function (event) {\n",
       "        if (event.deltaY < 0) {\n",
       "            event.step = 1;\n",
       "        } else {\n",
       "            event.step = -1;\n",
       "        }\n",
       "        on_mouse_event_closure('scroll')(event);\n",
       "    });\n",
       "\n",
       "    canvas_div.appendChild(canvas);\n",
       "    canvas_div.appendChild(rubberband_canvas);\n",
       "\n",
       "    this.rubberband_context = rubberband_canvas.getContext('2d');\n",
       "    this.rubberband_context.strokeStyle = '#000000';\n",
       "\n",
       "    this._resize_canvas = function (width, height, forward) {\n",
       "        if (forward) {\n",
       "            canvas_div.style.width = width + 'px';\n",
       "            canvas_div.style.height = height + 'px';\n",
       "        }\n",
       "    };\n",
       "\n",
       "    // Disable right mouse context menu.\n",
       "    this.rubberband_canvas.addEventListener('contextmenu', function (_e) {\n",
       "        event.preventDefault();\n",
       "        return false;\n",
       "    });\n",
       "\n",
       "    function set_focus() {\n",
       "        canvas.focus();\n",
       "        canvas_div.focus();\n",
       "    }\n",
       "\n",
       "    window.setTimeout(set_focus, 100);\n",
       "};\n",
       "\n",
       "mpl.figure.prototype._init_toolbar = function () {\n",
       "    var fig = this;\n",
       "\n",
       "    var toolbar = document.createElement('div');\n",
       "    toolbar.classList = 'mpl-toolbar';\n",
       "    this.root.appendChild(toolbar);\n",
       "\n",
       "    function on_click_closure(name) {\n",
       "        return function (_event) {\n",
       "            return fig.toolbar_button_onclick(name);\n",
       "        };\n",
       "    }\n",
       "\n",
       "    function on_mouseover_closure(tooltip) {\n",
       "        return function (event) {\n",
       "            if (!event.currentTarget.disabled) {\n",
       "                return fig.toolbar_button_onmouseover(tooltip);\n",
       "            }\n",
       "        };\n",
       "    }\n",
       "\n",
       "    fig.buttons = {};\n",
       "    var buttonGroup = document.createElement('div');\n",
       "    buttonGroup.classList = 'mpl-button-group';\n",
       "    for (var toolbar_ind in mpl.toolbar_items) {\n",
       "        var name = mpl.toolbar_items[toolbar_ind][0];\n",
       "        var tooltip = mpl.toolbar_items[toolbar_ind][1];\n",
       "        var image = mpl.toolbar_items[toolbar_ind][2];\n",
       "        var method_name = mpl.toolbar_items[toolbar_ind][3];\n",
       "\n",
       "        if (!name) {\n",
       "            /* Instead of a spacer, we start a new button group. */\n",
       "            if (buttonGroup.hasChildNodes()) {\n",
       "                toolbar.appendChild(buttonGroup);\n",
       "            }\n",
       "            buttonGroup = document.createElement('div');\n",
       "            buttonGroup.classList = 'mpl-button-group';\n",
       "            continue;\n",
       "        }\n",
       "\n",
       "        var button = (fig.buttons[name] = document.createElement('button'));\n",
       "        button.classList = 'mpl-widget';\n",
       "        button.setAttribute('role', 'button');\n",
       "        button.setAttribute('aria-disabled', 'false');\n",
       "        button.addEventListener('click', on_click_closure(method_name));\n",
       "        button.addEventListener('mouseover', on_mouseover_closure(tooltip));\n",
       "\n",
       "        var icon_img = document.createElement('img');\n",
       "        icon_img.src = '_images/' + image + '.png';\n",
       "        icon_img.srcset = '_images/' + image + '_large.png 2x';\n",
       "        icon_img.alt = tooltip;\n",
       "        button.appendChild(icon_img);\n",
       "\n",
       "        buttonGroup.appendChild(button);\n",
       "    }\n",
       "\n",
       "    if (buttonGroup.hasChildNodes()) {\n",
       "        toolbar.appendChild(buttonGroup);\n",
       "    }\n",
       "\n",
       "    var fmt_picker = document.createElement('select');\n",
       "    fmt_picker.classList = 'mpl-widget';\n",
       "    toolbar.appendChild(fmt_picker);\n",
       "    this.format_dropdown = fmt_picker;\n",
       "\n",
       "    for (var ind in mpl.extensions) {\n",
       "        var fmt = mpl.extensions[ind];\n",
       "        var option = document.createElement('option');\n",
       "        option.selected = fmt === mpl.default_extension;\n",
       "        option.innerHTML = fmt;\n",
       "        fmt_picker.appendChild(option);\n",
       "    }\n",
       "\n",
       "    var status_bar = document.createElement('span');\n",
       "    status_bar.classList = 'mpl-message';\n",
       "    toolbar.appendChild(status_bar);\n",
       "    this.message = status_bar;\n",
       "};\n",
       "\n",
       "mpl.figure.prototype.request_resize = function (x_pixels, y_pixels) {\n",
       "    // Request matplotlib to resize the figure. Matplotlib will then trigger a resize in the client,\n",
       "    // which will in turn request a refresh of the image.\n",
       "    this.send_message('resize', { width: x_pixels, height: y_pixels });\n",
       "};\n",
       "\n",
       "mpl.figure.prototype.send_message = function (type, properties) {\n",
       "    properties['type'] = type;\n",
       "    properties['figure_id'] = this.id;\n",
       "    this.ws.send(JSON.stringify(properties));\n",
       "};\n",
       "\n",
       "mpl.figure.prototype.send_draw_message = function () {\n",
       "    if (!this.waiting) {\n",
       "        this.waiting = true;\n",
       "        this.ws.send(JSON.stringify({ type: 'draw', figure_id: this.id }));\n",
       "    }\n",
       "};\n",
       "\n",
       "mpl.figure.prototype.handle_save = function (fig, _msg) {\n",
       "    var format_dropdown = fig.format_dropdown;\n",
       "    var format = format_dropdown.options[format_dropdown.selectedIndex].value;\n",
       "    fig.ondownload(fig, format);\n",
       "};\n",
       "\n",
       "mpl.figure.prototype.handle_resize = function (fig, msg) {\n",
       "    var size = msg['size'];\n",
       "    if (size[0] !== fig.canvas.width || size[1] !== fig.canvas.height) {\n",
       "        fig._resize_canvas(size[0], size[1], msg['forward']);\n",
       "        fig.send_message('refresh', {});\n",
       "    }\n",
       "};\n",
       "\n",
       "mpl.figure.prototype.handle_rubberband = function (fig, msg) {\n",
       "    var x0 = msg['x0'] / fig.ratio;\n",
       "    var y0 = (fig.canvas.height - msg['y0']) / fig.ratio;\n",
       "    var x1 = msg['x1'] / fig.ratio;\n",
       "    var y1 = (fig.canvas.height - msg['y1']) / fig.ratio;\n",
       "    x0 = Math.floor(x0) + 0.5;\n",
       "    y0 = Math.floor(y0) + 0.5;\n",
       "    x1 = Math.floor(x1) + 0.5;\n",
       "    y1 = Math.floor(y1) + 0.5;\n",
       "    var min_x = Math.min(x0, x1);\n",
       "    var min_y = Math.min(y0, y1);\n",
       "    var width = Math.abs(x1 - x0);\n",
       "    var height = Math.abs(y1 - y0);\n",
       "\n",
       "    fig.rubberband_context.clearRect(\n",
       "        0,\n",
       "        0,\n",
       "        fig.canvas.width / fig.ratio,\n",
       "        fig.canvas.height / fig.ratio\n",
       "    );\n",
       "\n",
       "    fig.rubberband_context.strokeRect(min_x, min_y, width, height);\n",
       "};\n",
       "\n",
       "mpl.figure.prototype.handle_figure_label = function (fig, msg) {\n",
       "    // Updates the figure title.\n",
       "    fig.header.textContent = msg['label'];\n",
       "};\n",
       "\n",
       "mpl.figure.prototype.handle_cursor = function (fig, msg) {\n",
       "    var cursor = msg['cursor'];\n",
       "    switch (cursor) {\n",
       "        case 0:\n",
       "            cursor = 'pointer';\n",
       "            break;\n",
       "        case 1:\n",
       "            cursor = 'default';\n",
       "            break;\n",
       "        case 2:\n",
       "            cursor = 'crosshair';\n",
       "            break;\n",
       "        case 3:\n",
       "            cursor = 'move';\n",
       "            break;\n",
       "    }\n",
       "    fig.rubberband_canvas.style.cursor = cursor;\n",
       "};\n",
       "\n",
       "mpl.figure.prototype.handle_message = function (fig, msg) {\n",
       "    fig.message.textContent = msg['message'];\n",
       "};\n",
       "\n",
       "mpl.figure.prototype.handle_draw = function (fig, _msg) {\n",
       "    // Request the server to send over a new figure.\n",
       "    fig.send_draw_message();\n",
       "};\n",
       "\n",
       "mpl.figure.prototype.handle_image_mode = function (fig, msg) {\n",
       "    fig.image_mode = msg['mode'];\n",
       "};\n",
       "\n",
       "mpl.figure.prototype.handle_history_buttons = function (fig, msg) {\n",
       "    for (var key in msg) {\n",
       "        if (!(key in fig.buttons)) {\n",
       "            continue;\n",
       "        }\n",
       "        fig.buttons[key].disabled = !msg[key];\n",
       "        fig.buttons[key].setAttribute('aria-disabled', !msg[key]);\n",
       "    }\n",
       "};\n",
       "\n",
       "mpl.figure.prototype.handle_navigate_mode = function (fig, msg) {\n",
       "    if (msg['mode'] === 'PAN') {\n",
       "        fig.buttons['Pan'].classList.add('active');\n",
       "        fig.buttons['Zoom'].classList.remove('active');\n",
       "    } else if (msg['mode'] === 'ZOOM') {\n",
       "        fig.buttons['Pan'].classList.remove('active');\n",
       "        fig.buttons['Zoom'].classList.add('active');\n",
       "    } else {\n",
       "        fig.buttons['Pan'].classList.remove('active');\n",
       "        fig.buttons['Zoom'].classList.remove('active');\n",
       "    }\n",
       "};\n",
       "\n",
       "mpl.figure.prototype.updated_canvas_event = function () {\n",
       "    // Called whenever the canvas gets updated.\n",
       "    this.send_message('ack', {});\n",
       "};\n",
       "\n",
       "// A function to construct a web socket function for onmessage handling.\n",
       "// Called in the figure constructor.\n",
       "mpl.figure.prototype._make_on_message_function = function (fig) {\n",
       "    return function socket_on_message(evt) {\n",
       "        if (evt.data instanceof Blob) {\n",
       "            /* FIXME: We get \"Resource interpreted as Image but\n",
       "             * transferred with MIME type text/plain:\" errors on\n",
       "             * Chrome.  But how to set the MIME type?  It doesn't seem\n",
       "             * to be part of the websocket stream */\n",
       "            evt.data.type = 'image/png';\n",
       "\n",
       "            /* Free the memory for the previous frames */\n",
       "            if (fig.imageObj.src) {\n",
       "                (window.URL || window.webkitURL).revokeObjectURL(\n",
       "                    fig.imageObj.src\n",
       "                );\n",
       "            }\n",
       "\n",
       "            fig.imageObj.src = (window.URL || window.webkitURL).createObjectURL(\n",
       "                evt.data\n",
       "            );\n",
       "            fig.updated_canvas_event();\n",
       "            fig.waiting = false;\n",
       "            return;\n",
       "        } else if (\n",
       "            typeof evt.data === 'string' &&\n",
       "            evt.data.slice(0, 21) === 'data:image/png;base64'\n",
       "        ) {\n",
       "            fig.imageObj.src = evt.data;\n",
       "            fig.updated_canvas_event();\n",
       "            fig.waiting = false;\n",
       "            return;\n",
       "        }\n",
       "\n",
       "        var msg = JSON.parse(evt.data);\n",
       "        var msg_type = msg['type'];\n",
       "\n",
       "        // Call the  \"handle_{type}\" callback, which takes\n",
       "        // the figure and JSON message as its only arguments.\n",
       "        try {\n",
       "            var callback = fig['handle_' + msg_type];\n",
       "        } catch (e) {\n",
       "            console.log(\n",
       "                \"No handler for the '\" + msg_type + \"' message type: \",\n",
       "                msg\n",
       "            );\n",
       "            return;\n",
       "        }\n",
       "\n",
       "        if (callback) {\n",
       "            try {\n",
       "                // console.log(\"Handling '\" + msg_type + \"' message: \", msg);\n",
       "                callback(fig, msg);\n",
       "            } catch (e) {\n",
       "                console.log(\n",
       "                    \"Exception inside the 'handler_\" + msg_type + \"' callback:\",\n",
       "                    e,\n",
       "                    e.stack,\n",
       "                    msg\n",
       "                );\n",
       "            }\n",
       "        }\n",
       "    };\n",
       "};\n",
       "\n",
       "// from http://stackoverflow.com/questions/1114465/getting-mouse-location-in-canvas\n",
       "mpl.findpos = function (e) {\n",
       "    //this section is from http://www.quirksmode.org/js/events_properties.html\n",
       "    var targ;\n",
       "    if (!e) {\n",
       "        e = window.event;\n",
       "    }\n",
       "    if (e.target) {\n",
       "        targ = e.target;\n",
       "    } else if (e.srcElement) {\n",
       "        targ = e.srcElement;\n",
       "    }\n",
       "    if (targ.nodeType === 3) {\n",
       "        // defeat Safari bug\n",
       "        targ = targ.parentNode;\n",
       "    }\n",
       "\n",
       "    // pageX,Y are the mouse positions relative to the document\n",
       "    var boundingRect = targ.getBoundingClientRect();\n",
       "    var x = e.pageX - (boundingRect.left + document.body.scrollLeft);\n",
       "    var y = e.pageY - (boundingRect.top + document.body.scrollTop);\n",
       "\n",
       "    return { x: x, y: y };\n",
       "};\n",
       "\n",
       "/*\n",
       " * return a copy of an object with only non-object keys\n",
       " * we need this to avoid circular references\n",
       " * http://stackoverflow.com/a/24161582/3208463\n",
       " */\n",
       "function simpleKeys(original) {\n",
       "    return Object.keys(original).reduce(function (obj, key) {\n",
       "        if (typeof original[key] !== 'object') {\n",
       "            obj[key] = original[key];\n",
       "        }\n",
       "        return obj;\n",
       "    }, {});\n",
       "}\n",
       "\n",
       "mpl.figure.prototype.mouse_event = function (event, name) {\n",
       "    var canvas_pos = mpl.findpos(event);\n",
       "\n",
       "    if (name === 'button_press') {\n",
       "        this.canvas.focus();\n",
       "        this.canvas_div.focus();\n",
       "    }\n",
       "\n",
       "    var x = canvas_pos.x * this.ratio;\n",
       "    var y = canvas_pos.y * this.ratio;\n",
       "\n",
       "    this.send_message(name, {\n",
       "        x: x,\n",
       "        y: y,\n",
       "        button: event.button,\n",
       "        step: event.step,\n",
       "        guiEvent: simpleKeys(event),\n",
       "    });\n",
       "\n",
       "    /* This prevents the web browser from automatically changing to\n",
       "     * the text insertion cursor when the button is pressed.  We want\n",
       "     * to control all of the cursor setting manually through the\n",
       "     * 'cursor' event from matplotlib */\n",
       "    event.preventDefault();\n",
       "    return false;\n",
       "};\n",
       "\n",
       "mpl.figure.prototype._key_event_extra = function (_event, _name) {\n",
       "    // Handle any extra behaviour associated with a key event\n",
       "};\n",
       "\n",
       "mpl.figure.prototype.key_event = function (event, name) {\n",
       "    // Prevent repeat events\n",
       "    if (name === 'key_press') {\n",
       "        if (event.which === this._key) {\n",
       "            return;\n",
       "        } else {\n",
       "            this._key = event.which;\n",
       "        }\n",
       "    }\n",
       "    if (name === 'key_release') {\n",
       "        this._key = null;\n",
       "    }\n",
       "\n",
       "    var value = '';\n",
       "    if (event.ctrlKey && event.which !== 17) {\n",
       "        value += 'ctrl+';\n",
       "    }\n",
       "    if (event.altKey && event.which !== 18) {\n",
       "        value += 'alt+';\n",
       "    }\n",
       "    if (event.shiftKey && event.which !== 16) {\n",
       "        value += 'shift+';\n",
       "    }\n",
       "\n",
       "    value += 'k';\n",
       "    value += event.which.toString();\n",
       "\n",
       "    this._key_event_extra(event, name);\n",
       "\n",
       "    this.send_message(name, { key: value, guiEvent: simpleKeys(event) });\n",
       "    return false;\n",
       "};\n",
       "\n",
       "mpl.figure.prototype.toolbar_button_onclick = function (name) {\n",
       "    if (name === 'download') {\n",
       "        this.handle_save(this, null);\n",
       "    } else {\n",
       "        this.send_message('toolbar_button', { name: name });\n",
       "    }\n",
       "};\n",
       "\n",
       "mpl.figure.prototype.toolbar_button_onmouseover = function (tooltip) {\n",
       "    this.message.textContent = tooltip;\n",
       "};\n",
       "\n",
       "///////////////// REMAINING CONTENT GENERATED BY embed_js.py /////////////////\n",
       "// prettier-ignore\n",
       "var _JSXTOOLS_RESIZE_OBSERVER=function(A){var t,i=new WeakMap,n=new WeakMap,a=new WeakMap,r=new WeakMap,o=new Set;function s(e){if(!(this instanceof s))throw new TypeError(\"Constructor requires 'new' operator\");i.set(this,e)}function h(){throw new TypeError(\"Function is not a constructor\")}function c(e,t,i,n){e=0 in arguments?Number(arguments[0]):0,t=1 in arguments?Number(arguments[1]):0,i=2 in arguments?Number(arguments[2]):0,n=3 in arguments?Number(arguments[3]):0,this.right=(this.x=this.left=e)+(this.width=i),this.bottom=(this.y=this.top=t)+(this.height=n),Object.freeze(this)}function d(){t=requestAnimationFrame(d);var s=new WeakMap,p=new Set;o.forEach((function(t){r.get(t).forEach((function(i){var r=t instanceof window.SVGElement,o=a.get(t),d=r?0:parseFloat(o.paddingTop),f=r?0:parseFloat(o.paddingRight),l=r?0:parseFloat(o.paddingBottom),u=r?0:parseFloat(o.paddingLeft),g=r?0:parseFloat(o.borderTopWidth),m=r?0:parseFloat(o.borderRightWidth),w=r?0:parseFloat(o.borderBottomWidth),b=u+f,F=d+l,v=(r?0:parseFloat(o.borderLeftWidth))+m,W=g+w,y=r?0:t.offsetHeight-W-t.clientHeight,E=r?0:t.offsetWidth-v-t.clientWidth,R=b+v,z=F+W,M=r?t.width:parseFloat(o.width)-R-E,O=r?t.height:parseFloat(o.height)-z-y;if(n.has(t)){var k=n.get(t);if(k[0]===M&&k[1]===O)return}n.set(t,[M,O]);var S=Object.create(h.prototype);S.target=t,S.contentRect=new c(u,d,M,O),s.has(i)||(s.set(i,[]),p.add(i)),s.get(i).push(S)}))})),p.forEach((function(e){i.get(e).call(e,s.get(e),e)}))}return s.prototype.observe=function(i){if(i instanceof window.Element){r.has(i)||(r.set(i,new Set),o.add(i),a.set(i,window.getComputedStyle(i)));var n=r.get(i);n.has(this)||n.add(this),cancelAnimationFrame(t),t=requestAnimationFrame(d)}},s.prototype.unobserve=function(i){if(i instanceof window.Element&&r.has(i)){var n=r.get(i);n.has(this)&&(n.delete(this),n.size||(r.delete(i),o.delete(i))),n.size||r.delete(i),o.size||cancelAnimationFrame(t)}},A.DOMRectReadOnly=c,A.ResizeObserver=s,A.ResizeObserverEntry=h,A}; // eslint-disable-line\n",
       "mpl.toolbar_items = [[\"Home\", \"Reset original view\", \"fa fa-home icon-home\", \"home\"], [\"Back\", \"Back to previous view\", \"fa fa-arrow-left icon-arrow-left\", \"back\"], [\"Forward\", \"Forward to next view\", \"fa fa-arrow-right icon-arrow-right\", \"forward\"], [\"\", \"\", \"\", \"\"], [\"Pan\", \"Left button pans, Right button zooms\\nx/y fixes axis, CTRL fixes aspect\", \"fa fa-arrows icon-move\", \"pan\"], [\"Zoom\", \"Zoom to rectangle\\nx/y fixes axis, CTRL fixes aspect\", \"fa fa-square-o icon-check-empty\", \"zoom\"], [\"\", \"\", \"\", \"\"], [\"Download\", \"Download plot\", \"fa fa-floppy-o icon-save\", \"download\"]];\n",
       "\n",
       "mpl.extensions = [\"eps\", \"jpeg\", \"pdf\", \"png\", \"ps\", \"raw\", \"svg\", \"tif\"];\n",
       "\n",
       "mpl.default_extension = \"png\";/* global mpl */\n",
       "\n",
       "var comm_websocket_adapter = function (comm) {\n",
       "    // Create a \"websocket\"-like object which calls the given IPython comm\n",
       "    // object with the appropriate methods. Currently this is a non binary\n",
       "    // socket, so there is still some room for performance tuning.\n",
       "    var ws = {};\n",
       "\n",
       "    ws.close = function () {\n",
       "        comm.close();\n",
       "    };\n",
       "    ws.send = function (m) {\n",
       "        //console.log('sending', m);\n",
       "        comm.send(m);\n",
       "    };\n",
       "    // Register the callback with on_msg.\n",
       "    comm.on_msg(function (msg) {\n",
       "        //console.log('receiving', msg['content']['data'], msg);\n",
       "        // Pass the mpl event to the overridden (by mpl) onmessage function.\n",
       "        ws.onmessage(msg['content']['data']);\n",
       "    });\n",
       "    return ws;\n",
       "};\n",
       "\n",
       "mpl.mpl_figure_comm = function (comm, msg) {\n",
       "    // This is the function which gets called when the mpl process\n",
       "    // starts-up an IPython Comm through the \"matplotlib\" channel.\n",
       "\n",
       "    var id = msg.content.data.id;\n",
       "    // Get hold of the div created by the display call when the Comm\n",
       "    // socket was opened in Python.\n",
       "    var element = document.getElementById(id);\n",
       "    var ws_proxy = comm_websocket_adapter(comm);\n",
       "\n",
       "    function ondownload(figure, _format) {\n",
       "        window.open(figure.canvas.toDataURL());\n",
       "    }\n",
       "\n",
       "    var fig = new mpl.figure(id, ws_proxy, ondownload, element);\n",
       "\n",
       "    // Call onopen now - mpl needs it, as it is assuming we've passed it a real\n",
       "    // web socket which is closed, not our websocket->open comm proxy.\n",
       "    ws_proxy.onopen();\n",
       "\n",
       "    fig.parent_element = element;\n",
       "    fig.cell_info = mpl.find_output_cell(\"<div id='\" + id + \"'></div>\");\n",
       "    if (!fig.cell_info) {\n",
       "        console.error('Failed to find cell for figure', id, fig);\n",
       "        return;\n",
       "    }\n",
       "    fig.cell_info[0].output_area.element.on(\n",
       "        'cleared',\n",
       "        { fig: fig },\n",
       "        fig._remove_fig_handler\n",
       "    );\n",
       "};\n",
       "\n",
       "mpl.figure.prototype.handle_close = function (fig, msg) {\n",
       "    var width = fig.canvas.width / fig.ratio;\n",
       "    fig.cell_info[0].output_area.element.off(\n",
       "        'cleared',\n",
       "        fig._remove_fig_handler\n",
       "    );\n",
       "    fig.resizeObserverInstance.unobserve(fig.canvas_div);\n",
       "\n",
       "    // Update the output cell to use the data from the current canvas.\n",
       "    fig.push_to_output();\n",
       "    var dataURL = fig.canvas.toDataURL();\n",
       "    // Re-enable the keyboard manager in IPython - without this line, in FF,\n",
       "    // the notebook keyboard shortcuts fail.\n",
       "    IPython.keyboard_manager.enable();\n",
       "    fig.parent_element.innerHTML =\n",
       "        '<img src=\"' + dataURL + '\" width=\"' + width + '\">';\n",
       "    fig.close_ws(fig, msg);\n",
       "};\n",
       "\n",
       "mpl.figure.prototype.close_ws = function (fig, msg) {\n",
       "    fig.send_message('closing', msg);\n",
       "    // fig.ws.close()\n",
       "};\n",
       "\n",
       "mpl.figure.prototype.push_to_output = function (_remove_interactive) {\n",
       "    // Turn the data on the canvas into data in the output cell.\n",
       "    var width = this.canvas.width / this.ratio;\n",
       "    var dataURL = this.canvas.toDataURL();\n",
       "    this.cell_info[1]['text/html'] =\n",
       "        '<img src=\"' + dataURL + '\" width=\"' + width + '\">';\n",
       "};\n",
       "\n",
       "mpl.figure.prototype.updated_canvas_event = function () {\n",
       "    // Tell IPython that the notebook contents must change.\n",
       "    IPython.notebook.set_dirty(true);\n",
       "    this.send_message('ack', {});\n",
       "    var fig = this;\n",
       "    // Wait a second, then push the new image to the DOM so\n",
       "    // that it is saved nicely (might be nice to debounce this).\n",
       "    setTimeout(function () {\n",
       "        fig.push_to_output();\n",
       "    }, 1000);\n",
       "};\n",
       "\n",
       "mpl.figure.prototype._init_toolbar = function () {\n",
       "    var fig = this;\n",
       "\n",
       "    var toolbar = document.createElement('div');\n",
       "    toolbar.classList = 'btn-toolbar';\n",
       "    this.root.appendChild(toolbar);\n",
       "\n",
       "    function on_click_closure(name) {\n",
       "        return function (_event) {\n",
       "            return fig.toolbar_button_onclick(name);\n",
       "        };\n",
       "    }\n",
       "\n",
       "    function on_mouseover_closure(tooltip) {\n",
       "        return function (event) {\n",
       "            if (!event.currentTarget.disabled) {\n",
       "                return fig.toolbar_button_onmouseover(tooltip);\n",
       "            }\n",
       "        };\n",
       "    }\n",
       "\n",
       "    fig.buttons = {};\n",
       "    var buttonGroup = document.createElement('div');\n",
       "    buttonGroup.classList = 'btn-group';\n",
       "    var button;\n",
       "    for (var toolbar_ind in mpl.toolbar_items) {\n",
       "        var name = mpl.toolbar_items[toolbar_ind][0];\n",
       "        var tooltip = mpl.toolbar_items[toolbar_ind][1];\n",
       "        var image = mpl.toolbar_items[toolbar_ind][2];\n",
       "        var method_name = mpl.toolbar_items[toolbar_ind][3];\n",
       "\n",
       "        if (!name) {\n",
       "            /* Instead of a spacer, we start a new button group. */\n",
       "            if (buttonGroup.hasChildNodes()) {\n",
       "                toolbar.appendChild(buttonGroup);\n",
       "            }\n",
       "            buttonGroup = document.createElement('div');\n",
       "            buttonGroup.classList = 'btn-group';\n",
       "            continue;\n",
       "        }\n",
       "\n",
       "        button = fig.buttons[name] = document.createElement('button');\n",
       "        button.classList = 'btn btn-default';\n",
       "        button.href = '#';\n",
       "        button.title = name;\n",
       "        button.innerHTML = '<i class=\"fa ' + image + ' fa-lg\"></i>';\n",
       "        button.addEventListener('click', on_click_closure(method_name));\n",
       "        button.addEventListener('mouseover', on_mouseover_closure(tooltip));\n",
       "        buttonGroup.appendChild(button);\n",
       "    }\n",
       "\n",
       "    if (buttonGroup.hasChildNodes()) {\n",
       "        toolbar.appendChild(buttonGroup);\n",
       "    }\n",
       "\n",
       "    // Add the status bar.\n",
       "    var status_bar = document.createElement('span');\n",
       "    status_bar.classList = 'mpl-message pull-right';\n",
       "    toolbar.appendChild(status_bar);\n",
       "    this.message = status_bar;\n",
       "\n",
       "    // Add the close button to the window.\n",
       "    var buttongrp = document.createElement('div');\n",
       "    buttongrp.classList = 'btn-group inline pull-right';\n",
       "    button = document.createElement('button');\n",
       "    button.classList = 'btn btn-mini btn-primary';\n",
       "    button.href = '#';\n",
       "    button.title = 'Stop Interaction';\n",
       "    button.innerHTML = '<i class=\"fa fa-power-off icon-remove icon-large\"></i>';\n",
       "    button.addEventListener('click', function (_evt) {\n",
       "        fig.handle_close(fig, {});\n",
       "    });\n",
       "    button.addEventListener(\n",
       "        'mouseover',\n",
       "        on_mouseover_closure('Stop Interaction')\n",
       "    );\n",
       "    buttongrp.appendChild(button);\n",
       "    var titlebar = this.root.querySelector('.ui-dialog-titlebar');\n",
       "    titlebar.insertBefore(buttongrp, titlebar.firstChild);\n",
       "};\n",
       "\n",
       "mpl.figure.prototype._remove_fig_handler = function (event) {\n",
       "    var fig = event.data.fig;\n",
       "    if (event.target !== this) {\n",
       "        // Ignore bubbled events from children.\n",
       "        return;\n",
       "    }\n",
       "    fig.close_ws(fig, {});\n",
       "};\n",
       "\n",
       "mpl.figure.prototype._root_extra_style = function (el) {\n",
       "    el.style.boxSizing = 'content-box'; // override notebook setting of border-box.\n",
       "};\n",
       "\n",
       "mpl.figure.prototype._canvas_extra_style = function (el) {\n",
       "    // this is important to make the div 'focusable\n",
       "    el.setAttribute('tabindex', 0);\n",
       "    // reach out to IPython and tell the keyboard manager to turn it's self\n",
       "    // off when our div gets focus\n",
       "\n",
       "    // location in version 3\n",
       "    if (IPython.notebook.keyboard_manager) {\n",
       "        IPython.notebook.keyboard_manager.register_events(el);\n",
       "    } else {\n",
       "        // location in version 2\n",
       "        IPython.keyboard_manager.register_events(el);\n",
       "    }\n",
       "};\n",
       "\n",
       "mpl.figure.prototype._key_event_extra = function (event, _name) {\n",
       "    var manager = IPython.notebook.keyboard_manager;\n",
       "    if (!manager) {\n",
       "        manager = IPython.keyboard_manager;\n",
       "    }\n",
       "\n",
       "    // Check for shift+enter\n",
       "    if (event.shiftKey && event.which === 13) {\n",
       "        this.canvas_div.blur();\n",
       "        // select the cell after this one\n",
       "        var index = IPython.notebook.find_cell_index(this.cell_info[0]);\n",
       "        IPython.notebook.select(index + 1);\n",
       "    }\n",
       "};\n",
       "\n",
       "mpl.figure.prototype.handle_save = function (fig, _msg) {\n",
       "    fig.ondownload(fig, null);\n",
       "};\n",
       "\n",
       "mpl.find_output_cell = function (html_output) {\n",
       "    // Return the cell and output element which can be found *uniquely* in the notebook.\n",
       "    // Note - this is a bit hacky, but it is done because the \"notebook_saving.Notebook\"\n",
       "    // IPython event is triggered only after the cells have been serialised, which for\n",
       "    // our purposes (turning an active figure into a static one), is too late.\n",
       "    var cells = IPython.notebook.get_cells();\n",
       "    var ncells = cells.length;\n",
       "    for (var i = 0; i < ncells; i++) {\n",
       "        var cell = cells[i];\n",
       "        if (cell.cell_type === 'code') {\n",
       "            for (var j = 0; j < cell.output_area.outputs.length; j++) {\n",
       "                var data = cell.output_area.outputs[j];\n",
       "                if (data.data) {\n",
       "                    // IPython >= 3 moved mimebundle to data attribute of output\n",
       "                    data = data.data;\n",
       "                }\n",
       "                if (data['text/html'] === html_output) {\n",
       "                    return [cell, data, j];\n",
       "                }\n",
       "            }\n",
       "        }\n",
       "    }\n",
       "};\n",
       "\n",
       "// Register the function which deals with the matplotlib target/channel.\n",
       "// The kernel may be null if the page has been refreshed.\n",
       "if (IPython.notebook.kernel !== null) {\n",
       "    IPython.notebook.kernel.comm_manager.register_target(\n",
       "        'matplotlib',\n",
       "        mpl.mpl_figure_comm\n",
       "    );\n",
       "}\n"
      ],
      "text/plain": [
       "<IPython.core.display.Javascript object>"
      ]
     },
     "metadata": {},
     "output_type": "display_data"
    },
    {
     "data": {
      "text/html": [
       "<img src=\"data:image/png;base64,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\" width=\"639.9999861283738\">"
      ],
      "text/plain": [
       "<IPython.core.display.HTML object>"
      ]
     },
     "metadata": {},
     "output_type": "display_data"
    },
    {
     "data": {
      "text/plain": [
       "Text(0, 0.5, 'Probability')"
      ]
     },
     "execution_count": 11,
     "metadata": {},
     "output_type": "execute_result"
    }
   ],
   "source": [
    "mag_diff = sdss_spec['psfMag_g'] - sdss_spec['modelMag_g']\n",
    "\n",
    "plt.hist(mag_diff, histtype='step', density=True, bins = 20)\n",
    "\n",
    "plt.xlabel('Magnitude difference')\n",
    "plt.ylabel('Probability')"
   ]
  },
  {
   "cell_type": "markdown",
   "metadata": {
    "slideshow": {
     "slide_type": "skip"
    }
   },
   "source": [
    "`pandas` can also be used to aggregate the results of a search.\n",
    "\n",
    "**Problem 0c**\n",
    "\n",
    "How many extended sources (`type` = `ext`) have `modelMag_i` between 19 and 20? Use as few lines as possible."
   ]
  },
  {
   "cell_type": "code",
   "execution_count": 19,
   "metadata": {
    "slideshow": {
     "slide_type": "skip"
    }
   },
   "outputs": [
    {
     "data": {
      "text/plain": [
       "369"
      ]
     },
     "execution_count": 19,
     "metadata": {},
     "output_type": "execute_result"
    }
   ],
   "source": [
    "sdss_spec_ext = sdss_spec[sdss_spec['type'] == 'ext'] \n",
    "len(sdss_spec_ext[(sdss_spec_ext['modelMag_i'] >=19) & (sdss_spec_ext['modelMag_i'] <=20)])"
   ]
  },
  {
   "cell_type": "markdown",
   "metadata": {
    "slideshow": {
     "slide_type": "skip"
    }
   },
   "source": [
    "`pandas` also enables [`GROUP BY`](http://pandas.pydata.org/pandas-docs/stable/user_guide/groupby.html) operations, where the data are split based on some criterion, a function is then applied to the groups, and the results are then combined back into a data structure."
   ]
  },
  {
   "cell_type": "markdown",
   "metadata": {
    "slideshow": {
     "slide_type": "skip"
    }
   },
   "source": [
    "**Problem 0d**\n",
    "\n",
    "Group the data by their `type` and then report the minimum, median, and maximum redshift of each group. Can you immediately tell anything about these sources based on these results?\n",
    "\n",
    "*Hint* - just execute the cell below."
   ]
  },
  {
   "cell_type": "code",
   "execution_count": 4,
   "metadata": {
    "slideshow": {
     "slide_type": "skip"
    }
   },
   "outputs": [
    {
     "name": "stdout",
     "output_type": "stream",
     "text": [
      "type\n",
      "ext   -0.005469\n",
      "ps    -0.010875\n",
      "Name: z, dtype: float64\n",
      "type\n",
      "ext    0.107352\n",
      "ps     0.000275\n",
      "Name: z, dtype: float64\n",
      "type\n",
      "ext    6.839257\n",
      "ps     6.687022\n",
      "Name: z, dtype: float64\n"
     ]
    }
   ],
   "source": [
    "grouped = sdss_spec.groupby([sdss_spec.type])\n",
    "print(grouped['z'].min())\n",
    "print(grouped['z'].median())\n",
    "print(grouped['z'].max())"
   ]
  },
  {
   "cell_type": "markdown",
   "metadata": {
    "slideshow": {
     "slide_type": "skip"
    }
   },
   "source": [
    "Finally, yesterday we only briefly discussed joining tables, but this is where relational databases really shine.\n",
    "\n",
    "For this example we only have a single table, so we will exclude any examples of a `pandas` join, but there is functionality to [join or merge](https://pandas.pydata.org/pandas-docs/stable/user_guide/merging.html) dataframes in a fashion that is fully analogous to databases."
   ]
  },
  {
   "cell_type": "markdown",
   "metadata": {
    "slideshow": {
     "slide_type": "slide"
    }
   },
   "source": [
    "## Problem 1) The Sins of Our Predecessors"
   ]
  },
  {
   "cell_type": "markdown",
   "metadata": {
    "slideshow": {
     "slide_type": "slide"
    }
   },
   "source": [
    "If at any point in your career you need to access archival infrared data, you will likely need to retrieve that information from the [NASA IPAC InfraRed Science Archive](https://irsa.ipac.caltech.edu). IRSA houses the data for every major NASA IR mission, and several ground-based missions as well (e.g., 2MASS, IRTF). Whether you are sudying brown dwarfs, explosive transients, solar system objects, star-formation, galaxy evolution, Milky Way dust and the resulting extinction of extragalactic observations, or quasars (and much more) the IR plays a critical role."
   ]
  },
  {
   "cell_type": "markdown",
   "metadata": {
    "slideshow": {
     "slide_type": "subslide"
    }
   },
   "source": [
    "Given the importance of IR observations, it stands to reason that IRSA would provide data in a simple to read format for modern machines, such as comma separated values or FITS binary tables...\n",
    "\n",
    "Right?..."
   ]
  },
  {
   "cell_type": "markdown",
   "metadata": {
    "slideshow": {
     "slide_type": "subslide"
    }
   },
   "source": [
    "**Right?...**"
   ]
  },
  {
   "cell_type": "markdown",
   "metadata": {
    "slideshow": {
     "slide_type": "subslide"
    }
   },
   "source": [
    "In fact, IRSA has created their own standard for storing data in a text file. The particulars of this format can be found in `irsa_catalog_WISE_iPTF14jg_search_results.tbl`, a file that is written in the standard IRSA format."
   ]
  },
  {
   "cell_type": "markdown",
   "metadata": {
    "slideshow": {
     "slide_type": "skip"
    }
   },
   "source": [
    "*shameless plug alert!* iPTF14jg is a [really strange star](https://arxiv.org/pdf/1901.10693.pdf) that exhibited a large outburst that we still don't totally understand. The associated data file includes [NEOWISE](https://neowise.ipac.caltech.edu/) observations of the mid-IR evolution of this outburst."
   ]
  },
  {
   "cell_type": "markdown",
   "metadata": {
    "slideshow": {
     "slide_type": "slide"
    }
   },
   "source": [
    "**Problem 1a**\n",
    "\n",
    "Using `pandas` read the data in the IRSA table file into a `DataFrame` object.\n",
    "\n",
    "*Hint 1* - you absolutely should look at the text file to develop a strategy to accomplish this goal.\n",
    "\n",
    "*Hint 2* - you may want to manipulate the text file so that it can more easily be read by `pandas`. **If you do this** be sure to copy the file to another name as you will want to leave the original intact. "
   ]
  },
  {
   "cell_type": "code",
   "execution_count": 4,
   "metadata": {
    "slideshow": {
     "slide_type": "subslide"
    }
   },
   "outputs": [
    {
     "data": {
      "text/html": [
       "<div>\n",
       "<style scoped>\n",
       "    .dataframe tbody tr th:only-of-type {\n",
       "        vertical-align: middle;\n",
       "    }\n",
       "\n",
       "    .dataframe tbody tr th {\n",
       "        vertical-align: top;\n",
       "    }\n",
       "\n",
       "    .dataframe thead th {\n",
       "        text-align: right;\n",
       "    }\n",
       "</style>\n",
       "<table border=\"1\" class=\"dataframe\">\n",
       "  <thead>\n",
       "    <tr style=\"text-align: right;\">\n",
       "      <th></th>\n",
       "      <th>ra</th>\n",
       "      <th>dec</th>\n",
       "      <th>sigra</th>\n",
       "      <th>sigdec</th>\n",
       "      <th>sigradec</th>\n",
       "      <th>w1mpro</th>\n",
       "      <th>w1sigmpro</th>\n",
       "      <th>w1snr</th>\n",
       "      <th>w1rchi2</th>\n",
       "      <th>w2mpro</th>\n",
       "      <th>...</th>\n",
       "      <th>w4sigmpro_allwise</th>\n",
       "      <th>tmass_key</th>\n",
       "      <th>j_m_2mass</th>\n",
       "      <th>j_msig_2mass</th>\n",
       "      <th>h_m_2mass</th>\n",
       "      <th>h_msig_2mass</th>\n",
       "      <th>k_m_2mass</th>\n",
       "      <th>k_msig_2mass</th>\n",
       "      <th>dist</th>\n",
       "      <th>angle</th>\n",
       "    </tr>\n",
       "  </thead>\n",
       "  <tbody>\n",
       "    <tr>\n",
       "      <th>0</th>\n",
       "      <td>40.125553</td>\n",
       "      <td>60.879286</td>\n",
       "      <td>0.0663</td>\n",
       "      <td>0.0608</td>\n",
       "      <td>-0.0156</td>\n",
       "      <td>12.774</td>\n",
       "      <td>0.028</td>\n",
       "      <td>38.6</td>\n",
       "      <td>1.3610</td>\n",
       "      <td>11.935</td>\n",
       "      <td>...</td>\n",
       "      <td>NaN</td>\n",
       "      <td>NaN</td>\n",
       "      <td>NaN</td>\n",
       "      <td>NaN</td>\n",
       "      <td>NaN</td>\n",
       "      <td>NaN</td>\n",
       "      <td>NaN</td>\n",
       "      <td>NaN</td>\n",
       "      <td>0.097389</td>\n",
       "      <td>209.287467</td>\n",
       "    </tr>\n",
       "    <tr>\n",
       "      <th>1</th>\n",
       "      <td>40.125572</td>\n",
       "      <td>60.879280</td>\n",
       "      <td>0.0645</td>\n",
       "      <td>0.0599</td>\n",
       "      <td>-0.0223</td>\n",
       "      <td>12.840</td>\n",
       "      <td>0.028</td>\n",
       "      <td>38.7</td>\n",
       "      <td>1.5550</td>\n",
       "      <td>11.897</td>\n",
       "      <td>...</td>\n",
       "      <td>NaN</td>\n",
       "      <td>NaN</td>\n",
       "      <td>NaN</td>\n",
       "      <td>NaN</td>\n",
       "      <td>NaN</td>\n",
       "      <td>NaN</td>\n",
       "      <td>NaN</td>\n",
       "      <td>NaN</td>\n",
       "      <td>0.107707</td>\n",
       "      <td>187.006050</td>\n",
       "    </tr>\n",
       "    <tr>\n",
       "      <th>2</th>\n",
       "      <td>40.125574</td>\n",
       "      <td>60.879280</td>\n",
       "      <td>0.1164</td>\n",
       "      <td>0.1059</td>\n",
       "      <td>-0.0390</td>\n",
       "      <td>13.587</td>\n",
       "      <td>0.041</td>\n",
       "      <td>26.4</td>\n",
       "      <td>1.6470</td>\n",
       "      <td>13.145</td>\n",
       "      <td>...</td>\n",
       "      <td>NaN</td>\n",
       "      <td>NaN</td>\n",
       "      <td>NaN</td>\n",
       "      <td>NaN</td>\n",
       "      <td>NaN</td>\n",
       "      <td>NaN</td>\n",
       "      <td>NaN</td>\n",
       "      <td>NaN</td>\n",
       "      <td>0.108928</td>\n",
       "      <td>185.907602</td>\n",
       "    </tr>\n",
       "    <tr>\n",
       "      <th>3</th>\n",
       "      <td>40.125564</td>\n",
       "      <td>60.879274</td>\n",
       "      <td>0.0856</td>\n",
       "      <td>0.0860</td>\n",
       "      <td>-0.0310</td>\n",
       "      <td>13.198</td>\n",
       "      <td>0.035</td>\n",
       "      <td>31.2</td>\n",
       "      <td>1.7250</td>\n",
       "      <td>12.644</td>\n",
       "      <td>...</td>\n",
       "      <td>NaN</td>\n",
       "      <td>NaN</td>\n",
       "      <td>NaN</td>\n",
       "      <td>NaN</td>\n",
       "      <td>NaN</td>\n",
       "      <td>NaN</td>\n",
       "      <td>NaN</td>\n",
       "      <td>NaN</td>\n",
       "      <td>0.131052</td>\n",
       "      <td>192.038104</td>\n",
       "    </tr>\n",
       "    <tr>\n",
       "      <th>4</th>\n",
       "      <td>40.125552</td>\n",
       "      <td>60.879271</td>\n",
       "      <td>0.0679</td>\n",
       "      <td>0.0685</td>\n",
       "      <td>-0.0218</td>\n",
       "      <td>12.807</td>\n",
       "      <td>0.028</td>\n",
       "      <td>38.8</td>\n",
       "      <td>1.4660</td>\n",
       "      <td>11.989</td>\n",
       "      <td>...</td>\n",
       "      <td>NaN</td>\n",
       "      <td>NaN</td>\n",
       "      <td>NaN</td>\n",
       "      <td>NaN</td>\n",
       "      <td>NaN</td>\n",
       "      <td>NaN</td>\n",
       "      <td>NaN</td>\n",
       "      <td>NaN</td>\n",
       "      <td>0.147884</td>\n",
       "      <td>199.589209</td>\n",
       "    </tr>\n",
       "    <tr>\n",
       "      <th>...</th>\n",
       "      <td>...</td>\n",
       "      <td>...</td>\n",
       "      <td>...</td>\n",
       "      <td>...</td>\n",
       "      <td>...</td>\n",
       "      <td>...</td>\n",
       "      <td>...</td>\n",
       "      <td>...</td>\n",
       "      <td>...</td>\n",
       "      <td>...</td>\n",
       "      <td>...</td>\n",
       "      <td>...</td>\n",
       "      <td>...</td>\n",
       "      <td>...</td>\n",
       "      <td>...</td>\n",
       "      <td>...</td>\n",
       "      <td>...</td>\n",
       "      <td>...</td>\n",
       "      <td>...</td>\n",
       "      <td>...</td>\n",
       "      <td>...</td>\n",
       "    </tr>\n",
       "    <tr>\n",
       "      <th>129</th>\n",
       "      <td>40.125277</td>\n",
       "      <td>60.879341</td>\n",
       "      <td>0.1150</td>\n",
       "      <td>0.1078</td>\n",
       "      <td>-0.0397</td>\n",
       "      <td>13.511</td>\n",
       "      <td>0.041</td>\n",
       "      <td>26.2</td>\n",
       "      <td>1.2990</td>\n",
       "      <td>12.668</td>\n",
       "      <td>...</td>\n",
       "      <td>NaN</td>\n",
       "      <td>NaN</td>\n",
       "      <td>NaN</td>\n",
       "      <td>NaN</td>\n",
       "      <td>NaN</td>\n",
       "      <td>NaN</td>\n",
       "      <td>NaN</td>\n",
       "      <td>NaN</td>\n",
       "      <td>0.542346</td>\n",
       "      <td>281.913746</td>\n",
       "    </tr>\n",
       "    <tr>\n",
       "      <th>130</th>\n",
       "      <td>40.125317</td>\n",
       "      <td>60.879219</td>\n",
       "      <td>0.1035</td>\n",
       "      <td>0.1091</td>\n",
       "      <td>-0.0272</td>\n",
       "      <td>13.328</td>\n",
       "      <td>0.038</td>\n",
       "      <td>28.6</td>\n",
       "      <td>1.8680</td>\n",
       "      <td>12.893</td>\n",
       "      <td>...</td>\n",
       "      <td>NaN</td>\n",
       "      <td>NaN</td>\n",
       "      <td>NaN</td>\n",
       "      <td>NaN</td>\n",
       "      <td>NaN</td>\n",
       "      <td>NaN</td>\n",
       "      <td>NaN</td>\n",
       "      <td>NaN</td>\n",
       "      <td>0.565899</td>\n",
       "      <td>234.448038</td>\n",
       "    </tr>\n",
       "    <tr>\n",
       "      <th>131</th>\n",
       "      <td>40.125625</td>\n",
       "      <td>60.879152</td>\n",
       "      <td>0.1463</td>\n",
       "      <td>0.1293</td>\n",
       "      <td>-0.0575</td>\n",
       "      <td>13.734</td>\n",
       "      <td>0.048</td>\n",
       "      <td>22.9</td>\n",
       "      <td>0.9954</td>\n",
       "      <td>13.257</td>\n",
       "      <td>...</td>\n",
       "      <td>NaN</td>\n",
       "      <td>NaN</td>\n",
       "      <td>NaN</td>\n",
       "      <td>NaN</td>\n",
       "      <td>NaN</td>\n",
       "      <td>NaN</td>\n",
       "      <td>NaN</td>\n",
       "      <td>NaN</td>\n",
       "      <td>0.574875</td>\n",
       "      <td>172.170603</td>\n",
       "    </tr>\n",
       "    <tr>\n",
       "      <th>132</th>\n",
       "      <td>40.125279</td>\n",
       "      <td>60.879235</td>\n",
       "      <td>0.1174</td>\n",
       "      <td>0.1057</td>\n",
       "      <td>-0.0497</td>\n",
       "      <td>13.360</td>\n",
       "      <td>0.049</td>\n",
       "      <td>22.3</td>\n",
       "      <td>0.7856</td>\n",
       "      <td>12.729</td>\n",
       "      <td>...</td>\n",
       "      <td>NaN</td>\n",
       "      <td>NaN</td>\n",
       "      <td>NaN</td>\n",
       "      <td>NaN</td>\n",
       "      <td>NaN</td>\n",
       "      <td>NaN</td>\n",
       "      <td>NaN</td>\n",
       "      <td>NaN</td>\n",
       "      <td>0.592270</td>\n",
       "      <td>242.957045</td>\n",
       "    </tr>\n",
       "    <tr>\n",
       "      <th>133</th>\n",
       "      <td>40.126044</td>\n",
       "      <td>60.879185</td>\n",
       "      <td>0.1911</td>\n",
       "      <td>0.1661</td>\n",
       "      <td>-0.0549</td>\n",
       "      <td>14.036</td>\n",
       "      <td>0.070</td>\n",
       "      <td>15.4</td>\n",
       "      <td>4.3690</td>\n",
       "      <td>13.472</td>\n",
       "      <td>...</td>\n",
       "      <td>NaN</td>\n",
       "      <td>NaN</td>\n",
       "      <td>NaN</td>\n",
       "      <td>NaN</td>\n",
       "      <td>NaN</td>\n",
       "      <td>NaN</td>\n",
       "      <td>NaN</td>\n",
       "      <td>NaN</td>\n",
       "      <td>0.929713</td>\n",
       "      <td>119.074968</td>\n",
       "    </tr>\n",
       "  </tbody>\n",
       "</table>\n",
       "<p>134 rows × 37 columns</p>\n",
       "</div>"
      ],
      "text/plain": [
       "     ra          dec         sigra   sigdec  sigradec  w1mpro  w1sigmpro  \\\n",
       "0     40.125553   60.879286  0.0663  0.0608   -0.0156  12.774      0.028   \n",
       "1     40.125572   60.879280  0.0645  0.0599   -0.0223  12.840      0.028   \n",
       "2     40.125574   60.879280  0.1164  0.1059   -0.0390  13.587      0.041   \n",
       "3     40.125564   60.879274  0.0856  0.0860   -0.0310  13.198      0.035   \n",
       "4     40.125552   60.879271  0.0679  0.0685   -0.0218  12.807      0.028   \n",
       "..          ...         ...     ...     ...       ...     ...        ...   \n",
       "129   40.125277   60.879341  0.1150  0.1078   -0.0397  13.511      0.041   \n",
       "130   40.125317   60.879219  0.1035  0.1091   -0.0272  13.328      0.038   \n",
       "131   40.125625   60.879152  0.1463  0.1293   -0.0575  13.734      0.048   \n",
       "132   40.125279   60.879235  0.1174  0.1057   -0.0497  13.360      0.049   \n",
       "133   40.126044   60.879185  0.1911  0.1661   -0.0549  14.036      0.070   \n",
       "\n",
       "     w1snr   w1rchi2    w2mpro  ...  w4sigmpro_allwise  tmass_key  j_m_2mass  \\\n",
       "0      38.6     1.3610  11.935  ...                NaN        NaN        NaN   \n",
       "1      38.7     1.5550  11.897  ...                NaN        NaN        NaN   \n",
       "2      26.4     1.6470  13.145  ...                NaN        NaN        NaN   \n",
       "3      31.2     1.7250  12.644  ...                NaN        NaN        NaN   \n",
       "4      38.8     1.4660  11.989  ...                NaN        NaN        NaN   \n",
       "..      ...        ...     ...  ...                ...        ...        ...   \n",
       "129    26.2     1.2990  12.668  ...                NaN        NaN        NaN   \n",
       "130    28.6     1.8680  12.893  ...                NaN        NaN        NaN   \n",
       "131    22.9     0.9954  13.257  ...                NaN        NaN        NaN   \n",
       "132    22.3     0.7856  12.729  ...                NaN        NaN        NaN   \n",
       "133    15.4     4.3690  13.472  ...                NaN        NaN        NaN   \n",
       "\n",
       "     j_msig_2mass  h_m_2mass h_msig_2mass k_m_2mass  k_msig_2mass  dist      \\\n",
       "0             NaN        NaN          NaN       NaN           NaN  0.097389   \n",
       "1             NaN        NaN          NaN       NaN           NaN  0.107707   \n",
       "2             NaN        NaN          NaN       NaN           NaN  0.108928   \n",
       "3             NaN        NaN          NaN       NaN           NaN  0.131052   \n",
       "4             NaN        NaN          NaN       NaN           NaN  0.147884   \n",
       "..            ...        ...          ...       ...           ...       ...   \n",
       "129           NaN        NaN          NaN       NaN           NaN  0.542346   \n",
       "130           NaN        NaN          NaN       NaN           NaN  0.565899   \n",
       "131           NaN        NaN          NaN       NaN           NaN  0.574875   \n",
       "132           NaN        NaN          NaN       NaN           NaN  0.592270   \n",
       "133           NaN        NaN          NaN       NaN           NaN  0.929713   \n",
       "\n",
       "     angle       \n",
       "0    209.287467  \n",
       "1    187.006050  \n",
       "2    185.907602  \n",
       "3    192.038104  \n",
       "4    199.589209  \n",
       "..          ...  \n",
       "129  281.913746  \n",
       "130  234.448038  \n",
       "131  172.170603  \n",
       "132  242.957045  \n",
       "133  119.074968  \n",
       "\n",
       "[134 rows x 37 columns]"
      ]
     },
     "execution_count": 4,
     "metadata": {},
     "output_type": "execute_result"
    }
   ],
   "source": [
    "# Use pandas to read in the IRSA data\n",
    "loc = '/home/radhakrishnan/Downloads/Others/dsfp_wrangling/'\n",
    "file = 'irsa_catalog_WISE_iPTF14jg_search_results.tbl'\n",
    "\n",
    "header = pd.read_table(loc+file, comment='\\\\', delimiter='|')\n",
    "header = header.columns[1:-1]\n",
    "dat = pd.read_table(loc+file, header=93 , skiprows=2, delim_whitespace=True, names=header)\n",
    "\n",
    "dat"
   ]
  },
  {
   "cell_type": "markdown",
   "metadata": {
    "slideshow": {
     "slide_type": "subslide"
    }
   },
   "source": [
    "That pure python solution is a bit annoying as it requires a for loop with a break, and specific knowledge about how IRSA tables handler data headers (hence the use of `linenum + 4` for `skiprows`). Alternatively, one could  manipulate the data file to read in the data."
   ]
  },
  {
   "cell_type": "code",
   "execution_count": null,
   "metadata": {
    "slideshow": {
     "slide_type": "subslide"
    }
   },
   "outputs": [],
   "source": [
    "# 2nd solution - YOU DON'T NEED TO DO THIS"
   ]
  },
  {
   "cell_type": "markdown",
   "metadata": {
    "slideshow": {
     "slide_type": "subslide"
    }
   },
   "source": [
    "That truly wasn't all that better - as it required a bunch of clicks/text editor edits. (There are programs such as `sed` and `awk` that could be used to execute all the necessary edits from the command line, but that too is cumbersome and somewhat like the initial all `python` solution). \n",
    "\n",
    "If astronomers are creating data in a \"standard\" format, then it ought to be easy for other astronomers to access that data."
   ]
  },
  {
   "cell_type": "markdown",
   "metadata": {
    "slideshow": {
     "slide_type": "subslide"
    }
   },
   "source": [
    "Fortunately, in this particular case, there is an easy solution - [`astropy Tables`](http://docs.astropy.org/en/stable/table/). \n",
    "\n",
    "IRSA tables are so commonly used throughout the community, that the folks at `astropy` have created a convenience method for all of us to read in tables created in that particular (unusual?) format."
   ]
  },
  {
   "cell_type": "markdown",
   "metadata": {
    "slideshow": {
     "slide_type": "slide"
    }
   },
   "source": [
    "**Problem 1b**\n",
    "\n",
    "Use [`Table.read()`](http://docs.astropy.org/en/stable/api/astropy.table.Table.html#astropy.table.Table.read) to read in `irsa_catalog_WISE_iPTF14jg_search_results.tbl` to an `astropy Table` object."
   ]
  },
  {
   "cell_type": "code",
   "execution_count": 5,
   "metadata": {
    "slideshow": {
     "slide_type": "subslide"
    }
   },
   "outputs": [
    {
     "data": {
      "text/html": [
       "<div><i>Table length=137</i>\n",
       "<table id=\"table139948410347088\" class=\"table-striped table-bordered table-condensed\">\n",
       "<thead><tr><th>ra</th><th>dec</th><th>sigra</th><th>sigdec</th><th>sigradec</th><th>w1mpro</th><th>w1sigmpro</th><th>w1snr</th><th>w1rchi2</th><th>w2mpro</th><th>w2sigmpro</th><th>w2snr</th><th>w2rchi2</th><th>nb</th><th>na</th><th>cc_flags</th><th>ph_qual</th><th>qual_frame</th><th>mjd</th><th>allwise_cntr</th><th>w1mpro_allwise</th><th>w1sigmpro_allwise</th><th>w2mpro_allwise</th><th>w2sigmpro_allwise</th><th>w3mpro_allwise</th><th>w3sigmpro_allwise</th><th>w4mpro_allwise</th><th>w4sigmpro_allwise</th><th>tmass_key</th><th>j_m_2mass</th><th>j_msig_2mass</th><th>h_m_2mass</th><th>h_msig_2mass</th><th>k_m_2mass</th><th>k_msig_2mass</th><th>dist</th><th>angle</th></tr></thead>\n",
       "<thead><tr><th>deg</th><th>deg</th><th>arcsec</th><th>arcsec</th><th>arcsec</th><th>mag</th><th>mag</th><th></th><th></th><th>mag</th><th>mag</th><th></th><th></th><th></th><th></th><th></th><th></th><th></th><th>mjdate</th><th></th><th>mag</th><th>mag</th><th>mag</th><th>mag</th><th>mag</th><th>mag</th><th>mag</th><th>mag</th><th></th><th>mag</th><th>mag</th><th>mag</th><th>mag</th><th>mag</th><th>mag</th><th>arcsec</th><th>deg</th></tr></thead>\n",
       "<thead><tr><th>float64</th><th>float64</th><th>float64</th><th>float64</th><th>float64</th><th>float64</th><th>float64</th><th>float64</th><th>float64</th><th>float64</th><th>float64</th><th>float64</th><th>float64</th><th>int64</th><th>int64</th><th>str4</th><th>str2</th><th>int64</th><th>float64</th><th>int64</th><th>float64</th><th>float64</th><th>float64</th><th>float64</th><th>float64</th><th>float64</th><th>float64</th><th>float64</th><th>int64</th><th>float64</th><th>float64</th><th>float64</th><th>float64</th><th>float64</th><th>float64</th><th>float64</th><th>float64</th></tr></thead>\n",
       "<tr><td>40.1255655</td><td>60.8793063</td><td>0.0947</td><td>0.0936</td><td>-0.0337</td><td>13.251</td><td>0.038</td><td>28.8</td><td>0.8767</td><td>12.735</td><td>0.058</td><td>18.6</td><td>0.7135</td><td>1</td><td>0</td><td>0000</td><td>AA</td><td>10</td><td>57621.23501414</td><td>--</td><td>--</td><td>--</td><td>--</td><td>--</td><td>--</td><td>--</td><td>--</td><td>--</td><td>--</td><td>--</td><td>--</td><td>--</td><td>--</td><td>--</td><td>--</td><td>0.028668</td><td>242.330013</td></tr>\n",
       "<tr><td>40.125574</td><td>60.879297</td><td>0.0925</td><td>0.0874</td><td>-0.0397</td><td>13.241</td><td>0.036</td><td>30.0</td><td>1.261</td><td>12.629</td><td>0.051</td><td>21.2</td><td>1.121</td><td>1</td><td>0</td><td>0000</td><td>AA</td><td>5</td><td>57621.62810604</td><td>--</td><td>--</td><td>--</td><td>--</td><td>--</td><td>--</td><td>--</td><td>--</td><td>--</td><td>--</td><td>--</td><td>--</td><td>--</td><td>--</td><td>--</td><td>--</td><td>0.048011</td><td>192.659014</td></tr>\n",
       "<tr><td>40.1256226</td><td>60.8793176</td><td>0.0808</td><td>0.0794</td><td>0.0098</td><td>12.753</td><td>0.039</td><td>27.8</td><td>0.764</td><td>11.901</td><td>0.034</td><td>32.0</td><td>1.059</td><td>1</td><td>0</td><td>0000</td><td>AA</td><td>10</td><td>57063.79830186</td><td>--</td><td>--</td><td>--</td><td>--</td><td>--</td><td>--</td><td>--</td><td>--</td><td>--</td><td>--</td><td>--</td><td>--</td><td>--</td><td>--</td><td>--</td><td>--</td><td>0.079498</td><td>69.867298</td></tr>\n",
       "<tr><td>40.1255528</td><td>60.8792864</td><td>0.0663</td><td>0.0608</td><td>-0.0156</td><td>12.774</td><td>0.028</td><td>38.6</td><td>1.361</td><td>11.935</td><td>0.037</td><td>29.3</td><td>0.7133</td><td>1</td><td>0</td><td>0000</td><td>AA</td><td>10</td><td>57256.77485551</td><td>--</td><td>--</td><td>--</td><td>--</td><td>--</td><td>--</td><td>--</td><td>--</td><td>--</td><td>--</td><td>--</td><td>--</td><td>--</td><td>--</td><td>--</td><td>--</td><td>0.097389</td><td>209.287467</td></tr>\n",
       "<tr><td>40.1255725</td><td>60.8792803</td><td>0.0645</td><td>0.0599</td><td>-0.0223</td><td>12.84</td><td>0.028</td><td>38.7</td><td>1.555</td><td>11.897</td><td>0.031</td><td>35.1</td><td>1.045</td><td>1</td><td>0</td><td>0000</td><td>AA</td><td>5</td><td>57257.10275142</td><td>--</td><td>--</td><td>--</td><td>--</td><td>--</td><td>--</td><td>--</td><td>--</td><td>--</td><td>--</td><td>--</td><td>--</td><td>--</td><td>--</td><td>--</td><td>--</td><td>0.107707</td><td>187.00605</td></tr>\n",
       "<tr><td>40.1255736</td><td>60.8792799</td><td>0.1164</td><td>0.1059</td><td>-0.039</td><td>13.587</td><td>0.041</td><td>26.4</td><td>1.647</td><td>13.145</td><td>0.076</td><td>14.3</td><td>1.03</td><td>1</td><td>0</td><td>0000</td><td>AA</td><td>5</td><td>57987.97028435</td><td>--</td><td>--</td><td>--</td><td>--</td><td>--</td><td>--</td><td>--</td><td>--</td><td>--</td><td>--</td><td>--</td><td>--</td><td>--</td><td>--</td><td>--</td><td>--</td><td>0.108928</td><td>185.907602</td></tr>\n",
       "<tr><td>40.1255644</td><td>60.8792744</td><td>0.0856</td><td>0.086</td><td>-0.031</td><td>13.198</td><td>0.035</td><td>31.2</td><td>1.725</td><td>12.644</td><td>0.05</td><td>21.7</td><td>0.7308</td><td>1</td><td>0</td><td>0000</td><td>AA</td><td>5</td><td>57620.84192211</td><td>--</td><td>--</td><td>--</td><td>--</td><td>--</td><td>--</td><td>--</td><td>--</td><td>--</td><td>--</td><td>--</td><td>--</td><td>--</td><td>--</td><td>--</td><td>--</td><td>0.131052</td><td>192.038104</td></tr>\n",
       "<tr><td>40.1255517</td><td>60.8792713</td><td>0.0679</td><td>0.0685</td><td>-0.0218</td><td>12.807</td><td>0.028</td><td>38.8</td><td>1.466</td><td>11.989</td><td>0.038</td><td>28.3</td><td>0.7736</td><td>1</td><td>0</td><td>0000</td><td>AA</td><td>10</td><td>57256.64356978</td><td>--</td><td>--</td><td>--</td><td>--</td><td>--</td><td>--</td><td>--</td><td>--</td><td>--</td><td>--</td><td>--</td><td>--</td><td>--</td><td>--</td><td>--</td><td>--</td><td>0.147884</td><td>199.589209</td></tr>\n",
       "<tr><td>40.1255718</td><td>60.8792687</td><td>0.1224</td><td>0.1104</td><td>-0.0547</td><td>13.496</td><td>0.044</td><td>24.6</td><td>0.9767</td><td>12.739</td><td>0.064</td><td>17.1</td><td>1.444</td><td>1</td><td>0</td><td>0000</td><td>AA</td><td>10</td><td>57787.46478715</td><td>--</td><td>--</td><td>--</td><td>--</td><td>--</td><td>--</td><td>--</td><td>--</td><td>--</td><td>--</td><td>--</td><td>--</td><td>--</td><td>--</td><td>--</td><td>--</td><td>0.149378</td><td>185.518975</td></tr>\n",
       "<tr><td>...</td><td>...</td><td>...</td><td>...</td><td>...</td><td>...</td><td>...</td><td>...</td><td>...</td><td>...</td><td>...</td><td>...</td><td>...</td><td>...</td><td>...</td><td>...</td><td>...</td><td>...</td><td>...</td><td>...</td><td>...</td><td>...</td><td>...</td><td>...</td><td>...</td><td>...</td><td>...</td><td>...</td><td>...</td><td>...</td><td>...</td><td>...</td><td>...</td><td>...</td><td>...</td><td>...</td><td>...</td></tr>\n",
       "<tr><td>40.1253863</td><td>60.8792324</td><td>0.1362</td><td>0.12</td><td>-0.0418</td><td>13.803</td><td>0.049</td><td>22.3</td><td>0.7825</td><td>13.145</td><td>0.071</td><td>15.2</td><td>0.8457</td><td>1</td><td>0</td><td>0000</td><td>AA</td><td>5</td><td>57988.16676654</td><td>--</td><td>--</td><td>--</td><td>--</td><td>--</td><td>--</td><td>--</td><td>--</td><td>--</td><td>--</td><td>--</td><td>--</td><td>--</td><td>--</td><td>--</td><td>--</td><td>0.439544</td><td>230.53831</td></tr>\n",
       "<tr><td>40.1254017</td><td>60.8792188</td><td>0.1756</td><td>0.1349</td><td>-0.0354</td><td>13.417</td><td>0.08</td><td>13.5</td><td>1.913</td><td>12.771</td><td>0.072</td><td>15.2</td><td>0.4021</td><td>1</td><td>0</td><td>0000</td><td>AA</td><td>10</td><td>57790.47736456</td><td>--</td><td>--</td><td>--</td><td>--</td><td>--</td><td>--</td><td>--</td><td>--</td><td>--</td><td>--</td><td>--</td><td>--</td><td>--</td><td>--</td><td>--</td><td>--</td><td>0.453174</td><td>223.574167</td></tr>\n",
       "<tr><td>40.1254504</td><td>60.8791953</td><td>0.065</td><td>0.0627</td><td>-0.0236</td><td>12.829</td><td>0.031</td><td>35.0</td><td>2.803</td><td>11.903</td><td>0.037</td><td>29.2</td><td>1.251</td><td>1</td><td>0</td><td>0000</td><td>AA</td><td>5</td><td>57423.45964858</td><td>--</td><td>--</td><td>--</td><td>--</td><td>--</td><td>--</td><td>--</td><td>--</td><td>--</td><td>--</td><td>--</td><td>--</td><td>--</td><td>--</td><td>--</td><td>--</td><td>0.471232</td><td>208.805123</td></tr>\n",
       "<tr><td>40.1254195</td><td>60.879191</td><td>0.0736</td><td>0.0604</td><td>-0.0255</td><td>12.777</td><td>0.027</td><td>39.9</td><td>0.8821</td><td>11.964</td><td>0.033</td><td>33.1</td><td>0.8097</td><td>1</td><td>0</td><td>0000</td><td>AA</td><td>10</td><td>57063.99542123</td><td>--</td><td>--</td><td>--</td><td>--</td><td>--</td><td>--</td><td>--</td><td>--</td><td>--</td><td>--</td><td>--</td><td>--</td><td>--</td><td>--</td><td>--</td><td>--</td><td>0.512441</td><td>213.279623</td></tr>\n",
       "<tr><td>40.1253594</td><td>60.8792163</td><td>0.0631</td><td>0.0675</td><td>-0.0093</td><td>12.791</td><td>0.03</td><td>36.6</td><td>1.13</td><td>11.972</td><td>0.039</td><td>27.5</td><td>0.6409</td><td>1</td><td>0</td><td>0000</td><td>AA</td><td>10</td><td>57422.73853115</td><td>--</td><td>--</td><td>--</td><td>--</td><td>--</td><td>--</td><td>--</td><td>--</td><td>--</td><td>--</td><td>--</td><td>--</td><td>--</td><td>--</td><td>--</td><td>--</td><td>0.512985</td><td>228.885562</td></tr>\n",
       "<tr><td>40.1252771</td><td>60.8793411</td><td>0.115</td><td>0.1078</td><td>-0.0397</td><td>13.511</td><td>0.041</td><td>26.2</td><td>1.299</td><td>12.668</td><td>0.061</td><td>17.8</td><td>0.6642</td><td>1</td><td>0</td><td>0000</td><td>AA</td><td>5</td><td>57790.01894558</td><td>--</td><td>--</td><td>--</td><td>--</td><td>--</td><td>--</td><td>--</td><td>--</td><td>--</td><td>--</td><td>--</td><td>--</td><td>--</td><td>--</td><td>--</td><td>--</td><td>0.542346</td><td>281.913746</td></tr>\n",
       "<tr><td>40.1253172</td><td>60.8792186</td><td>0.1035</td><td>0.1091</td><td>-0.0272</td><td>13.328</td><td>0.038</td><td>28.6</td><td>1.868</td><td>12.893</td><td>0.091</td><td>11.9</td><td>1.075</td><td>1</td><td>0</td><td>0000</td><td>AA</td><td>5</td><td>57790.21542903</td><td>--</td><td>--</td><td>--</td><td>--</td><td>--</td><td>--</td><td>--</td><td>--</td><td>--</td><td>--</td><td>--</td><td>--</td><td>--</td><td>--</td><td>--</td><td>--</td><td>0.565899</td><td>234.448038</td></tr>\n",
       "<tr><td>40.1256247</td><td>60.8791518</td><td>0.1463</td><td>0.1293</td><td>-0.0575</td><td>13.734</td><td>0.048</td><td>22.9</td><td>0.9954</td><td>13.257</td><td>0.122</td><td>8.9</td><td>0.5377</td><td>1</td><td>0</td><td>0000</td><td>AB</td><td>5</td><td>57988.36312131</td><td>--</td><td>--</td><td>--</td><td>--</td><td>--</td><td>--</td><td>--</td><td>--</td><td>--</td><td>--</td><td>--</td><td>--</td><td>--</td><td>--</td><td>--</td><td>--</td><td>0.574875</td><td>172.170603</td></tr>\n",
       "<tr><td>40.1252789</td><td>60.8792352</td><td>0.1174</td><td>0.1057</td><td>-0.0497</td><td>13.36</td><td>0.049</td><td>22.3</td><td>0.7856</td><td>12.729</td><td>0.06</td><td>18.1</td><td>0.7291</td><td>1</td><td>0</td><td>0000</td><td>AA</td><td>5</td><td>57787.33375567</td><td>--</td><td>--</td><td>--</td><td>--</td><td>--</td><td>--</td><td>--</td><td>--</td><td>--</td><td>--</td><td>--</td><td>--</td><td>--</td><td>--</td><td>--</td><td>--</td><td>0.59227</td><td>242.957045</td></tr>\n",
       "<tr><td>40.1260438</td><td>60.8791845</td><td>0.1911</td><td>0.1661</td><td>-0.0549</td><td>14.036</td><td>0.07</td><td>15.4</td><td>4.369</td><td>13.472</td><td>0.094</td><td>11.6</td><td>1.701</td><td>1</td><td>0</td><td>0000</td><td>AA</td><td>0</td><td>57988.49402461</td><td>--</td><td>--</td><td>--</td><td>--</td><td>--</td><td>--</td><td>--</td><td>--</td><td>--</td><td>--</td><td>--</td><td>--</td><td>--</td><td>--</td><td>--</td><td>--</td><td>0.929713</td><td>119.074968</td></tr>\n",
       "</table></div>"
      ],
      "text/plain": [
       "<Table length=137>\n",
       "    ra        dec      sigra   sigdec ... k_msig_2mass   dist     angle   \n",
       "   deg        deg      arcsec  arcsec ...     mag       arcsec     deg    \n",
       " float64    float64   float64 float64 ...   float64    float64   float64  \n",
       "---------- ---------- ------- ------- ... ------------ -------- ----------\n",
       "40.1255655 60.8793063  0.0947  0.0936 ...           -- 0.028668 242.330013\n",
       " 40.125574  60.879297  0.0925  0.0874 ...           -- 0.048011 192.659014\n",
       "40.1256226 60.8793176  0.0808  0.0794 ...           -- 0.079498  69.867298\n",
       "40.1255528 60.8792864  0.0663  0.0608 ...           -- 0.097389 209.287467\n",
       "40.1255725 60.8792803  0.0645  0.0599 ...           -- 0.107707  187.00605\n",
       "40.1255736 60.8792799  0.1164  0.1059 ...           -- 0.108928 185.907602\n",
       "40.1255644 60.8792744  0.0856   0.086 ...           -- 0.131052 192.038104\n",
       "40.1255517 60.8792713  0.0679  0.0685 ...           -- 0.147884 199.589209\n",
       "40.1255718 60.8792687  0.1224  0.1104 ...           -- 0.149378 185.518975\n",
       "       ...        ...     ...     ... ...          ...      ...        ...\n",
       "40.1253863 60.8792324  0.1362    0.12 ...           -- 0.439544  230.53831\n",
       "40.1254017 60.8792188  0.1756  0.1349 ...           -- 0.453174 223.574167\n",
       "40.1254504 60.8791953   0.065  0.0627 ...           -- 0.471232 208.805123\n",
       "40.1254195  60.879191  0.0736  0.0604 ...           -- 0.512441 213.279623\n",
       "40.1253594 60.8792163  0.0631  0.0675 ...           -- 0.512985 228.885562\n",
       "40.1252771 60.8793411   0.115  0.1078 ...           -- 0.542346 281.913746\n",
       "40.1253172 60.8792186  0.1035  0.1091 ...           -- 0.565899 234.448038\n",
       "40.1256247 60.8791518  0.1463  0.1293 ...           -- 0.574875 172.170603\n",
       "40.1252789 60.8792352  0.1174  0.1057 ...           --  0.59227 242.957045\n",
       "40.1260438 60.8791845  0.1911  0.1661 ...           -- 0.929713 119.074968"
      ]
     },
     "execution_count": 5,
     "metadata": {},
     "output_type": "execute_result"
    }
   ],
   "source": [
    "from astropy.table import Table\n",
    "\n",
    "Table.read(loc+file ,format='ascii')"
   ]
  },
  {
   "cell_type": "markdown",
   "metadata": {
    "slideshow": {
     "slide_type": "subslide"
    }
   },
   "source": [
    "A benefit to using this method, as opposed to `pandas`, is that data typing and data units are naturally read from the IRSA table and included with the associated columns. Thus, if you are uncertain if some brightness measurement is in magnitudes or Janskys, the `astropy Table` can report on that information.\n",
    "\n",
    "Unfortunately, `astropy` does *not* know about every strange formating decision that every astronomer has made at some point in their lives (as we are about to see...) "
   ]
  },
  {
   "cell_type": "markdown",
   "metadata": {
    "slideshow": {
     "slide_type": "slide"
    }
   },
   "source": [
    "## Problem 2) The Sins of Our Journals"
   ]
  },
  {
   "cell_type": "markdown",
   "metadata": {
    "slideshow": {
     "slide_type": "slide"
    }
   },
   "source": [
    "Unlike IRSA/IPAC, which uses a weird but nevertheless consistent format for data tables, data retrieved from Journal articles essentially follows no rules. In principle, tables in Journal articles are supposed to be provided in a machine readable format. In practice, as we are about to see, this is far from the case.\n",
    "\n",
    "For this particular wrangling case study we will focus on supernova light curves, a simple thing to report: time, filter, brightness, uncertainty on that brightness, that the community has nevertheless managed to mangle into some truly wild and difficult to parse forms."
   ]
  },
  {
   "cell_type": "markdown",
   "metadata": {
    "slideshow": {
     "slide_type": "skip"
    }
   },
   "source": [
    "(Sorry for the heavy emphasis on time-domain examples - I'm pulling straight from my own life today, but the issues described here are not perfectly addressed by any subfield within the astro umbrella)"
   ]
  },
  {
   "cell_type": "markdown",
   "metadata": {
    "slideshow": {
     "slide_type": "slide"
    }
   },
   "source": [
    "Here is the LaTeX-formatted version of Table 4 from [Miller et al. 2011](https://iopscience.iop.org/article/10.1088/0004-637X/730/2/80/meta):\n",
    "\n",
    "<img style=\"display: block; margin-left: auto; margin-right: auto\" src=\"images/Miller11_tbl4.png\" width=\"350\" align=\"middle\">"
   ]
  },
  {
   "cell_type": "markdown",
   "metadata": {
    "slideshow": {
     "slide_type": "subslide"
    }
   },
   "source": [
    "That is a very simple table to interpret, no?\n",
    "\n",
    "Have a look at the [\"machine-readible\" file](https://iopscience.iop.org/0004-637X/730/2/80/suppdata/apj382770t4_ascii.txt?doi=10.1088/0004-637X/730/2/80) that ApJ provides for readers that might want to evaluate these photometric measurements."
   ]
  },
  {
   "cell_type": "markdown",
   "metadata": {
    "slideshow": {
     "slide_type": "slide"
    }
   },
   "source": [
    "**Problem 2a** \n",
    "\n",
    "Read the ApJ version of Table 4 from from Miller et al. 2011 – called `Miller_et_al2011_table4.txt` – into either a `pandas DataFrame` or an `astropy Table`."
   ]
  },
  {
   "cell_type": "code",
   "execution_count": 17,
   "metadata": {
    "slideshow": {
     "slide_type": "subslide"
    }
   },
   "outputs": [
    {
     "data": {
      "text/html": [
       "<div>\n",
       "<style scoped>\n",
       "    .dataframe tbody tr th:only-of-type {\n",
       "        vertical-align: middle;\n",
       "    }\n",
       "\n",
       "    .dataframe tbody tr th {\n",
       "        vertical-align: top;\n",
       "    }\n",
       "\n",
       "    .dataframe thead th {\n",
       "        text-align: right;\n",
       "    }\n",
       "</style>\n",
       "<table border=\"1\" class=\"dataframe\">\n",
       "  <thead>\n",
       "    <tr style=\"text-align: right;\">\n",
       "      <th></th>\n",
       "      <th>t_mid^a</th>\n",
       "      <th>J_mag</th>\n",
       "      <th>+or-</th>\n",
       "      <th>J_mag_unc</th>\n",
       "      <th>H_mag</th>\n",
       "      <th>+or-.1</th>\n",
       "      <th>H_mag_unc</th>\n",
       "      <th>K_s_mag</th>\n",
       "      <th>+or-.2</th>\n",
       "      <th>K_s_mag_unc</th>\n",
       "    </tr>\n",
       "  </thead>\n",
       "  <tbody>\n",
       "    <tr>\n",
       "      <th>0</th>\n",
       "      <td>55466.137</td>\n",
       "      <td>10.04</td>\n",
       "      <td>+or-</td>\n",
       "      <td>0.03</td>\n",
       "      <td>9.14</td>\n",
       "      <td>+or-</td>\n",
       "      <td>0.03</td>\n",
       "      <td>8.65</td>\n",
       "      <td>+or-</td>\n",
       "      <td>0.03</td>\n",
       "    </tr>\n",
       "    <tr>\n",
       "      <th>1</th>\n",
       "      <td>55468.145</td>\n",
       "      <td>9.99</td>\n",
       "      <td>+or-</td>\n",
       "      <td>0.03</td>\n",
       "      <td>9.06</td>\n",
       "      <td>+or-</td>\n",
       "      <td>0.04</td>\n",
       "      <td>8.64</td>\n",
       "      <td>+or-</td>\n",
       "      <td>0.04</td>\n",
       "    </tr>\n",
       "    <tr>\n",
       "      <th>2</th>\n",
       "      <td>55469.148</td>\n",
       "      <td>10.04</td>\n",
       "      <td>+or-</td>\n",
       "      <td>0.03</td>\n",
       "      <td>9.07</td>\n",
       "      <td>+or-</td>\n",
       "      <td>0.03</td>\n",
       "      <td>8.70</td>\n",
       "      <td>+or-</td>\n",
       "      <td>0.03</td>\n",
       "    </tr>\n",
       "    <tr>\n",
       "      <th>3</th>\n",
       "      <td>55479.109</td>\n",
       "      <td>10.11</td>\n",
       "      <td>+or-</td>\n",
       "      <td>0.03</td>\n",
       "      <td>9.11</td>\n",
       "      <td>+or-</td>\n",
       "      <td>0.03</td>\n",
       "      <td>8.63</td>\n",
       "      <td>+or-</td>\n",
       "      <td>0.04</td>\n",
       "    </tr>\n",
       "    <tr>\n",
       "      <th>4</th>\n",
       "      <td>55504.164</td>\n",
       "      <td>10.20</td>\n",
       "      <td>+or-</td>\n",
       "      <td>0.03</td>\n",
       "      <td>9.24</td>\n",
       "      <td>+or-</td>\n",
       "      <td>0.03</td>\n",
       "      <td>8.74</td>\n",
       "      <td>+or-</td>\n",
       "      <td>0.03</td>\n",
       "    </tr>\n",
       "    <tr>\n",
       "      <th>5</th>\n",
       "      <td>55513.195</td>\n",
       "      <td>10.29</td>\n",
       "      <td>+or-</td>\n",
       "      <td>0.03</td>\n",
       "      <td>9.34</td>\n",
       "      <td>+or-</td>\n",
       "      <td>0.03</td>\n",
       "      <td>8.79</td>\n",
       "      <td>+or-</td>\n",
       "      <td>0.03</td>\n",
       "    </tr>\n",
       "    <tr>\n",
       "      <th>6</th>\n",
       "      <td>55518.168</td>\n",
       "      <td>10.32</td>\n",
       "      <td>+or-</td>\n",
       "      <td>0.03</td>\n",
       "      <td>9.34</td>\n",
       "      <td>+or-</td>\n",
       "      <td>0.04</td>\n",
       "      <td>8.84</td>\n",
       "      <td>+or-</td>\n",
       "      <td>0.03</td>\n",
       "    </tr>\n",
       "    <tr>\n",
       "      <th>7</th>\n",
       "      <td>55527.117</td>\n",
       "      <td>10.35</td>\n",
       "      <td>+or-</td>\n",
       "      <td>0.03</td>\n",
       "      <td>9.40</td>\n",
       "      <td>+or-</td>\n",
       "      <td>0.03</td>\n",
       "      <td>8.89</td>\n",
       "      <td>+or-</td>\n",
       "      <td>0.03</td>\n",
       "    </tr>\n",
       "    <tr>\n",
       "      <th>8</th>\n",
       "      <td>55531.145</td>\n",
       "      <td>10.40</td>\n",
       "      <td>+or-</td>\n",
       "      <td>0.03</td>\n",
       "      <td>9.44</td>\n",
       "      <td>+or-</td>\n",
       "      <td>0.03</td>\n",
       "      <td>8.97</td>\n",
       "      <td>+or-</td>\n",
       "      <td>0.03</td>\n",
       "    </tr>\n",
       "    <tr>\n",
       "      <th>9</th>\n",
       "      <td>55543.066</td>\n",
       "      <td>10.45</td>\n",
       "      <td>+or-</td>\n",
       "      <td>0.03</td>\n",
       "      <td>9.48</td>\n",
       "      <td>+or-</td>\n",
       "      <td>0.04</td>\n",
       "      <td>9.06</td>\n",
       "      <td>+or-</td>\n",
       "      <td>0.04</td>\n",
       "    </tr>\n",
       "  </tbody>\n",
       "</table>\n",
       "</div>"
      ],
      "text/plain": [
       "     t_mid^a  J_mag  +or-  J_mag_unc  H_mag +or-.1  H_mag_unc  K_s_mag +or-.2  \\\n",
       "0  55466.137  10.04  +or-       0.03   9.14   +or-       0.03     8.65   +or-   \n",
       "1  55468.145   9.99  +or-       0.03   9.06   +or-       0.04     8.64   +or-   \n",
       "2  55469.148  10.04  +or-       0.03   9.07   +or-       0.03     8.70   +or-   \n",
       "3  55479.109  10.11  +or-       0.03   9.11   +or-       0.03     8.63   +or-   \n",
       "4  55504.164  10.20  +or-       0.03   9.24   +or-       0.03     8.74   +or-   \n",
       "5  55513.195  10.29  +or-       0.03   9.34   +or-       0.03     8.79   +or-   \n",
       "6  55518.168  10.32  +or-       0.03   9.34   +or-       0.04     8.84   +or-   \n",
       "7  55527.117  10.35  +or-       0.03   9.40   +or-       0.03     8.89   +or-   \n",
       "8  55531.145  10.40  +or-       0.03   9.44   +or-       0.03     8.97   +or-   \n",
       "9  55543.066  10.45  +or-       0.03   9.48   +or-       0.04     9.06   +or-   \n",
       "\n",
       "   K_s_mag_unc  \n",
       "0         0.03  \n",
       "1         0.04  \n",
       "2         0.03  \n",
       "3         0.04  \n",
       "4         0.03  \n",
       "5         0.03  \n",
       "6         0.03  \n",
       "7         0.03  \n",
       "8         0.03  \n",
       "9         0.04  "
      ]
     },
     "execution_count": 17,
     "metadata": {},
     "output_type": "execute_result"
    }
   ],
   "source": [
    "# read in the data from Miller et al 2011\n",
    "file = 'Miller_et_al2011_table4(copy).txt'\n",
    "\n",
    "dat = pd.read_table(loc+file, comment='#', delim_whitespace=True)\n",
    "dat"
   ]
  },
  {
   "cell_type": "markdown",
   "metadata": {
    "slideshow": {
     "slide_type": "slide"
    }
   },
   "source": [
    "That wasn't too terrible. But what if we consider a more typical light curve table, where there are loads of missing data, such as Table 2 from [Foley et al. 2009](https://iopscience.iop.org/article/10.1088/0004-6256/138/2/376#aj309430t2):\n",
    "\n",
    "<img style=\"display: block; margin-left: auto; margin-right: auto\" src=\"images/Foley09_tbl2.png\" width=\"350\" align=\"middle\">"
   ]
  },
  {
   "cell_type": "markdown",
   "metadata": {
    "slideshow": {
     "slide_type": "subslide"
    }
   },
   "source": [
    "Again, this table is straightforward to read, and it isn't hard to imagine how one could construct a machine-readable csv or other file from this information. But alas, this is not what is available from ApJ. So, we will need to figure out how to deal with both the missing data, \"...\", and the weird convention that many astronomers use where the uncertainties are (a) not reported in their own column, and (b) are not provided in the same units as the measurement itself. I can understand the former, but the later is somewhat baffling..."
   ]
  },
  {
   "cell_type": "markdown",
   "metadata": {
    "slideshow": {
     "slide_type": "slide"
    }
   },
   "source": [
    "**Problem 2b** \n",
    "\n",
    "Read the ApJ version of Table 2 from from Foley et al. 2009 – called `Foley_et_al2009_table2.txt` – into either a `pandas DataFrame` or an `astropy Table`."
   ]
  },
  {
   "cell_type": "code",
   "execution_count": 23,
   "metadata": {
    "slideshow": {
     "slide_type": "subslide"
    }
   },
   "outputs": [
    {
     "data": {
      "text/html": [
       "<div>\n",
       "<style scoped>\n",
       "    .dataframe tbody tr th:only-of-type {\n",
       "        vertical-align: middle;\n",
       "    }\n",
       "\n",
       "    .dataframe tbody tr th {\n",
       "        vertical-align: top;\n",
       "    }\n",
       "\n",
       "    .dataframe thead th {\n",
       "        text-align: right;\n",
       "    }\n",
       "</style>\n",
       "<table border=\"1\" class=\"dataframe\">\n",
       "  <thead>\n",
       "    <tr style=\"text-align: right;\">\n",
       "      <th></th>\n",
       "      <th>JD</th>\n",
       "      <th>B_(mag)</th>\n",
       "      <th>V_(mag)</th>\n",
       "      <th>R_(mag)</th>\n",
       "      <th>I_(mag)</th>\n",
       "      <th>Unfiltered_(mag)</th>\n",
       "      <th>Telescope</th>\n",
       "      <th>Unnamed: 7</th>\n",
       "    </tr>\n",
       "  </thead>\n",
       "  <tbody>\n",
       "    <tr>\n",
       "      <th>0</th>\n",
       "      <td>2454764.80</td>\n",
       "      <td>sdotsdotsdot</td>\n",
       "      <td>sdotsdotsdot</td>\n",
       "      <td>sdotsdotsdot</td>\n",
       "      <td>sdotsdotsdot</td>\n",
       "      <td>&gt;19.5</td>\n",
       "      <td>KAIT</td>\n",
       "      <td>NaN</td>\n",
       "    </tr>\n",
       "    <tr>\n",
       "      <th>1</th>\n",
       "      <td>2454778.69</td>\n",
       "      <td>sdotsdotsdot</td>\n",
       "      <td>sdotsdotsdot</td>\n",
       "      <td>sdotsdotsdot</td>\n",
       "      <td>sdotsdotsdot</td>\n",
       "      <td>18.069 (092)</td>\n",
       "      <td>KAIT</td>\n",
       "      <td>NaN</td>\n",
       "    </tr>\n",
       "    <tr>\n",
       "      <th>2</th>\n",
       "      <td>2454781.76</td>\n",
       "      <td>18.340 (084)</td>\n",
       "      <td>17.828 (037)</td>\n",
       "      <td>sdotsdotsdot</td>\n",
       "      <td>sdotsdotsdot</td>\n",
       "      <td>sdotsdotsdot</td>\n",
       "      <td>KAIT</td>\n",
       "      <td>NaN</td>\n",
       "    </tr>\n",
       "    <tr>\n",
       "      <th>3</th>\n",
       "      <td>2454783.74</td>\n",
       "      <td>18.229 (062)</td>\n",
       "      <td>17.718 (042)</td>\n",
       "      <td>17.509 (041)</td>\n",
       "      <td>17.377 (054)</td>\n",
       "      <td>sdotsdotsdot</td>\n",
       "      <td>KAIT</td>\n",
       "      <td>NaN</td>\n",
       "    </tr>\n",
       "    <tr>\n",
       "      <th>4</th>\n",
       "      <td>2454784.64</td>\n",
       "      <td>sdotsdotsdot</td>\n",
       "      <td>sdotsdotsdot</td>\n",
       "      <td>sdotsdotsdot</td>\n",
       "      <td>sdotsdotsdot</td>\n",
       "      <td>17.736 (091)</td>\n",
       "      <td>KAIT</td>\n",
       "      <td>NaN</td>\n",
       "    </tr>\n",
       "    <tr>\n",
       "      <th>5</th>\n",
       "      <td>2454784.71</td>\n",
       "      <td>18.230 (030)</td>\n",
       "      <td>17.635 (030)</td>\n",
       "      <td>17.570 (030)</td>\n",
       "      <td>17.392 (030)</td>\n",
       "      <td>sdotsdotsdot</td>\n",
       "      <td>Nickel</td>\n",
       "      <td>NaN</td>\n",
       "    </tr>\n",
       "    <tr>\n",
       "      <th>6</th>\n",
       "      <td>2454785.67</td>\n",
       "      <td>18.385 (030)</td>\n",
       "      <td>17.660 (027)</td>\n",
       "      <td>17.610 (023)</td>\n",
       "      <td>17.425 (034)</td>\n",
       "      <td>17.683 (038)</td>\n",
       "      <td>KAIT</td>\n",
       "      <td>NaN</td>\n",
       "    </tr>\n",
       "    <tr>\n",
       "      <th>7</th>\n",
       "      <td>2454786.80</td>\n",
       "      <td>18.415 (030)</td>\n",
       "      <td>17.710 (030)</td>\n",
       "      <td>17.544 (030)</td>\n",
       "      <td>17.358 (030)</td>\n",
       "      <td>sdotsdotsdot</td>\n",
       "      <td>Nickel</td>\n",
       "      <td>NaN</td>\n",
       "    </tr>\n",
       "    <tr>\n",
       "      <th>8</th>\n",
       "      <td>2454787.67</td>\n",
       "      <td>18.596 (030)</td>\n",
       "      <td>17.762 (030)</td>\n",
       "      <td>17.552 (030)</td>\n",
       "      <td>17.376 (030)</td>\n",
       "      <td>sdotsdotsdot</td>\n",
       "      <td>KAIT</td>\n",
       "      <td>NaN</td>\n",
       "    </tr>\n",
       "    <tr>\n",
       "      <th>9</th>\n",
       "      <td>2454789.68</td>\n",
       "      <td>18.904 (030)</td>\n",
       "      <td>17.827 (014)</td>\n",
       "      <td>17.573 (011)</td>\n",
       "      <td>17.353 (030)</td>\n",
       "      <td>17.732 (028)</td>\n",
       "      <td>KAIT</td>\n",
       "      <td>NaN</td>\n",
       "    </tr>\n",
       "    <tr>\n",
       "      <th>10</th>\n",
       "      <td>2454790.71</td>\n",
       "      <td>18.969 (030)</td>\n",
       "      <td>17.871 (030)</td>\n",
       "      <td>17.560 (030)</td>\n",
       "      <td>17.278 (030)</td>\n",
       "      <td>sdotsdotsdot</td>\n",
       "      <td>Nickel</td>\n",
       "      <td>NaN</td>\n",
       "    </tr>\n",
       "    <tr>\n",
       "      <th>11</th>\n",
       "      <td>2454792.70</td>\n",
       "      <td>19.563 (054)</td>\n",
       "      <td>18.127 (022)</td>\n",
       "      <td>17.689 (016)</td>\n",
       "      <td>17.443 (030)</td>\n",
       "      <td>sdotsdotsdot</td>\n",
       "      <td>KAIT</td>\n",
       "      <td>NaN</td>\n",
       "    </tr>\n",
       "    <tr>\n",
       "      <th>12</th>\n",
       "      <td>2454794.68</td>\n",
       "      <td>19.789 (072)</td>\n",
       "      <td>18.377 (032)</td>\n",
       "      <td>17.904 (025)</td>\n",
       "      <td>17.541 (037)</td>\n",
       "      <td>sdotsdotsdot</td>\n",
       "      <td>KAIT</td>\n",
       "      <td>NaN</td>\n",
       "    </tr>\n",
       "    <tr>\n",
       "      <th>13</th>\n",
       "      <td>2454795.78</td>\n",
       "      <td>20.297 (216)</td>\n",
       "      <td>sdotsdotsdot</td>\n",
       "      <td>sdotsdotsdot</td>\n",
       "      <td>sdotsdotsdot</td>\n",
       "      <td>18.009 (103)</td>\n",
       "      <td>KAIT</td>\n",
       "      <td>NaN</td>\n",
       "    </tr>\n",
       "    <tr>\n",
       "      <th>14</th>\n",
       "      <td>2454798.65</td>\n",
       "      <td>20.390 (123)</td>\n",
       "      <td>18.791 (033)</td>\n",
       "      <td>18.308 (022)</td>\n",
       "      <td>17.876 (039)</td>\n",
       "      <td>18.388 (022)</td>\n",
       "      <td>KAIT</td>\n",
       "      <td>NaN</td>\n",
       "    </tr>\n",
       "    <tr>\n",
       "      <th>15</th>\n",
       "      <td>2454799.66</td>\n",
       "      <td>sdotsdotsdot</td>\n",
       "      <td>18.921 (046)</td>\n",
       "      <td>18.343 (029)</td>\n",
       "      <td>17.919 (050)</td>\n",
       "      <td>18.468 (040)</td>\n",
       "      <td>KAIT</td>\n",
       "      <td>NaN</td>\n",
       "    </tr>\n",
       "    <tr>\n",
       "      <th>16</th>\n",
       "      <td>2454800.67</td>\n",
       "      <td>sdotsdotsdot</td>\n",
       "      <td>18.942 (035)</td>\n",
       "      <td>18.347 (029)</td>\n",
       "      <td>17.892 (033)</td>\n",
       "      <td>18.482 (027)</td>\n",
       "      <td>KAIT</td>\n",
       "      <td>NaN</td>\n",
       "    </tr>\n",
       "    <tr>\n",
       "      <th>17</th>\n",
       "      <td>2454801.64</td>\n",
       "      <td>sdotsdotsdot</td>\n",
       "      <td>19.004 (044)</td>\n",
       "      <td>18.438 (026)</td>\n",
       "      <td>17.964 (036)</td>\n",
       "      <td>18.589 (031)</td>\n",
       "      <td>KAIT</td>\n",
       "      <td>NaN</td>\n",
       "    </tr>\n",
       "    <tr>\n",
       "      <th>18</th>\n",
       "      <td>2454802.74</td>\n",
       "      <td>sdotsdotsdot</td>\n",
       "      <td>19.064 (082)</td>\n",
       "      <td>18.472 (037)</td>\n",
       "      <td>17.921 (030)</td>\n",
       "      <td>18.635 (026)</td>\n",
       "      <td>KAIT</td>\n",
       "      <td>NaN</td>\n",
       "    </tr>\n",
       "    <tr>\n",
       "      <th>19</th>\n",
       "      <td>2454803.63</td>\n",
       "      <td>sdotsdotsdot</td>\n",
       "      <td>19.130 (054)</td>\n",
       "      <td>18.569 (031)</td>\n",
       "      <td>18.087 (047)</td>\n",
       "      <td>18.589 (030)</td>\n",
       "      <td>KAIT</td>\n",
       "      <td>NaN</td>\n",
       "    </tr>\n",
       "    <tr>\n",
       "      <th>20</th>\n",
       "      <td>2454805.63</td>\n",
       "      <td>sdotsdotsdot</td>\n",
       "      <td>19.211 (095)</td>\n",
       "      <td>18.851 (055)</td>\n",
       "      <td>18.142 (056)</td>\n",
       "      <td>18.682 (048)</td>\n",
       "      <td>KAIT</td>\n",
       "      <td>NaN</td>\n",
       "    </tr>\n",
       "    <tr>\n",
       "      <th>21</th>\n",
       "      <td>2454809.67</td>\n",
       "      <td>sdotsdotsdot</td>\n",
       "      <td>19.288 (206)</td>\n",
       "      <td>19.104 (135)</td>\n",
       "      <td>sdotsdotsdot</td>\n",
       "      <td>18.909 (078)</td>\n",
       "      <td>KAIT</td>\n",
       "      <td>NaN</td>\n",
       "    </tr>\n",
       "    <tr>\n",
       "      <th>22</th>\n",
       "      <td>2454811.61</td>\n",
       "      <td>sdotsdotsdot</td>\n",
       "      <td>19.462 (103)</td>\n",
       "      <td>19.069 (073)</td>\n",
       "      <td>18.374 (067)</td>\n",
       "      <td>19.150 (060)</td>\n",
       "      <td>KAIT</td>\n",
       "      <td>NaN</td>\n",
       "    </tr>\n",
       "    <tr>\n",
       "      <th>23</th>\n",
       "      <td>2454812.62</td>\n",
       "      <td>sdotsdotsdot</td>\n",
       "      <td>19.458 (207)</td>\n",
       "      <td>19.118 (065)</td>\n",
       "      <td>18.482 (077)</td>\n",
       "      <td>19.070 (049)</td>\n",
       "      <td>KAIT</td>\n",
       "      <td>NaN</td>\n",
       "    </tr>\n",
       "    <tr>\n",
       "      <th>24</th>\n",
       "      <td>2454831.63</td>\n",
       "      <td>21.372 (030)</td>\n",
       "      <td>20.191 (030)</td>\n",
       "      <td>19.647 (030)</td>\n",
       "      <td>18.864 (030)</td>\n",
       "      <td>sdotsdotsdot</td>\n",
       "      <td>Nickel</td>\n",
       "      <td>NaN</td>\n",
       "    </tr>\n",
       "  </tbody>\n",
       "</table>\n",
       "</div>"
      ],
      "text/plain": [
       "            JD         B_(mag)         V_(mag)         R_(mag)  \\\n",
       "0   2454764.80   sdotsdotsdot    sdotsdotsdot    sdotsdotsdot    \n",
       "1   2454778.69   sdotsdotsdot    sdotsdotsdot    sdotsdotsdot    \n",
       "2   2454781.76    18.340 (084)    17.828 (037)   sdotsdotsdot    \n",
       "3   2454783.74    18.229 (062)    17.718 (042)    17.509 (041)   \n",
       "4   2454784.64   sdotsdotsdot    sdotsdotsdot    sdotsdotsdot    \n",
       "5   2454784.71    18.230 (030)    17.635 (030)    17.570 (030)   \n",
       "6   2454785.67    18.385 (030)    17.660 (027)    17.610 (023)   \n",
       "7   2454786.80    18.415 (030)    17.710 (030)    17.544 (030)   \n",
       "8   2454787.67    18.596 (030)    17.762 (030)    17.552 (030)   \n",
       "9   2454789.68    18.904 (030)    17.827 (014)    17.573 (011)   \n",
       "10  2454790.71    18.969 (030)    17.871 (030)    17.560 (030)   \n",
       "11  2454792.70    19.563 (054)    18.127 (022)    17.689 (016)   \n",
       "12  2454794.68    19.789 (072)    18.377 (032)    17.904 (025)   \n",
       "13  2454795.78    20.297 (216)   sdotsdotsdot    sdotsdotsdot    \n",
       "14  2454798.65    20.390 (123)    18.791 (033)    18.308 (022)   \n",
       "15  2454799.66   sdotsdotsdot     18.921 (046)    18.343 (029)   \n",
       "16  2454800.67   sdotsdotsdot     18.942 (035)    18.347 (029)   \n",
       "17  2454801.64   sdotsdotsdot     19.004 (044)    18.438 (026)   \n",
       "18  2454802.74   sdotsdotsdot     19.064 (082)    18.472 (037)   \n",
       "19  2454803.63   sdotsdotsdot     19.130 (054)    18.569 (031)   \n",
       "20  2454805.63   sdotsdotsdot     19.211 (095)    18.851 (055)   \n",
       "21  2454809.67   sdotsdotsdot     19.288 (206)    19.104 (135)   \n",
       "22  2454811.61   sdotsdotsdot     19.462 (103)    19.069 (073)   \n",
       "23  2454812.62   sdotsdotsdot     19.458 (207)    19.118 (065)   \n",
       "24  2454831.63    21.372 (030)    20.191 (030)    19.647 (030)   \n",
       "\n",
       "           I_(mag) Unfiltered_(mag) Telescope  Unnamed: 7  \n",
       "0    sdotsdotsdot             >19.5      KAIT         NaN  \n",
       "1    sdotsdotsdot      18.069 (092)      KAIT         NaN  \n",
       "2    sdotsdotsdot     sdotsdotsdot       KAIT         NaN  \n",
       "3     17.377 (054)    sdotsdotsdot       KAIT         NaN  \n",
       "4    sdotsdotsdot      17.736 (091)      KAIT         NaN  \n",
       "5     17.392 (030)    sdotsdotsdot     Nickel         NaN  \n",
       "6     17.425 (034)     17.683 (038)      KAIT         NaN  \n",
       "7     17.358 (030)    sdotsdotsdot     Nickel         NaN  \n",
       "8     17.376 (030)    sdotsdotsdot       KAIT         NaN  \n",
       "9     17.353 (030)     17.732 (028)      KAIT         NaN  \n",
       "10    17.278 (030)    sdotsdotsdot     Nickel         NaN  \n",
       "11    17.443 (030)    sdotsdotsdot       KAIT         NaN  \n",
       "12    17.541 (037)    sdotsdotsdot       KAIT         NaN  \n",
       "13   sdotsdotsdot      18.009 (103)      KAIT         NaN  \n",
       "14    17.876 (039)     18.388 (022)      KAIT         NaN  \n",
       "15    17.919 (050)     18.468 (040)      KAIT         NaN  \n",
       "16    17.892 (033)     18.482 (027)      KAIT         NaN  \n",
       "17    17.964 (036)     18.589 (031)      KAIT         NaN  \n",
       "18    17.921 (030)     18.635 (026)      KAIT         NaN  \n",
       "19    18.087 (047)     18.589 (030)      KAIT         NaN  \n",
       "20    18.142 (056)     18.682 (048)      KAIT         NaN  \n",
       "21   sdotsdotsdot      18.909 (078)      KAIT         NaN  \n",
       "22    18.374 (067)     19.150 (060)      KAIT         NaN  \n",
       "23    18.482 (077)     19.070 (049)      KAIT         NaN  \n",
       "24    18.864 (030)    sdotsdotsdot     Nickel         NaN  "
      ]
     },
     "execution_count": 23,
     "metadata": {},
     "output_type": "execute_result"
    }
   ],
   "source": [
    "# read in the data from Foley et al 2009\n",
    "\n",
    "file = 'Foley_et_al2009_table2(copy).txt'\n",
    "dat = pd.read_table(loc+file, comment='#', delim_whitespace=False)\n",
    "dat"
   ]
  },
  {
   "cell_type": "markdown",
   "metadata": {
    "slideshow": {
     "slide_type": "subslide"
    }
   },
   "source": [
    "Okay - there is nothing elegant about that particular solution. But it works, and wranglin' ain't pretty. \n",
    "\n",
    "It is likely that you developed a solution that looks very different from this one, and that is fine. When data are provided in an unrulely format, the most important thing is to develop some method, any method, for converting the information into a useful format. Following whatever path you used above, it should now be easy to plot the light curve of SN 2008ha."
   ]
  },
  {
   "cell_type": "markdown",
   "metadata": {
    "slideshow": {
     "slide_type": "slide"
    }
   },
   "source": [
    "## Problem 3) My Heart Will Go On\n",
    "\n",
    "Sometimes there is no difficultly whatsoever in reading in the data (as was the case in **Problems 1** and **2**), but instead the difficultly lies in wranglin' the data to be appropriate for the model that you are building.\n",
    "\n",
    "For the next problem we will work with the famous [Titanic survival](https://www.kaggle.com/c/titanic/data?) data set. "
   ]
  },
  {
   "cell_type": "markdown",
   "metadata": {
    "slideshow": {
     "slide_type": "subslide"
    }
   },
   "source": [
    "Briefly, [the Titantic](https://thefilmcricket.files.wordpress.com/2012/04/film-titanic_clar.jpg) is a [famous](https://wallpapercave.com/wp/jrF8rQK.jpg) historical ship that was thought to be unsinkable. **Spoiler alert** it hit an iceberg and sank. The data in the Titanic data set includes information about 891 passengers from the Titanic, as well as whether or not they survived. The aim of this data set is to build a machine learning model to predict which passengers survived and which did not."
   ]
  },
  {
   "cell_type": "markdown",
   "metadata": {
    "slideshow": {
     "slide_type": "subslide"
    }
   },
   "source": [
    "The features include: \n",
    "\n",
    "|Feature    | Description |\n",
    "|:---------:|:--------------------------------------:|\n",
    "|PassengerId| Running index that describes the individual passengers|\n",
    "|Pclass| A proxy for socio-economic status (1 = Upper class, 2 = Middle Class, 3 = Lower Class)|\n",
    "|Name| The passenger's name|\n",
    "|Sex | The passenger's sex|\n",
    "|Age | The passenger's age - note age's ending in 0.5 are estimated |\n",
    "|SibSp| The sum of the passenger's sibblings and spouces on board|\n",
    "|Parch| The sum of the passenger's parents and children on board|\n",
    "|Ticket| The ticket number for the passenger|\n",
    "|Fare| The price paid for the ticket by th passenger|\n",
    "|Cabin| The Cabin in which the passenger stayed|\n",
    "|Embarked| The point of Origin for the Passenger: C = Cherbourg, S = Southampton, Q = Queenstown|"
   ]
  },
  {
   "cell_type": "markdown",
   "metadata": {
    "slideshow": {
     "slide_type": "subslide"
    }
   },
   "source": [
    "And of course, we are trying to predict:\n",
    "\n",
    "|Label    | Description |\n",
    "|:---------:|:--------------------------------------:|\n",
    "|Survived| 1 = yes; 0 = no|\n"
   ]
  },
  {
   "cell_type": "markdown",
   "metadata": {
    "slideshow": {
     "slide_type": "slide"
    }
   },
   "source": [
    "**Problem 3a**\n",
    "\n",
    "Read in the Titanic training data and create the `scikit-learn` standard `X` and `y` arrays to hold the features and the labels, respectively."
   ]
  },
  {
   "cell_type": "code",
   "execution_count": 50,
   "metadata": {
    "slideshow": {
     "slide_type": "slide"
    }
   },
   "outputs": [
    {
     "name": "stdout",
     "output_type": "stream",
     "text": [
      "0      0\n",
      "1      1\n",
      "2      1\n",
      "3      1\n",
      "4      0\n",
      "      ..\n",
      "886    0\n",
      "887    1\n",
      "888    0\n",
      "889    1\n",
      "890    0\n",
      "Name: Survived, Length: 891, dtype: int64\n"
     ]
    },
    {
     "data": {
      "text/html": [
       "<div>\n",
       "<style scoped>\n",
       "    .dataframe tbody tr th:only-of-type {\n",
       "        vertical-align: middle;\n",
       "    }\n",
       "\n",
       "    .dataframe tbody tr th {\n",
       "        vertical-align: top;\n",
       "    }\n",
       "\n",
       "    .dataframe thead th {\n",
       "        text-align: right;\n",
       "    }\n",
       "</style>\n",
       "<table border=\"1\" class=\"dataframe\">\n",
       "  <thead>\n",
       "    <tr style=\"text-align: right;\">\n",
       "      <th></th>\n",
       "      <th>PassengerId</th>\n",
       "      <th>Survived</th>\n",
       "      <th>Pclass</th>\n",
       "      <th>Name</th>\n",
       "      <th>Sex</th>\n",
       "      <th>Age</th>\n",
       "      <th>SibSp</th>\n",
       "      <th>Parch</th>\n",
       "      <th>Ticket</th>\n",
       "      <th>Fare</th>\n",
       "      <th>Cabin</th>\n",
       "      <th>Embarked</th>\n",
       "    </tr>\n",
       "  </thead>\n",
       "  <tbody>\n",
       "    <tr>\n",
       "      <th>0</th>\n",
       "      <td>1</td>\n",
       "      <td>0</td>\n",
       "      <td>3</td>\n",
       "      <td>Braund, Mr. Owen Harris</td>\n",
       "      <td>male</td>\n",
       "      <td>22.0</td>\n",
       "      <td>1</td>\n",
       "      <td>0</td>\n",
       "      <td>A/5 21171</td>\n",
       "      <td>7.2500</td>\n",
       "      <td>NaN</td>\n",
       "      <td>S</td>\n",
       "    </tr>\n",
       "    <tr>\n",
       "      <th>1</th>\n",
       "      <td>2</td>\n",
       "      <td>1</td>\n",
       "      <td>1</td>\n",
       "      <td>Cumings, Mrs. John Bradley (Florence Briggs Th...</td>\n",
       "      <td>female</td>\n",
       "      <td>38.0</td>\n",
       "      <td>1</td>\n",
       "      <td>0</td>\n",
       "      <td>PC 17599</td>\n",
       "      <td>71.2833</td>\n",
       "      <td>C85</td>\n",
       "      <td>C</td>\n",
       "    </tr>\n",
       "    <tr>\n",
       "      <th>2</th>\n",
       "      <td>3</td>\n",
       "      <td>1</td>\n",
       "      <td>3</td>\n",
       "      <td>Heikkinen, Miss. Laina</td>\n",
       "      <td>female</td>\n",
       "      <td>26.0</td>\n",
       "      <td>0</td>\n",
       "      <td>0</td>\n",
       "      <td>STON/O2. 3101282</td>\n",
       "      <td>7.9250</td>\n",
       "      <td>NaN</td>\n",
       "      <td>S</td>\n",
       "    </tr>\n",
       "    <tr>\n",
       "      <th>3</th>\n",
       "      <td>4</td>\n",
       "      <td>1</td>\n",
       "      <td>1</td>\n",
       "      <td>Futrelle, Mrs. Jacques Heath (Lily May Peel)</td>\n",
       "      <td>female</td>\n",
       "      <td>35.0</td>\n",
       "      <td>1</td>\n",
       "      <td>0</td>\n",
       "      <td>113803</td>\n",
       "      <td>53.1000</td>\n",
       "      <td>C123</td>\n",
       "      <td>S</td>\n",
       "    </tr>\n",
       "    <tr>\n",
       "      <th>4</th>\n",
       "      <td>5</td>\n",
       "      <td>0</td>\n",
       "      <td>3</td>\n",
       "      <td>Allen, Mr. William Henry</td>\n",
       "      <td>male</td>\n",
       "      <td>35.0</td>\n",
       "      <td>0</td>\n",
       "      <td>0</td>\n",
       "      <td>373450</td>\n",
       "      <td>8.0500</td>\n",
       "      <td>NaN</td>\n",
       "      <td>S</td>\n",
       "    </tr>\n",
       "    <tr>\n",
       "      <th>...</th>\n",
       "      <td>...</td>\n",
       "      <td>...</td>\n",
       "      <td>...</td>\n",
       "      <td>...</td>\n",
       "      <td>...</td>\n",
       "      <td>...</td>\n",
       "      <td>...</td>\n",
       "      <td>...</td>\n",
       "      <td>...</td>\n",
       "      <td>...</td>\n",
       "      <td>...</td>\n",
       "      <td>...</td>\n",
       "    </tr>\n",
       "    <tr>\n",
       "      <th>886</th>\n",
       "      <td>887</td>\n",
       "      <td>0</td>\n",
       "      <td>2</td>\n",
       "      <td>Montvila, Rev. Juozas</td>\n",
       "      <td>male</td>\n",
       "      <td>27.0</td>\n",
       "      <td>0</td>\n",
       "      <td>0</td>\n",
       "      <td>211536</td>\n",
       "      <td>13.0000</td>\n",
       "      <td>NaN</td>\n",
       "      <td>S</td>\n",
       "    </tr>\n",
       "    <tr>\n",
       "      <th>887</th>\n",
       "      <td>888</td>\n",
       "      <td>1</td>\n",
       "      <td>1</td>\n",
       "      <td>Graham, Miss. Margaret Edith</td>\n",
       "      <td>female</td>\n",
       "      <td>19.0</td>\n",
       "      <td>0</td>\n",
       "      <td>0</td>\n",
       "      <td>112053</td>\n",
       "      <td>30.0000</td>\n",
       "      <td>B42</td>\n",
       "      <td>S</td>\n",
       "    </tr>\n",
       "    <tr>\n",
       "      <th>888</th>\n",
       "      <td>889</td>\n",
       "      <td>0</td>\n",
       "      <td>3</td>\n",
       "      <td>Johnston, Miss. Catherine Helen \"Carrie\"</td>\n",
       "      <td>female</td>\n",
       "      <td>NaN</td>\n",
       "      <td>1</td>\n",
       "      <td>2</td>\n",
       "      <td>W./C. 6607</td>\n",
       "      <td>23.4500</td>\n",
       "      <td>NaN</td>\n",
       "      <td>S</td>\n",
       "    </tr>\n",
       "    <tr>\n",
       "      <th>889</th>\n",
       "      <td>890</td>\n",
       "      <td>1</td>\n",
       "      <td>1</td>\n",
       "      <td>Behr, Mr. Karl Howell</td>\n",
       "      <td>male</td>\n",
       "      <td>26.0</td>\n",
       "      <td>0</td>\n",
       "      <td>0</td>\n",
       "      <td>111369</td>\n",
       "      <td>30.0000</td>\n",
       "      <td>C148</td>\n",
       "      <td>C</td>\n",
       "    </tr>\n",
       "    <tr>\n",
       "      <th>890</th>\n",
       "      <td>891</td>\n",
       "      <td>0</td>\n",
       "      <td>3</td>\n",
       "      <td>Dooley, Mr. Patrick</td>\n",
       "      <td>male</td>\n",
       "      <td>32.0</td>\n",
       "      <td>0</td>\n",
       "      <td>0</td>\n",
       "      <td>370376</td>\n",
       "      <td>7.7500</td>\n",
       "      <td>NaN</td>\n",
       "      <td>Q</td>\n",
       "    </tr>\n",
       "  </tbody>\n",
       "</table>\n",
       "<p>891 rows × 12 columns</p>\n",
       "</div>"
      ],
      "text/plain": [
       "     PassengerId  Survived  Pclass  \\\n",
       "0              1         0       3   \n",
       "1              2         1       1   \n",
       "2              3         1       3   \n",
       "3              4         1       1   \n",
       "4              5         0       3   \n",
       "..           ...       ...     ...   \n",
       "886          887         0       2   \n",
       "887          888         1       1   \n",
       "888          889         0       3   \n",
       "889          890         1       1   \n",
       "890          891         0       3   \n",
       "\n",
       "                                                  Name     Sex   Age  SibSp  \\\n",
       "0                              Braund, Mr. Owen Harris    male  22.0      1   \n",
       "1    Cumings, Mrs. John Bradley (Florence Briggs Th...  female  38.0      1   \n",
       "2                               Heikkinen, Miss. Laina  female  26.0      0   \n",
       "3         Futrelle, Mrs. Jacques Heath (Lily May Peel)  female  35.0      1   \n",
       "4                             Allen, Mr. William Henry    male  35.0      0   \n",
       "..                                                 ...     ...   ...    ...   \n",
       "886                              Montvila, Rev. Juozas    male  27.0      0   \n",
       "887                       Graham, Miss. Margaret Edith  female  19.0      0   \n",
       "888           Johnston, Miss. Catherine Helen \"Carrie\"  female   NaN      1   \n",
       "889                              Behr, Mr. Karl Howell    male  26.0      0   \n",
       "890                                Dooley, Mr. Patrick    male  32.0      0   \n",
       "\n",
       "     Parch            Ticket     Fare Cabin Embarked  \n",
       "0        0         A/5 21171   7.2500   NaN        S  \n",
       "1        0          PC 17599  71.2833   C85        C  \n",
       "2        0  STON/O2. 3101282   7.9250   NaN        S  \n",
       "3        0            113803  53.1000  C123        S  \n",
       "4        0            373450   8.0500   NaN        S  \n",
       "..     ...               ...      ...   ...      ...  \n",
       "886      0            211536  13.0000   NaN        S  \n",
       "887      0            112053  30.0000   B42        S  \n",
       "888      2        W./C. 6607  23.4500   NaN        S  \n",
       "889      0            111369  30.0000  C148        C  \n",
       "890      0            370376   7.7500   NaN        Q  \n",
       "\n",
       "[891 rows x 12 columns]"
      ]
     },
     "execution_count": 50,
     "metadata": {},
     "output_type": "execute_result"
    }
   ],
   "source": [
    "file='titanic_kaggle_training_set.csv'\n",
    "titanic_df = pd.read_csv(loc+file)\n",
    "\n",
    "feat_list = list(titanic_df.columns)\n",
    "label = 'Survived'\n",
    "feat_list.remove(label)\n",
    "X = titanic_df[feat_list]\n",
    "#print(X)\n",
    "y=titanic_df['Survived']\n",
    "print(y)\n",
    "#y = # complete'''\n",
    "titanic_df\n"
   ]
  },
  {
   "cell_type": "markdown",
   "metadata": {
    "slideshow": {
     "slide_type": "slide"
    }
   },
   "source": [
    "Now that we have the data in the appropriate `X` and `y` arrays, estimate the accuracy with which a [K nearest neighbors](https://scikit-learn.org/stable/modules/generated/sklearn.neighbors.KNeighborsClassifier.html) classification model can predict whether or not a passenger would survive the Titanic disaster. Use $k=10$ fold cross validation for the prediction."
   ]
  },
  {
   "cell_type": "markdown",
   "metadata": {
    "slideshow": {
     "slide_type": "subslide"
    }
   },
   "source": [
    "**Problem 3b**\n",
    "\n",
    "Train a $k=7$ nearest neighbors machine learning model on the Titanic training set."
   ]
  },
  {
   "cell_type": "code",
   "execution_count": 38,
   "metadata": {
    "slideshow": {
     "slide_type": "subslide"
    }
   },
   "outputs": [
    {
     "ename": "ValueError",
     "evalue": "could not convert string to float: 'Braund, Mr. Owen Harris'",
     "output_type": "error",
     "traceback": [
      "\u001b[0;31m---------------------------------------------------------------------------\u001b[0m",
      "\u001b[0;31mValueError\u001b[0m                                Traceback (most recent call last)",
      "\u001b[0;32m<ipython-input-38-a87f7dab2ac9>\u001b[0m in \u001b[0;36m<module>\u001b[0;34m\u001b[0m\n\u001b[1;32m      1\u001b[0m \u001b[0;32mfrom\u001b[0m \u001b[0msklearn\u001b[0m\u001b[0;34m.\u001b[0m\u001b[0mneighbors\u001b[0m \u001b[0;32mimport\u001b[0m \u001b[0mKNeighborsClassifier\u001b[0m\u001b[0;34m\u001b[0m\u001b[0;34m\u001b[0m\u001b[0m\n\u001b[1;32m      2\u001b[0m \u001b[0mknn_clf\u001b[0m \u001b[0;34m=\u001b[0m \u001b[0mKNeighborsClassifier\u001b[0m\u001b[0;34m(\u001b[0m\u001b[0mn_neighbors\u001b[0m\u001b[0;34m=\u001b[0m\u001b[0;36m7\u001b[0m\u001b[0;34m)\u001b[0m\u001b[0;34m\u001b[0m\u001b[0;34m\u001b[0m\u001b[0m\n\u001b[0;32m----> 3\u001b[0;31m \u001b[0mknn_clf\u001b[0m\u001b[0;34m.\u001b[0m\u001b[0mfit\u001b[0m\u001b[0;34m(\u001b[0m\u001b[0mX\u001b[0m\u001b[0;34m,\u001b[0m \u001b[0my\u001b[0m\u001b[0;34m)\u001b[0m\u001b[0;34m\u001b[0m\u001b[0;34m\u001b[0m\u001b[0m\n\u001b[0m",
      "\u001b[0;32m~/anaconda3/envs/DSFP/lib/python3.8/site-packages/sklearn/neighbors/_classification.py\u001b[0m in \u001b[0;36mfit\u001b[0;34m(self, X, y)\u001b[0m\n\u001b[1;32m    177\u001b[0m             \u001b[0mThe\u001b[0m \u001b[0mfitted\u001b[0m \u001b[0mk\u001b[0m\u001b[0;34m-\u001b[0m\u001b[0mnearest\u001b[0m \u001b[0mneighbors\u001b[0m \u001b[0mclassifier\u001b[0m\u001b[0;34m.\u001b[0m\u001b[0;34m\u001b[0m\u001b[0;34m\u001b[0m\u001b[0m\n\u001b[1;32m    178\u001b[0m         \"\"\"\n\u001b[0;32m--> 179\u001b[0;31m         \u001b[0;32mreturn\u001b[0m \u001b[0mself\u001b[0m\u001b[0;34m.\u001b[0m\u001b[0m_fit\u001b[0m\u001b[0;34m(\u001b[0m\u001b[0mX\u001b[0m\u001b[0;34m,\u001b[0m \u001b[0my\u001b[0m\u001b[0;34m)\u001b[0m\u001b[0;34m\u001b[0m\u001b[0;34m\u001b[0m\u001b[0m\n\u001b[0m\u001b[1;32m    180\u001b[0m \u001b[0;34m\u001b[0m\u001b[0m\n\u001b[1;32m    181\u001b[0m     \u001b[0;32mdef\u001b[0m \u001b[0mpredict\u001b[0m\u001b[0;34m(\u001b[0m\u001b[0mself\u001b[0m\u001b[0;34m,\u001b[0m \u001b[0mX\u001b[0m\u001b[0;34m)\u001b[0m\u001b[0;34m:\u001b[0m\u001b[0;34m\u001b[0m\u001b[0;34m\u001b[0m\u001b[0m\n",
      "\u001b[0;32m~/anaconda3/envs/DSFP/lib/python3.8/site-packages/sklearn/neighbors/_base.py\u001b[0m in \u001b[0;36m_fit\u001b[0;34m(self, X, y)\u001b[0m\n\u001b[1;32m    361\u001b[0m         \u001b[0;32mif\u001b[0m \u001b[0mself\u001b[0m\u001b[0;34m.\u001b[0m\u001b[0m_get_tags\u001b[0m\u001b[0;34m(\u001b[0m\u001b[0;34m)\u001b[0m\u001b[0;34m[\u001b[0m\u001b[0;34m\"requires_y\"\u001b[0m\u001b[0;34m]\u001b[0m\u001b[0;34m:\u001b[0m\u001b[0;34m\u001b[0m\u001b[0;34m\u001b[0m\u001b[0m\n\u001b[1;32m    362\u001b[0m             \u001b[0;32mif\u001b[0m \u001b[0;32mnot\u001b[0m \u001b[0misinstance\u001b[0m\u001b[0;34m(\u001b[0m\u001b[0mX\u001b[0m\u001b[0;34m,\u001b[0m \u001b[0;34m(\u001b[0m\u001b[0mKDTree\u001b[0m\u001b[0;34m,\u001b[0m \u001b[0mBallTree\u001b[0m\u001b[0;34m,\u001b[0m \u001b[0mNeighborsBase\u001b[0m\u001b[0;34m)\u001b[0m\u001b[0;34m)\u001b[0m\u001b[0;34m:\u001b[0m\u001b[0;34m\u001b[0m\u001b[0;34m\u001b[0m\u001b[0m\n\u001b[0;32m--> 363\u001b[0;31m                 X, y = self._validate_data(X, y, accept_sparse=\"csr\",\n\u001b[0m\u001b[1;32m    364\u001b[0m                                            multi_output=True)\n\u001b[1;32m    365\u001b[0m \u001b[0;34m\u001b[0m\u001b[0m\n",
      "\u001b[0;32m~/anaconda3/envs/DSFP/lib/python3.8/site-packages/sklearn/base.py\u001b[0m in \u001b[0;36m_validate_data\u001b[0;34m(self, X, y, reset, validate_separately, **check_params)\u001b[0m\n\u001b[1;32m    431\u001b[0m                 \u001b[0my\u001b[0m \u001b[0;34m=\u001b[0m \u001b[0mcheck_array\u001b[0m\u001b[0;34m(\u001b[0m\u001b[0my\u001b[0m\u001b[0;34m,\u001b[0m \u001b[0;34m**\u001b[0m\u001b[0mcheck_y_params\u001b[0m\u001b[0;34m)\u001b[0m\u001b[0;34m\u001b[0m\u001b[0;34m\u001b[0m\u001b[0m\n\u001b[1;32m    432\u001b[0m             \u001b[0;32melse\u001b[0m\u001b[0;34m:\u001b[0m\u001b[0;34m\u001b[0m\u001b[0;34m\u001b[0m\u001b[0m\n\u001b[0;32m--> 433\u001b[0;31m                 \u001b[0mX\u001b[0m\u001b[0;34m,\u001b[0m \u001b[0my\u001b[0m \u001b[0;34m=\u001b[0m \u001b[0mcheck_X_y\u001b[0m\u001b[0;34m(\u001b[0m\u001b[0mX\u001b[0m\u001b[0;34m,\u001b[0m \u001b[0my\u001b[0m\u001b[0;34m,\u001b[0m \u001b[0;34m**\u001b[0m\u001b[0mcheck_params\u001b[0m\u001b[0;34m)\u001b[0m\u001b[0;34m\u001b[0m\u001b[0;34m\u001b[0m\u001b[0m\n\u001b[0m\u001b[1;32m    434\u001b[0m             \u001b[0mout\u001b[0m \u001b[0;34m=\u001b[0m \u001b[0mX\u001b[0m\u001b[0;34m,\u001b[0m \u001b[0my\u001b[0m\u001b[0;34m\u001b[0m\u001b[0;34m\u001b[0m\u001b[0m\n\u001b[1;32m    435\u001b[0m \u001b[0;34m\u001b[0m\u001b[0m\n",
      "\u001b[0;32m~/anaconda3/envs/DSFP/lib/python3.8/site-packages/sklearn/utils/validation.py\u001b[0m in \u001b[0;36minner_f\u001b[0;34m(*args, **kwargs)\u001b[0m\n\u001b[1;32m     61\u001b[0m             \u001b[0mextra_args\u001b[0m \u001b[0;34m=\u001b[0m \u001b[0mlen\u001b[0m\u001b[0;34m(\u001b[0m\u001b[0margs\u001b[0m\u001b[0;34m)\u001b[0m \u001b[0;34m-\u001b[0m \u001b[0mlen\u001b[0m\u001b[0;34m(\u001b[0m\u001b[0mall_args\u001b[0m\u001b[0;34m)\u001b[0m\u001b[0;34m\u001b[0m\u001b[0;34m\u001b[0m\u001b[0m\n\u001b[1;32m     62\u001b[0m             \u001b[0;32mif\u001b[0m \u001b[0mextra_args\u001b[0m \u001b[0;34m<=\u001b[0m \u001b[0;36m0\u001b[0m\u001b[0;34m:\u001b[0m\u001b[0;34m\u001b[0m\u001b[0;34m\u001b[0m\u001b[0m\n\u001b[0;32m---> 63\u001b[0;31m                 \u001b[0;32mreturn\u001b[0m \u001b[0mf\u001b[0m\u001b[0;34m(\u001b[0m\u001b[0;34m*\u001b[0m\u001b[0margs\u001b[0m\u001b[0;34m,\u001b[0m \u001b[0;34m**\u001b[0m\u001b[0mkwargs\u001b[0m\u001b[0;34m)\u001b[0m\u001b[0;34m\u001b[0m\u001b[0;34m\u001b[0m\u001b[0m\n\u001b[0m\u001b[1;32m     64\u001b[0m \u001b[0;34m\u001b[0m\u001b[0m\n\u001b[1;32m     65\u001b[0m             \u001b[0;31m# extra_args > 0\u001b[0m\u001b[0;34m\u001b[0m\u001b[0;34m\u001b[0m\u001b[0;34m\u001b[0m\u001b[0m\n",
      "\u001b[0;32m~/anaconda3/envs/DSFP/lib/python3.8/site-packages/sklearn/utils/validation.py\u001b[0m in \u001b[0;36mcheck_X_y\u001b[0;34m(X, y, accept_sparse, accept_large_sparse, dtype, order, copy, force_all_finite, ensure_2d, allow_nd, multi_output, ensure_min_samples, ensure_min_features, y_numeric, estimator)\u001b[0m\n\u001b[1;32m    869\u001b[0m         \u001b[0;32mraise\u001b[0m \u001b[0mValueError\u001b[0m\u001b[0;34m(\u001b[0m\u001b[0;34m\"y cannot be None\"\u001b[0m\u001b[0;34m)\u001b[0m\u001b[0;34m\u001b[0m\u001b[0;34m\u001b[0m\u001b[0m\n\u001b[1;32m    870\u001b[0m \u001b[0;34m\u001b[0m\u001b[0m\n\u001b[0;32m--> 871\u001b[0;31m     X = check_array(X, accept_sparse=accept_sparse,\n\u001b[0m\u001b[1;32m    872\u001b[0m                     \u001b[0maccept_large_sparse\u001b[0m\u001b[0;34m=\u001b[0m\u001b[0maccept_large_sparse\u001b[0m\u001b[0;34m,\u001b[0m\u001b[0;34m\u001b[0m\u001b[0;34m\u001b[0m\u001b[0m\n\u001b[1;32m    873\u001b[0m                     \u001b[0mdtype\u001b[0m\u001b[0;34m=\u001b[0m\u001b[0mdtype\u001b[0m\u001b[0;34m,\u001b[0m \u001b[0morder\u001b[0m\u001b[0;34m=\u001b[0m\u001b[0morder\u001b[0m\u001b[0;34m,\u001b[0m \u001b[0mcopy\u001b[0m\u001b[0;34m=\u001b[0m\u001b[0mcopy\u001b[0m\u001b[0;34m,\u001b[0m\u001b[0;34m\u001b[0m\u001b[0;34m\u001b[0m\u001b[0m\n",
      "\u001b[0;32m~/anaconda3/envs/DSFP/lib/python3.8/site-packages/sklearn/utils/validation.py\u001b[0m in \u001b[0;36minner_f\u001b[0;34m(*args, **kwargs)\u001b[0m\n\u001b[1;32m     61\u001b[0m             \u001b[0mextra_args\u001b[0m \u001b[0;34m=\u001b[0m \u001b[0mlen\u001b[0m\u001b[0;34m(\u001b[0m\u001b[0margs\u001b[0m\u001b[0;34m)\u001b[0m \u001b[0;34m-\u001b[0m \u001b[0mlen\u001b[0m\u001b[0;34m(\u001b[0m\u001b[0mall_args\u001b[0m\u001b[0;34m)\u001b[0m\u001b[0;34m\u001b[0m\u001b[0;34m\u001b[0m\u001b[0m\n\u001b[1;32m     62\u001b[0m             \u001b[0;32mif\u001b[0m \u001b[0mextra_args\u001b[0m \u001b[0;34m<=\u001b[0m \u001b[0;36m0\u001b[0m\u001b[0;34m:\u001b[0m\u001b[0;34m\u001b[0m\u001b[0;34m\u001b[0m\u001b[0m\n\u001b[0;32m---> 63\u001b[0;31m                 \u001b[0;32mreturn\u001b[0m \u001b[0mf\u001b[0m\u001b[0;34m(\u001b[0m\u001b[0;34m*\u001b[0m\u001b[0margs\u001b[0m\u001b[0;34m,\u001b[0m \u001b[0;34m**\u001b[0m\u001b[0mkwargs\u001b[0m\u001b[0;34m)\u001b[0m\u001b[0;34m\u001b[0m\u001b[0;34m\u001b[0m\u001b[0m\n\u001b[0m\u001b[1;32m     64\u001b[0m \u001b[0;34m\u001b[0m\u001b[0m\n\u001b[1;32m     65\u001b[0m             \u001b[0;31m# extra_args > 0\u001b[0m\u001b[0;34m\u001b[0m\u001b[0;34m\u001b[0m\u001b[0;34m\u001b[0m\u001b[0m\n",
      "\u001b[0;32m~/anaconda3/envs/DSFP/lib/python3.8/site-packages/sklearn/utils/validation.py\u001b[0m in \u001b[0;36mcheck_array\u001b[0;34m(array, accept_sparse, accept_large_sparse, dtype, order, copy, force_all_finite, ensure_2d, allow_nd, ensure_min_samples, ensure_min_features, estimator)\u001b[0m\n\u001b[1;32m    671\u001b[0m                     \u001b[0marray\u001b[0m \u001b[0;34m=\u001b[0m \u001b[0marray\u001b[0m\u001b[0;34m.\u001b[0m\u001b[0mastype\u001b[0m\u001b[0;34m(\u001b[0m\u001b[0mdtype\u001b[0m\u001b[0;34m,\u001b[0m \u001b[0mcasting\u001b[0m\u001b[0;34m=\u001b[0m\u001b[0;34m\"unsafe\"\u001b[0m\u001b[0;34m,\u001b[0m \u001b[0mcopy\u001b[0m\u001b[0;34m=\u001b[0m\u001b[0;32mFalse\u001b[0m\u001b[0;34m)\u001b[0m\u001b[0;34m\u001b[0m\u001b[0;34m\u001b[0m\u001b[0m\n\u001b[1;32m    672\u001b[0m                 \u001b[0;32melse\u001b[0m\u001b[0;34m:\u001b[0m\u001b[0;34m\u001b[0m\u001b[0;34m\u001b[0m\u001b[0m\n\u001b[0;32m--> 673\u001b[0;31m                     \u001b[0marray\u001b[0m \u001b[0;34m=\u001b[0m \u001b[0mnp\u001b[0m\u001b[0;34m.\u001b[0m\u001b[0masarray\u001b[0m\u001b[0;34m(\u001b[0m\u001b[0marray\u001b[0m\u001b[0;34m,\u001b[0m \u001b[0morder\u001b[0m\u001b[0;34m=\u001b[0m\u001b[0morder\u001b[0m\u001b[0;34m,\u001b[0m \u001b[0mdtype\u001b[0m\u001b[0;34m=\u001b[0m\u001b[0mdtype\u001b[0m\u001b[0;34m)\u001b[0m\u001b[0;34m\u001b[0m\u001b[0;34m\u001b[0m\u001b[0m\n\u001b[0m\u001b[1;32m    674\u001b[0m             \u001b[0;32mexcept\u001b[0m \u001b[0mComplexWarning\u001b[0m \u001b[0;32mas\u001b[0m \u001b[0mcomplex_warning\u001b[0m\u001b[0;34m:\u001b[0m\u001b[0;34m\u001b[0m\u001b[0;34m\u001b[0m\u001b[0m\n\u001b[1;32m    675\u001b[0m                 raise ValueError(\"Complex data not supported\\n\"\n",
      "\u001b[0;32m~/anaconda3/envs/DSFP/lib/python3.8/site-packages/numpy/core/_asarray.py\u001b[0m in \u001b[0;36masarray\u001b[0;34m(a, dtype, order, like)\u001b[0m\n\u001b[1;32m    100\u001b[0m         \u001b[0;32mreturn\u001b[0m \u001b[0m_asarray_with_like\u001b[0m\u001b[0;34m(\u001b[0m\u001b[0ma\u001b[0m\u001b[0;34m,\u001b[0m \u001b[0mdtype\u001b[0m\u001b[0;34m=\u001b[0m\u001b[0mdtype\u001b[0m\u001b[0;34m,\u001b[0m \u001b[0morder\u001b[0m\u001b[0;34m=\u001b[0m\u001b[0morder\u001b[0m\u001b[0;34m,\u001b[0m \u001b[0mlike\u001b[0m\u001b[0;34m=\u001b[0m\u001b[0mlike\u001b[0m\u001b[0;34m)\u001b[0m\u001b[0;34m\u001b[0m\u001b[0;34m\u001b[0m\u001b[0m\n\u001b[1;32m    101\u001b[0m \u001b[0;34m\u001b[0m\u001b[0m\n\u001b[0;32m--> 102\u001b[0;31m     \u001b[0;32mreturn\u001b[0m \u001b[0marray\u001b[0m\u001b[0;34m(\u001b[0m\u001b[0ma\u001b[0m\u001b[0;34m,\u001b[0m \u001b[0mdtype\u001b[0m\u001b[0;34m,\u001b[0m \u001b[0mcopy\u001b[0m\u001b[0;34m=\u001b[0m\u001b[0;32mFalse\u001b[0m\u001b[0;34m,\u001b[0m \u001b[0morder\u001b[0m\u001b[0;34m=\u001b[0m\u001b[0morder\u001b[0m\u001b[0;34m)\u001b[0m\u001b[0;34m\u001b[0m\u001b[0;34m\u001b[0m\u001b[0m\n\u001b[0m\u001b[1;32m    103\u001b[0m \u001b[0;34m\u001b[0m\u001b[0m\n\u001b[1;32m    104\u001b[0m \u001b[0;34m\u001b[0m\u001b[0m\n",
      "\u001b[0;32m~/anaconda3/envs/DSFP/lib/python3.8/site-packages/pandas/core/generic.py\u001b[0m in \u001b[0;36m__array__\u001b[0;34m(self, dtype)\u001b[0m\n\u001b[1;32m   1988\u001b[0m \u001b[0;34m\u001b[0m\u001b[0m\n\u001b[1;32m   1989\u001b[0m     \u001b[0;32mdef\u001b[0m \u001b[0m__array__\u001b[0m\u001b[0;34m(\u001b[0m\u001b[0mself\u001b[0m\u001b[0;34m,\u001b[0m \u001b[0mdtype\u001b[0m\u001b[0;34m:\u001b[0m \u001b[0mNpDtype\u001b[0m \u001b[0;34m|\u001b[0m \u001b[0;32mNone\u001b[0m \u001b[0;34m=\u001b[0m \u001b[0;32mNone\u001b[0m\u001b[0;34m)\u001b[0m \u001b[0;34m->\u001b[0m \u001b[0mnp\u001b[0m\u001b[0;34m.\u001b[0m\u001b[0mndarray\u001b[0m\u001b[0;34m:\u001b[0m\u001b[0;34m\u001b[0m\u001b[0;34m\u001b[0m\u001b[0m\n\u001b[0;32m-> 1990\u001b[0;31m         \u001b[0;32mreturn\u001b[0m \u001b[0mnp\u001b[0m\u001b[0;34m.\u001b[0m\u001b[0masarray\u001b[0m\u001b[0;34m(\u001b[0m\u001b[0mself\u001b[0m\u001b[0;34m.\u001b[0m\u001b[0m_values\u001b[0m\u001b[0;34m,\u001b[0m \u001b[0mdtype\u001b[0m\u001b[0;34m=\u001b[0m\u001b[0mdtype\u001b[0m\u001b[0;34m)\u001b[0m\u001b[0;34m\u001b[0m\u001b[0;34m\u001b[0m\u001b[0m\n\u001b[0m\u001b[1;32m   1991\u001b[0m \u001b[0;34m\u001b[0m\u001b[0m\n\u001b[1;32m   1992\u001b[0m     def __array_wrap__(\n",
      "\u001b[0;32m~/anaconda3/envs/DSFP/lib/python3.8/site-packages/numpy/core/_asarray.py\u001b[0m in \u001b[0;36masarray\u001b[0;34m(a, dtype, order, like)\u001b[0m\n\u001b[1;32m    100\u001b[0m         \u001b[0;32mreturn\u001b[0m \u001b[0m_asarray_with_like\u001b[0m\u001b[0;34m(\u001b[0m\u001b[0ma\u001b[0m\u001b[0;34m,\u001b[0m \u001b[0mdtype\u001b[0m\u001b[0;34m=\u001b[0m\u001b[0mdtype\u001b[0m\u001b[0;34m,\u001b[0m \u001b[0morder\u001b[0m\u001b[0;34m=\u001b[0m\u001b[0morder\u001b[0m\u001b[0;34m,\u001b[0m \u001b[0mlike\u001b[0m\u001b[0;34m=\u001b[0m\u001b[0mlike\u001b[0m\u001b[0;34m)\u001b[0m\u001b[0;34m\u001b[0m\u001b[0;34m\u001b[0m\u001b[0m\n\u001b[1;32m    101\u001b[0m \u001b[0;34m\u001b[0m\u001b[0m\n\u001b[0;32m--> 102\u001b[0;31m     \u001b[0;32mreturn\u001b[0m \u001b[0marray\u001b[0m\u001b[0;34m(\u001b[0m\u001b[0ma\u001b[0m\u001b[0;34m,\u001b[0m \u001b[0mdtype\u001b[0m\u001b[0;34m,\u001b[0m \u001b[0mcopy\u001b[0m\u001b[0;34m=\u001b[0m\u001b[0;32mFalse\u001b[0m\u001b[0;34m,\u001b[0m \u001b[0morder\u001b[0m\u001b[0;34m=\u001b[0m\u001b[0morder\u001b[0m\u001b[0;34m)\u001b[0m\u001b[0;34m\u001b[0m\u001b[0;34m\u001b[0m\u001b[0m\n\u001b[0m\u001b[1;32m    103\u001b[0m \u001b[0;34m\u001b[0m\u001b[0m\n\u001b[1;32m    104\u001b[0m \u001b[0;34m\u001b[0m\u001b[0m\n",
      "\u001b[0;31mValueError\u001b[0m: could not convert string to float: 'Braund, Mr. Owen Harris'"
     ]
    }
   ],
   "source": [
    "from sklearn.neighbors import KNeighborsClassifier\n",
    "knn_clf = KNeighborsClassifier(n_neighbors=7)\n",
    "knn_clf.fit(X, y)"
   ]
  },
  {
   "cell_type": "markdown",
   "metadata": {
    "slideshow": {
     "slide_type": "slide"
    }
   },
   "source": [
    "Note - that should have failed! And for good reason - recall that `kNN` models measure the Euclidean distance between all points within the feature space. So, when considering the sex of a passenger, what is the *numerical* distance between male and female? "
   ]
  },
  {
   "cell_type": "markdown",
   "metadata": {
    "slideshow": {
     "slide_type": "subslide"
    }
   },
   "source": [
    "In other words, we need to wrangle this data before we can run the machine learning model. \n",
    "\n",
    "Most of the features in this problem are non-numeric (i.e. we are dealing with categorical features), and therefore we need to figure out how to include them in the `kNN` model. "
   ]
  },
  {
   "cell_type": "markdown",
   "metadata": {
    "slideshow": {
     "slide_type": "subslide"
    }
   },
   "source": [
    "The first step when wrangling for machine learning is to figure out if anything can be thrown away. We certainly want to avoid including any uninformative features in the model. \n",
    "\n",
    "*If you haven't already, now would be a good time to create a new cell and examine the contents of the csv*"
   ]
  },
  {
   "cell_type": "code",
   "execution_count": 51,
   "metadata": {
    "slideshow": {
     "slide_type": "skip"
    }
   },
   "outputs": [
    {
     "data": {
      "text/html": [
       "<div>\n",
       "<style scoped>\n",
       "    .dataframe tbody tr th:only-of-type {\n",
       "        vertical-align: middle;\n",
       "    }\n",
       "\n",
       "    .dataframe tbody tr th {\n",
       "        vertical-align: top;\n",
       "    }\n",
       "\n",
       "    .dataframe thead th {\n",
       "        text-align: right;\n",
       "    }\n",
       "</style>\n",
       "<table border=\"1\" class=\"dataframe\">\n",
       "  <thead>\n",
       "    <tr style=\"text-align: right;\">\n",
       "      <th></th>\n",
       "      <th>PassengerId</th>\n",
       "      <th>Survived</th>\n",
       "      <th>Pclass</th>\n",
       "      <th>Name</th>\n",
       "      <th>Sex</th>\n",
       "      <th>Age</th>\n",
       "      <th>SibSp</th>\n",
       "      <th>Parch</th>\n",
       "      <th>Ticket</th>\n",
       "      <th>Fare</th>\n",
       "      <th>Cabin</th>\n",
       "      <th>Embarked</th>\n",
       "    </tr>\n",
       "  </thead>\n",
       "  <tbody>\n",
       "    <tr>\n",
       "      <th>0</th>\n",
       "      <td>1</td>\n",
       "      <td>0</td>\n",
       "      <td>3</td>\n",
       "      <td>Braund, Mr. Owen Harris</td>\n",
       "      <td>male</td>\n",
       "      <td>22.0</td>\n",
       "      <td>1</td>\n",
       "      <td>0</td>\n",
       "      <td>A/5 21171</td>\n",
       "      <td>7.2500</td>\n",
       "      <td>NaN</td>\n",
       "      <td>S</td>\n",
       "    </tr>\n",
       "    <tr>\n",
       "      <th>1</th>\n",
       "      <td>2</td>\n",
       "      <td>1</td>\n",
       "      <td>1</td>\n",
       "      <td>Cumings, Mrs. John Bradley (Florence Briggs Th...</td>\n",
       "      <td>female</td>\n",
       "      <td>38.0</td>\n",
       "      <td>1</td>\n",
       "      <td>0</td>\n",
       "      <td>PC 17599</td>\n",
       "      <td>71.2833</td>\n",
       "      <td>C85</td>\n",
       "      <td>C</td>\n",
       "    </tr>\n",
       "    <tr>\n",
       "      <th>2</th>\n",
       "      <td>3</td>\n",
       "      <td>1</td>\n",
       "      <td>3</td>\n",
       "      <td>Heikkinen, Miss. Laina</td>\n",
       "      <td>female</td>\n",
       "      <td>26.0</td>\n",
       "      <td>0</td>\n",
       "      <td>0</td>\n",
       "      <td>STON/O2. 3101282</td>\n",
       "      <td>7.9250</td>\n",
       "      <td>NaN</td>\n",
       "      <td>S</td>\n",
       "    </tr>\n",
       "    <tr>\n",
       "      <th>3</th>\n",
       "      <td>4</td>\n",
       "      <td>1</td>\n",
       "      <td>1</td>\n",
       "      <td>Futrelle, Mrs. Jacques Heath (Lily May Peel)</td>\n",
       "      <td>female</td>\n",
       "      <td>35.0</td>\n",
       "      <td>1</td>\n",
       "      <td>0</td>\n",
       "      <td>113803</td>\n",
       "      <td>53.1000</td>\n",
       "      <td>C123</td>\n",
       "      <td>S</td>\n",
       "    </tr>\n",
       "    <tr>\n",
       "      <th>4</th>\n",
       "      <td>5</td>\n",
       "      <td>0</td>\n",
       "      <td>3</td>\n",
       "      <td>Allen, Mr. William Henry</td>\n",
       "      <td>male</td>\n",
       "      <td>35.0</td>\n",
       "      <td>0</td>\n",
       "      <td>0</td>\n",
       "      <td>373450</td>\n",
       "      <td>8.0500</td>\n",
       "      <td>NaN</td>\n",
       "      <td>S</td>\n",
       "    </tr>\n",
       "    <tr>\n",
       "      <th>...</th>\n",
       "      <td>...</td>\n",
       "      <td>...</td>\n",
       "      <td>...</td>\n",
       "      <td>...</td>\n",
       "      <td>...</td>\n",
       "      <td>...</td>\n",
       "      <td>...</td>\n",
       "      <td>...</td>\n",
       "      <td>...</td>\n",
       "      <td>...</td>\n",
       "      <td>...</td>\n",
       "      <td>...</td>\n",
       "    </tr>\n",
       "    <tr>\n",
       "      <th>886</th>\n",
       "      <td>887</td>\n",
       "      <td>0</td>\n",
       "      <td>2</td>\n",
       "      <td>Montvila, Rev. Juozas</td>\n",
       "      <td>male</td>\n",
       "      <td>27.0</td>\n",
       "      <td>0</td>\n",
       "      <td>0</td>\n",
       "      <td>211536</td>\n",
       "      <td>13.0000</td>\n",
       "      <td>NaN</td>\n",
       "      <td>S</td>\n",
       "    </tr>\n",
       "    <tr>\n",
       "      <th>887</th>\n",
       "      <td>888</td>\n",
       "      <td>1</td>\n",
       "      <td>1</td>\n",
       "      <td>Graham, Miss. Margaret Edith</td>\n",
       "      <td>female</td>\n",
       "      <td>19.0</td>\n",
       "      <td>0</td>\n",
       "      <td>0</td>\n",
       "      <td>112053</td>\n",
       "      <td>30.0000</td>\n",
       "      <td>B42</td>\n",
       "      <td>S</td>\n",
       "    </tr>\n",
       "    <tr>\n",
       "      <th>888</th>\n",
       "      <td>889</td>\n",
       "      <td>0</td>\n",
       "      <td>3</td>\n",
       "      <td>Johnston, Miss. Catherine Helen \"Carrie\"</td>\n",
       "      <td>female</td>\n",
       "      <td>NaN</td>\n",
       "      <td>1</td>\n",
       "      <td>2</td>\n",
       "      <td>W./C. 6607</td>\n",
       "      <td>23.4500</td>\n",
       "      <td>NaN</td>\n",
       "      <td>S</td>\n",
       "    </tr>\n",
       "    <tr>\n",
       "      <th>889</th>\n",
       "      <td>890</td>\n",
       "      <td>1</td>\n",
       "      <td>1</td>\n",
       "      <td>Behr, Mr. Karl Howell</td>\n",
       "      <td>male</td>\n",
       "      <td>26.0</td>\n",
       "      <td>0</td>\n",
       "      <td>0</td>\n",
       "      <td>111369</td>\n",
       "      <td>30.0000</td>\n",
       "      <td>C148</td>\n",
       "      <td>C</td>\n",
       "    </tr>\n",
       "    <tr>\n",
       "      <th>890</th>\n",
       "      <td>891</td>\n",
       "      <td>0</td>\n",
       "      <td>3</td>\n",
       "      <td>Dooley, Mr. Patrick</td>\n",
       "      <td>male</td>\n",
       "      <td>32.0</td>\n",
       "      <td>0</td>\n",
       "      <td>0</td>\n",
       "      <td>370376</td>\n",
       "      <td>7.7500</td>\n",
       "      <td>NaN</td>\n",
       "      <td>Q</td>\n",
       "    </tr>\n",
       "  </tbody>\n",
       "</table>\n",
       "<p>891 rows × 12 columns</p>\n",
       "</div>"
      ],
      "text/plain": [
       "     PassengerId  Survived  Pclass  \\\n",
       "0              1         0       3   \n",
       "1              2         1       1   \n",
       "2              3         1       3   \n",
       "3              4         1       1   \n",
       "4              5         0       3   \n",
       "..           ...       ...     ...   \n",
       "886          887         0       2   \n",
       "887          888         1       1   \n",
       "888          889         0       3   \n",
       "889          890         1       1   \n",
       "890          891         0       3   \n",
       "\n",
       "                                                  Name     Sex   Age  SibSp  \\\n",
       "0                              Braund, Mr. Owen Harris    male  22.0      1   \n",
       "1    Cumings, Mrs. John Bradley (Florence Briggs Th...  female  38.0      1   \n",
       "2                               Heikkinen, Miss. Laina  female  26.0      0   \n",
       "3         Futrelle, Mrs. Jacques Heath (Lily May Peel)  female  35.0      1   \n",
       "4                             Allen, Mr. William Henry    male  35.0      0   \n",
       "..                                                 ...     ...   ...    ...   \n",
       "886                              Montvila, Rev. Juozas    male  27.0      0   \n",
       "887                       Graham, Miss. Margaret Edith  female  19.0      0   \n",
       "888           Johnston, Miss. Catherine Helen \"Carrie\"  female   NaN      1   \n",
       "889                              Behr, Mr. Karl Howell    male  26.0      0   \n",
       "890                                Dooley, Mr. Patrick    male  32.0      0   \n",
       "\n",
       "     Parch            Ticket     Fare Cabin Embarked  \n",
       "0        0         A/5 21171   7.2500   NaN        S  \n",
       "1        0          PC 17599  71.2833   C85        C  \n",
       "2        0  STON/O2. 3101282   7.9250   NaN        S  \n",
       "3        0            113803  53.1000  C123        S  \n",
       "4        0            373450   8.0500   NaN        S  \n",
       "..     ...               ...      ...   ...      ...  \n",
       "886      0            211536  13.0000   NaN        S  \n",
       "887      0            112053  30.0000   B42        S  \n",
       "888      2        W./C. 6607  23.4500   NaN        S  \n",
       "889      0            111369  30.0000  C148        C  \n",
       "890      0            370376   7.7500   NaN        Q  \n",
       "\n",
       "[891 rows x 12 columns]"
      ]
     },
     "execution_count": 51,
     "metadata": {},
     "output_type": "execute_result"
    }
   ],
   "source": [
    "titanic_df"
   ]
  },
  {
   "cell_type": "markdown",
   "metadata": {
    "slideshow": {
     "slide_type": "subslide"
    }
   },
   "source": [
    "**Problem 3c** \n",
    "\n",
    "Are there any features that *obviously* will not help with this classification problem?\n",
    "\n",
    "*If you answer yes - ignore those features moving forward*"
   ]
  },
  {
   "cell_type": "markdown",
   "metadata": {
    "slideshow": {
     "slide_type": "subslide"
    }
   },
   "source": [
    "**Solution 3c**\n",
    "\n",
    "*PassengerId, Name, Ticket, Cabin, Embarked*"
   ]
  },
  {
   "cell_type": "code",
   "execution_count": 68,
   "metadata": {},
   "outputs": [
    {
     "name": "stdout",
     "output_type": "stream",
     "text": [
      "['Pclass', 'Sex', 'Age', 'SibSp', 'Parch', 'Fare']\n"
     ]
    },
    {
     "ename": "ValueError",
     "evalue": "list.remove(x): x not in list",
     "output_type": "error",
     "traceback": [
      "\u001b[0;31m---------------------------------------------------------------------------\u001b[0m",
      "\u001b[0;31mValueError\u001b[0m                                Traceback (most recent call last)",
      "\u001b[0;32m<ipython-input-68-63ce81e66830>\u001b[0m in \u001b[0;36m<module>\u001b[0;34m\u001b[0m\n\u001b[1;32m      2\u001b[0m \u001b[0mprint\u001b[0m\u001b[0;34m(\u001b[0m\u001b[0mfeat_list\u001b[0m\u001b[0;34m)\u001b[0m\u001b[0;34m\u001b[0m\u001b[0;34m\u001b[0m\u001b[0m\n\u001b[1;32m      3\u001b[0m \u001b[0;32mfor\u001b[0m \u001b[0ml\u001b[0m \u001b[0;32min\u001b[0m \u001b[0mlabel\u001b[0m\u001b[0;34m:\u001b[0m\u001b[0;34m\u001b[0m\u001b[0;34m\u001b[0m\u001b[0m\n\u001b[0;32m----> 4\u001b[0;31m     \u001b[0mfeat_list\u001b[0m\u001b[0;34m.\u001b[0m\u001b[0mremove\u001b[0m\u001b[0;34m(\u001b[0m\u001b[0ml\u001b[0m\u001b[0;34m)\u001b[0m\u001b[0;34m\u001b[0m\u001b[0;34m\u001b[0m\u001b[0m\n\u001b[0m\u001b[1;32m      5\u001b[0m \u001b[0mprint\u001b[0m\u001b[0;34m(\u001b[0m\u001b[0mfeat_list\u001b[0m\u001b[0;34m)\u001b[0m\u001b[0;34m\u001b[0m\u001b[0;34m\u001b[0m\u001b[0m\n",
      "\u001b[0;31mValueError\u001b[0m: list.remove(x): x not in list"
     ]
    }
   ],
   "source": [
    "label = ['Sex','Age','PassengerId','Name', 'Ticket', 'Cabin', 'Embarked']\n",
    "print(feat_list)\n",
    "for l in label:\n",
    "    feat_list.remove(l)\n",
    "print(feat_list)"
   ]
  },
  {
   "cell_type": "code",
   "execution_count": 69,
   "metadata": {},
   "outputs": [
    {
     "name": "stdout",
     "output_type": "stream",
     "text": [
      "['Pclass', 'SibSp', 'Parch', 'Fare']\n",
      "male\n"
     ]
    },
    {
     "data": {
      "text/plain": [
       "\"\\nfor i in np.arange(len(titanic_df['Sex'])):\\n    if titanic_df['Sex'][i] == 'male': titanic_df['Sex'][i] = 1 \\n    else: titanic_df['Sex'][i] = 0\\nprint(titanic_df['Sex'])\\n\""
      ]
     },
     "execution_count": 69,
     "metadata": {},
     "output_type": "execute_result"
    }
   ],
   "source": [
    "print(feat_list)\n",
    "X = titanic_df[feat_list]\n",
    "\n"
   ]
  },
  {
   "cell_type": "markdown",
   "metadata": {
    "slideshow": {
     "slide_type": "slide"
    }
   },
   "source": [
    "Given that we have both categorical and numeric features, let's start with the numerical features and see how well they can predict survival on the Titanic.\n",
    "\n",
    "One note - for now we are going to exclude `Age`, because as you saw when you examined the data, there are some passengers that do not have any age information. This problem, known as \"missing data\" is one that we will deal with before the end of this problem."
   ]
  },
  {
   "cell_type": "markdown",
   "metadata": {
    "slideshow": {
     "slide_type": "subslide"
    }
   },
   "source": [
    "**Problem 3d**\n",
    "\n",
    "How accurately can the numeric features, `Pclass`, `SibSp`, `Parch`, and `Fare` predict survival on the Titanic? Use a $k = 7$ Nearest Neighbors model, and estimate the model accuracy using 10-fold cross validation. \n",
    "\n",
    "*Hint 1 - you'll want to redefine your features vector `X`*\n",
    "\n",
    "*Hint 2 - you may find [`cross_val_score`](https://scikit-learn.org/stable/modules/generated/sklearn.model_selection.cross_val_score.html) from `scikit-learn` helpful*"
   ]
  },
  {
   "cell_type": "code",
   "execution_count": 72,
   "metadata": {
    "slideshow": {
     "slide_type": "subslide"
    }
   },
   "outputs": [
    {
     "name": "stdout",
     "output_type": "stream",
     "text": [
      "The accuracy from numeric features = 67.91%\n"
     ]
    }
   ],
   "source": [
    "from sklearn.model_selection import cross_val_score\n",
    "\n",
    "X = titanic_df[feat_list]\n",
    "\n",
    "from sklearn.neighbors import KNeighborsClassifier\n",
    "knn_clf = KNeighborsClassifier(n_neighbors=7)\n",
    "knn_clf.fit(X, y)\n",
    "\n",
    "cv_results = cross_val_score(knn_clf, X, y)\n",
    "\n",
    "print('The accuracy from numeric features = {:.2f}%'.format(100*np.mean(cv_results)))"
   ]
  },
  {
   "cell_type": "markdown",
   "metadata": {
    "slideshow": {
     "slide_type": "slide"
    }
   },
   "source": [
    "An accuracy of 68% isn't particularly inspiring. But, there's a lot of important information that we are excluding. As far as the Titanic is concerned, Kate and Leo taught us that [female passengers are far more likely to survive](https://qph.fs.quoracdn.net/main-qimg-93eb36091c7eec872b891fa51dc5722b), while [male passengers are not](http://hoycinema.abc.es/Media/201602/03/titanic-kate-dicaprio--644x362.jpg). So, if we can include gender in the model then we may be able to achieve more accurate predictions. "
   ]
  },
  {
   "cell_type": "markdown",
   "metadata": {
    "slideshow": {
     "slide_type": "subslide"
    }
   },
   "source": [
    "**Problem 3e**\n",
    "\n",
    "Create a new feature called `gender` that equals 1 for male passengers and 2 for female passengers. Add this feature to your dataframe, and include it in a `kNN` model with the other numeric features. Does the inclusion of this feature improve the 10-fold CV accuracy?"
   ]
  },
  {
   "cell_type": "code",
   "execution_count": 93,
   "metadata": {
    "slideshow": {
     "slide_type": "subslide"
    }
   },
   "outputs": [
    {
     "name": "stdout",
     "output_type": "stream",
     "text": [
      "['Pclass', 'SibSp', 'Parch', 'Fare', 'gender']\n",
      "     Pclass  SibSp  Parch     Fare  gender\n",
      "0         3      1      0   7.2500     1.0\n",
      "1         1      1      0  71.2833     0.0\n",
      "2         3      0      0   7.9250     0.0\n",
      "3         1      1      0  53.1000     0.0\n",
      "4         3      0      0   8.0500     1.0\n",
      "..      ...    ...    ...      ...     ...\n",
      "886       2      0      0  13.0000     1.0\n",
      "887       1      0      0  30.0000     0.0\n",
      "888       3      1      2  23.4500     0.0\n",
      "889       1      0      0  30.0000     1.0\n",
      "890       3      0      0   7.7500     1.0\n",
      "\n",
      "[891 rows x 5 columns]\n",
      "The accuracy when including gender = 76.21%\n"
     ]
    }
   ],
   "source": [
    "gender = np.zeros(len(titanic_df['Sex']))\n",
    "for i in np.arange(len(titanic_df['Sex'])):\n",
    "    if titanic_df['Sex'][i] == 'male': gender[i] = 1 \n",
    "    elif titanic_df['Sex'][i] == 'female' : gender[i] = 0\n",
    "\n",
    "titanic_df['gender'] = gender\n",
    "\n",
    "print(feat_list)\n",
    "X = titanic_df[feat_list]\n",
    "print(X)\n",
    "#knn_clf = KNeighborsClassifier(n_neighbors=7)\n",
    "knn_clf.fit(X, y)\n",
    "\n",
    "cv_results = cross_val_score(knn_clf, X, y)\n",
    "\n",
    "print('The accuracy when including gender = {:.2f}%'.format(100*np.mean(cv_results)))"
   ]
  },
  {
   "cell_type": "markdown",
   "metadata": {
    "slideshow": {
     "slide_type": "slide"
    }
   },
   "source": [
    "A 14% improvement is pretty good! But, we can wrangle even more out of the gender feature. Recall that `kNN` models measure the Euclidean distance between sources, meaning the scale of each feature really matters. Given that the fare ranges from 0 up to 512.3292, the `kNN` model will see this feature as far more important than `gender`, for no other reason than the units that have been adopted. \n",
    "\n",
    "If women are far more likely to survive than men, then we want to be sure that gender is weighted at least the same as all the other features, which we can do with a minmax scaler. As a brief reminder - a minmax scaler scales all values of a feature to be between 0 and 1 by subtracting the minimum value of each feature and then dividing by the maximum minus the minimum. "
   ]
  },
  {
   "cell_type": "markdown",
   "metadata": {
    "slideshow": {
     "slide_type": "subslide"
    }
   },
   "source": [
    "**Problem 3f**\n",
    "\n",
    "Scale all the features from the previous problem using a minmax scaler and evaluate the CV accuracy of the `kNN` model.\n",
    "\n",
    "*Hint - you may find [`MinMaxScaler`](https://scikit-learn.org/stable/modules/generated/sklearn.preprocessing.MinMaxScaler.html) helpful*"
   ]
  },
  {
   "cell_type": "code",
   "execution_count": 94,
   "metadata": {
    "slideshow": {
     "slide_type": "subslide"
    }
   },
   "outputs": [
    {
     "name": "stdout",
     "output_type": "stream",
     "text": [
      "The accuracy when scaling features = 79.80%\n"
     ]
    }
   ],
   "source": [
    "from sklearn.preprocessing import MinMaxScaler\n",
    "\n",
    "scaler = MinMaxScaler()\n",
    "scaler.fit(X)\n",
    "Xminmax = scaler.transform(X)\n",
    "\n",
    "knn_clf = KNeighborsClassifier(n_neighbors=7)\n",
    "knn_clf.fit(Xminmax, y)\n",
    "\n",
    "cv_results = cross_val_score(knn_clf, Xminmax, y)\n",
    "\n",
    "print('The accuracy when scaling features = {:.2f}%'.format(100*np.mean(cv_results)))"
   ]
  },
  {
   "cell_type": "markdown",
   "metadata": {
    "slideshow": {
     "slide_type": "slide"
    }
   },
   "source": [
    "Scaling the features leads to further improvement!\n",
    "\n",
    "Now turn your attention to another categorical feature, `Embarked`, which includes the point of origin for each passenger and has three categories, `S`, `Q`, and `C`. We need to convert these values to a numeric representation for inclusion in the model."
   ]
  },
  {
   "cell_type": "markdown",
   "metadata": {
    "slideshow": {
     "slide_type": "subslide"
    }
   },
   "source": [
    "**Problem 3g**\n",
    "\n",
    "Convert the categorical feature `Embarked` to a numeric representation, and add it to the `titanic_df`."
   ]
  },
  {
   "cell_type": "code",
   "execution_count": 95,
   "metadata": {
    "slideshow": {
     "slide_type": "subslide"
    }
   },
   "outputs": [],
   "source": [
    "# following previous example, set C = 0, S = 1, Q = 2\n",
    "\n",
    "num_embarked = np.zeros(len(titanic_df['Embarked']))\n",
    "for i in np.arange(len(titanic_df['Embarked'])):\n",
    "    if titanic_df['Embarked'][i] == 'C': num_embarked[i] = 0 \n",
    "    elif titanic_df['Embarked'][i] == 'S': num_embarked[i] = 1 \n",
    "    elif titanic_df['Embarked'][i] == 'Q': num_embarked[i] = 2\n",
    "\n",
    "porigin = num_embarked\n",
    "\n",
    "titanic_df['porigin'] = porigin"
   ]
  },
  {
   "cell_type": "markdown",
   "metadata": {
    "slideshow": {
     "slide_type": "slide"
    }
   },
   "source": [
    "But wait! Does this actually make sense?\n",
    "\n",
    "Our \"numerification\" has now introduced order where there previously was none. We are effectively telling the model that Cherbourg and Queenstown are far apart (not in distance but in terms of the similarity of the passengers that boarded the ship in each location), while each are equally close to Southampton. Is there actually any evidence to support this conclusion? "
   ]
  },
  {
   "cell_type": "markdown",
   "metadata": {
    "slideshow": {
     "slide_type": "subslide"
    }
   },
   "source": [
    "By definition categorical features do not have order (e.g., cat, dog, horse, elephant), and therefore we should not impose any when converting these features to numeric values for inclusion in our model. Instead, we should be creating a new set of binary features for every category within the feature set. Thus, `Embarked` will now need to be represented by 3 different features, where the feature `Queenstown` equals one for passengers that boarded there and zero for everyone else. "
   ]
  },
  {
   "cell_type": "markdown",
   "metadata": {
    "slideshow": {
     "slide_type": "subslide"
    }
   },
   "source": [
    "**Problem 3h**\n",
    "\n",
    "Complete the function below that will automatically create binary arrays for a categorical feature."
   ]
  },
  {
   "cell_type": "code",
   "execution_count": null,
   "metadata": {
    "slideshow": {
     "slide_type": "subslide"
    }
   },
   "outputs": [],
   "source": [
    "def create_bin_cat_feats(feature_array):\n",
    "    categories = np.unique(feature_array)\n",
    "    feat_dict = {}\n",
    "    for cat in categories:\n",
    "        for arr in feature_array:\n",
    "            if arr = cat: feat_dict={cat:1}\n",
    "    return feat_dict"
   ]
  },
  {
   "cell_type": "markdown",
   "metadata": {
    "slideshow": {
     "slide_type": "slide"
    }
   },
   "source": [
    "**Problem 3i**\n",
    "\n",
    "Use the `create_bin_cat_feats` function to convert the `Embarked` and `Sex` categorical features to a numeric representation (yes we need to do this for `Sex` as well where we otherwise previously introduced order). Add these features to the `titanic_df` data frame."
   ]
  },
  {
   "cell_type": "code",
   "execution_count": null,
   "metadata": {
    "slideshow": {
     "slide_type": "subslide"
    }
   },
   "outputs": [],
   "source": [
    "gender_dict = create_bin_cat_feats( # complete\n",
    "porigin_dict = create_bin_cat_feats( # complete\n",
    "\n",
    "for feat in gender_dict.keys():\n",
    "    titanic_df[feat] = gender_dict[feat]\n",
    "    \n",
    "for feat in porigin_dict.keys():\n",
    "    titanic_df[feat] = porigin_dict[feat]"
   ]
  },
  {
   "cell_type": "markdown",
   "metadata": {
    "slideshow": {
     "slide_type": "slide"
    }
   },
   "source": [
    "**Problem 3j**\n",
    "\n",
    "Use the newly created `female`, `male`, `S`, `Q`, and `C` features in combination with the `Pclass`, `SibSp`, `Parch`, and `Fare` features to estimate the classification accuracy of a $k = 7$ nearest neighbors model with 10-fold cross validation.\n",
    "\n",
    "How does the addition of the point of origin feature affect the final model output?\n",
    "\n",
    "*Hint - don't forget to scale the features in the model*"
   ]
  },
  {
   "cell_type": "code",
   "execution_count": null,
   "metadata": {
    "slideshow": {
     "slide_type": "subslide"
    }
   },
   "outputs": [],
   "source": [
    "from sklearn.preprocessing import MinMaxScaler\n",
    "\n",
    "X = # complete\n",
    "\n",
    "scaler = MinMaxScaler()\n",
    "scaler.fit(X)\n",
    "Xminmax = scaler.transform(X)\n",
    "\n",
    "cv_results = cross_val_score( # complete\n",
    "\n",
    "print('The accuracy with categorical features = {:.2f}%'.format(100*np.mean(cv_results)))"
   ]
  },
  {
   "cell_type": "markdown",
   "metadata": {
    "slideshow": {
     "slide_type": "slide"
    }
   },
   "source": [
    "The last thing we'd like to add to the model is the `Age` feature. Unfortunately, for 177 passengers we do not have a reported value for their age. This is a standard issue when building models known as \"missing data\" and this happens in astronomy all the time (for example, LSST is going to observe millions of L and T dwarfs that are easily detected in the $y$-band, but which will not have a detection in $u$-band)."
   ]
  },
  {
   "cell_type": "markdown",
   "metadata": {
    "slideshow": {
     "slide_type": "subslide"
    }
   },
   "source": [
    "There are several different strategies for dealing with missing data. The first and most straightforward is to simply remove observations with missing data (note - to simplify this example I already did this by removing the 2 passengers from the training set that did not have an entry for `Embarked`). \n",
    "\n",
    "This strategy is perfectly fine if only a few sources have missing information (2/891 for `Embarked` - and none of the test set sources are missing `Embarked`). If, however, a significant fraction are missing data, this strategy would remove a lot of useful data from the model."
   ]
  },
  {
   "cell_type": "markdown",
   "metadata": {
    "slideshow": {
     "slide_type": "subslide"
    }
   },
   "source": [
    "If you cannot remove the sources with missing data, then it is essential to ask the following question: \n",
    "\n",
    "Does the missing information have meaning? \n",
    "\n",
    "In the LSST L/T dwarf example, the lack of a $u$-band detection is meaningful: these stars are too faint for LSST. When this is the case, an indicator value (e.g., -999) allows the model to recognize the non-detection. "
   ]
  },
  {
   "cell_type": "markdown",
   "metadata": {
    "slideshow": {
     "slide_type": "subslide"
    }
   },
   "source": [
    "For the Titanic data, the lack of age information is not meaningful. Simply put, there are some passengers that did not have recorded ages. We will now show this to be the case. "
   ]
  },
  {
   "cell_type": "markdown",
   "metadata": {
    "slideshow": {
     "slide_type": "subslide"
    }
   },
   "source": [
    "**Problem 3k**\n",
    "\n",
    "Replace the unknown ages with a value of -999, and estimate the accuracy of the model via 10-fold cross validation."
   ]
  },
  {
   "cell_type": "code",
   "execution_count": null,
   "metadata": {
    "slideshow": {
     "slide_type": "subslide"
    }
   },
   "outputs": [],
   "source": [
    "age_impute = # complete\n",
    "# complete\n",
    "\n",
    "titanic_df['age_impute'] = age_impute\n",
    "\n",
    "X = # complete\n",
    "\n",
    "scaler = MinMaxScaler()\n",
    "scaler.fit(X)\n",
    "Xminmax = scaler.transform(X)\n",
    "\n",
    "cv_results = cross_val_score( # complete\n",
    "\n",
    "print('The accuracy with -999 for missing ages = {:.2f}%'.format(100*np.mean(cv_results)))"
   ]
  },
  {
   "cell_type": "markdown",
   "metadata": {
    "slideshow": {
     "slide_type": "slide"
    }
   },
   "source": [
    "The accuracy of the model hasn't improved by adding the age information (even though we know children were more likely to survive than adults). \n",
    "\n",
    "Given that the missing ages don't have meaning, we need to develop alternative strategies for \"imputing\" the missing data. The most simple approach in this regard is to replace the missing values with the mean value of the feature distribution for sources that do have measurements (use the median if the distribution has significant outliers).  "
   ]
  },
  {
   "cell_type": "markdown",
   "metadata": {
    "slideshow": {
     "slide_type": "subslide"
    }
   },
   "source": [
    "**Problem 3l**\n",
    "\n",
    "Replace the unknown ages with the mean age of passengers, and estiamte the accuracy of the model via 10-fold cross validation."
   ]
  },
  {
   "cell_type": "code",
   "execution_count": null,
   "metadata": {
    "slideshow": {
     "slide_type": "subslide"
    }
   },
   "outputs": [],
   "source": [
    "age_impute = # complete\n",
    "# complete\n",
    "\n",
    "titanic_df['age_impute'] = age_impute\n",
    "\n",
    "X = # complete\n",
    "\n",
    "scaler = MinMaxScaler()\n",
    "scaler.fit(X)\n",
    "Xminmax = scaler.transform(X)\n",
    "\n",
    "cv_results = cross_val_score( # complete\n",
    "\n",
    "print('The accuracy with the mean for missing ages = {:.2f}%'.format(100*np.mean(cv_results)))"
   ]
  },
  {
   "cell_type": "markdown",
   "metadata": {
    "slideshow": {
     "slide_type": "slide"
    }
   },
   "source": [
    "Using the mean age for missing values provides a marginal improvement over the models with no age information. Is there anything else we can do? Yes - we can build a machine learning model to predict the values of the missing data. So there will be a machine learning model within the final machine learning model. In order to predict ages, we will need to build a regression model. Simple algorithms include Linear or Logistic Regression, while more complex examples include `kNN` or random forest regression.\n",
    "\n",
    "I quickly tested the above four methods, and found that the `scikit-learn` [`LinearRegression`](https://scikit-learn.org/stable/modules/generated/sklearn.linear_model.LinearRegression.html#sklearn.linear_model.LinearRegression) performs best when using the model defaults."
   ]
  },
  {
   "cell_type": "markdown",
   "metadata": {
    "slideshow": {
     "slide_type": "subslide"
    }
   },
   "source": [
    "**Problem 3m**\n",
    "\n",
    "Build a `LinearRegression` model to predict a passenger's age based on the `Pclass`, `SibSp`, `Parch`, `Fare`, `female`, `male`, `S`, `Q`, `C` features. The model should be trained with passengers that have known ages. Use 10-fold cross validation to determine the performance of this model.\n",
    "\n",
    "*Hint - note that for regression models the typical metric of evaluation is the [mean squared error](https://en.wikipedia.org/wiki/Mean_squared_error), and that for consistency within the `scikit-learn` API, the [negative mean squared error is returned rather than the mean squared error](https://scikit-learn.org/stable/modules/model_evaluation.html#common-cases-predefined-values).*"
   ]
  },
  {
   "cell_type": "code",
   "execution_count": null,
   "metadata": {
    "slideshow": {
     "slide_type": "subslide"
    }
   },
   "outputs": [],
   "source": [
    "from sklearn.linear_model import LinearRegression\n",
    "\n",
    "has_ages = np.where(np.isfinite(titanic_df['Age']))[0]\n",
    "\n",
    "impute_X_train = # complete\n",
    "impute_y_train = # complete\n",
    "\n",
    "scaler = MinMaxScaler()\n",
    "scaler.fit(impute_X_train)\n",
    "Xminmax = scaler.transform(impute_X_train)\n",
    "\n",
    "lr_age = LinearRegression().fit( # complete\n",
    "\n",
    "cv_results = cross_val_score(LinearRegression(), Xminmax, impute_y_train, cv=10, scoring='neg_mean_squared_error')\n",
    "\n",
    "print('Missing ages have RMSE = {:.2f}'.format(np.mean((-1*cv_results)**0.5)))"
   ]
  },
  {
   "cell_type": "markdown",
   "metadata": {
    "slideshow": {
     "slide_type": "slide"
    }
   },
   "source": [
    "**Problem 3n**\n",
    "\n",
    "Use the age regression model to predict the ages for passengers with missing data."
   ]
  },
  {
   "cell_type": "code",
   "execution_count": null,
   "metadata": {
    "slideshow": {
     "slide_type": "subslide"
    }
   },
   "outputs": [],
   "source": [
    "missing_ages = np.where(np.isnan(titanic_df['Age']))[0]\n",
    "\n",
    "impute_X_missing = # complete\n",
    "\n",
    "X_missing_minmax = scaler.transform(impute_X_missing)\n",
    "\n",
    "age_preds = lr_age.predict(X_missing_minmax)"
   ]
  },
  {
   "cell_type": "markdown",
   "metadata": {
    "slideshow": {
     "slide_type": "slide"
    }
   },
   "source": [
    "**Problem 3o**\n",
    "\n",
    "Use the imputed age estimates to predict the passenger survival via 10-fold cross validation."
   ]
  },
  {
   "cell_type": "code",
   "execution_count": null,
   "metadata": {
    "slideshow": {
     "slide_type": "subslide"
    }
   },
   "outputs": [],
   "source": [
    "age_impute = titanic_df['Age'].copy().values\n",
    "age_impute[missing_ages] = # complete\n",
    "\n",
    "titanic_df['age_impute'] = age_impute\n",
    "\n",
    "X = # complete\n",
    "\n",
    "scaler = MinMaxScaler()\n",
    "scaler.fit(X)\n",
    "Xminmax = scaler.transform(X)\n",
    "\n",
    "cv_results = cross_val_score( # complete\n",
    "\n",
    "print('The accuracy with the mean for missing ages = {:.2f}%'.format(100*np.mean(cv_results)))"
   ]
  },
  {
   "cell_type": "markdown",
   "metadata": {
    "slideshow": {
     "slide_type": "slide"
    }
   },
   "source": [
    "As far as ages are concerned, imputation of the missing data does not significantly improve the model.\n",
    "\n",
    "Which brings us to the concluding lesson in wrangling the Titanic data - not every piece of information is *useful*. This is critical to remember when building machine learning models. "
   ]
  },
  {
   "cell_type": "markdown",
   "metadata": {
    "slideshow": {
     "slide_type": "subslide"
    }
   },
   "source": [
    "(As a quick aside - it wouldn't be entirely fair to say there is no useful information in the age feature. It is clear, for example, that \"children,\" i.e. those with Age < 10, had a much higher probability of survival than adults. Perhaps the creation of a `child` feature based on age would improve the model... or using the age in combination with other features, e.g., `Age`x`Pclass` which will further highlight that 1st class passengers were more likely to survive than 3rd class passengers)"
   ]
  },
  {
   "cell_type": "markdown",
   "metadata": {
    "slideshow": {
     "slide_type": "subslide"
    }
   },
   "source": [
    "Finally - note that you can try to build a model and submit it to Kaggle to see how well you preform on blind data. \n",
    "\n",
    "https://www.kaggle.com/c/titanic - the classifications are not revealed, but from the [leaderboard](https://www.kaggle.com/c/titanic/leaderboard) it is clear that some people were able to build models that perfectly classified the blind data."
   ]
  },
  {
   "cell_type": "markdown",
   "metadata": {
    "slideshow": {
     "slide_type": "slide"
    }
   },
   "source": [
    "## Problem 4) Wrangling an astro machine learning model"
   ]
  },
  {
   "cell_type": "markdown",
   "metadata": {
    "slideshow": {
     "slide_type": "slide"
    }
   },
   "source": [
    "Now we will put together the above examples to work on an astronomical problem of great importance for LSST: photometric redshifts. As we have previously discussed, LSST will observe many, many, many, many more galaxies than we can possibly observe with spectroscopic instruments. As a result, the vast majority of the galaxies observed by LSST will not have precise redshift estimates, and instead we will need to estimate redshifts via photometry alone. "
   ]
  },
  {
   "cell_type": "markdown",
   "metadata": {
    "slideshow": {
     "slide_type": "subslide"
    }
   },
   "source": [
    "This week we have heard a lot about `SDSS CasJobs`, and for today's problem we will use 50,000 SDSS sources with spectroscopic measurements to train a machine learning model to estimate redshifts from photometry. The following query was used to generate this training set: \n",
    "\n",
    "    select top 50000 s.specObjID, s.z, s.type,\n",
    "       psfMag_u, psfMag_g, psfMag_r, psfMag_i, psfMag_z, \n",
    "       modelMag_u, modelMag_g, modelMag_r, modelMag_i, modelMag_z,\n",
    "       extinction_u, extinction_g, extinction_r, extinction_i, extinction_z,\n",
    "       w.w1mpro, w1snr, w.w2mpro, w2snr, w.w3mpro, w3snr, w.w4mpro, w4snr\n",
    "       from specphotoall s \n",
    "         join (WISE_xmatch wx  \n",
    "           join WISE_allsky w on wx.wise_cntr = w.cntr) on s.objid = wx.sdss_objid"
   ]
  },
  {
   "cell_type": "markdown",
   "metadata": {
    "slideshow": {
     "slide_type": "subslide"
    }
   },
   "source": [
    "A few notes about the data: `specObjID` is the SDSS identifier, `z` is the redshift, `type` is the photometric type (\"ps\" for point source or \"ext\" for extended), `psfMag` is the SDSS PSF mag in each filter, `modelMag` is the aperture-matched model mag in each filter, `extinction` is the SFD extinction estimate, `w?mpro` is the [WISE](https://www.nasa.gov/mission_pages/WISE/main/index.html) satellite mid-IR magnitude in the W1, W2, W3, and W4 bands, and `w?msnr` is the SNR in each of the respective filters. "
   ]
  },
  {
   "cell_type": "markdown",
   "metadata": {
    "slideshow": {
     "slide_type": "skip"
    }
   },
   "source": [
    "*quick aside* - the SDSS photometric type is reported as either 6 or 3, and, for convenience, I have converted these to 'ps' and 'ext' in the file used for the problem below."
   ]
  },
  {
   "cell_type": "markdown",
   "metadata": {
    "slideshow": {
     "slide_type": "subslide"
    }
   },
   "source": [
    "**Important note** - not every SDSS source will have detections in each of the WISE filters. If `w?msnr` < 2, then the `w?mpro` number represents an upper limit, *not* a detection (i.e., these are cases with missing data)."
   ]
  },
  {
   "cell_type": "markdown",
   "metadata": {
    "slideshow": {
     "slide_type": "slide"
    }
   },
   "source": [
    "**Problem 4a**\n",
    "\n",
    "Read the SDSS training set data – in a file called `DSFP_SDSS_spec_train.csv` – into either a `pandas` DataFrame or `astropy` Table."
   ]
  },
  {
   "cell_type": "code",
   "execution_count": null,
   "metadata": {
    "slideshow": {
     "slide_type": "subslide"
    }
   },
   "outputs": [],
   "source": [
    "sdss = pd.read_csv(\"DSFP_SDSS_spec_train.csv\")\n",
    "sdss[:5]"
   ]
  },
  {
   "cell_type": "markdown",
   "metadata": {
    "slideshow": {
     "slide_type": "slide"
    }
   },
   "source": [
    "**Problem 4b**\n",
    "\n",
    "Are there categorical features in the dataset? If yes, convert the categorical features for use in machine learning models.\n",
    "\n",
    "*Hint* - recall **Problem 3h** and **3i**."
   ]
  },
  {
   "cell_type": "code",
   "execution_count": null,
   "metadata": {
    "slideshow": {
     "slide_type": "subslide"
    }
   },
   "outputs": [],
   "source": [
    "type_dict = create_bin_cat_feats( # complete\n",
    "\n",
    "# complete\n",
    "# complete"
   ]
  },
  {
   "cell_type": "markdown",
   "metadata": {
    "slideshow": {
     "slide_type": "slide"
    }
   },
   "source": [
    "**Problem 4c**\n",
    "\n",
    "Is there missing data in the training set? If yes, how will you deal these data? \n",
    "\n",
    "*Hint* - you were already told there is missing data."
   ]
  },
  {
   "cell_type": "code",
   "execution_count": null,
   "metadata": {
    "slideshow": {
     "slide_type": "subslide"
    }
   },
   "outputs": [],
   "source": [
    "# WISE non-detections have SNR < 2\n",
    "\n",
    "for wsnr in ['w1snr', 'w2snr', 'w3snr', 'w4snr']:\n",
    "    frac_missing = # complete\n",
    "    print('{:.2f}% of the obs in {} are non-detections'.format(100*frac_missing, wsnr[0:2]))"
   ]
  },
  {
   "cell_type": "markdown",
   "metadata": {
    "slideshow": {
     "slide_type": "subslide"
    }
   },
   "source": [
    "Given that there are obs missing in each filter, with a substantial number missing in W3 and W4, we will create a new categorical variable for detection in each filter. We will also replace \"upper limits\" with -9.99 (do this in the cell below).\n",
    "\n",
    "(Alternative strategies that could prove worthwhile include: removing W3 and W4 as they are largely missing, imputing the missing values for non-detections, or removing individual sources with non-detections. This last choice would really cut the training set). "
   ]
  },
  {
   "cell_type": "code",
   "execution_count": null,
   "metadata": {
    "slideshow": {
     "slide_type": "subslide"
    }
   },
   "outputs": [],
   "source": [
    "for filt in ['w1', 'w2', 'w3', 'w4']:\n",
    "    det = np.ones(len(sdss)).astype(int)\n",
    "    det[np.where(sdss['{}snr'.format(filt)] < 2)] = 0\n",
    "    sdss['{}det'.format(filt)] = det\n",
    "    mag = sdss['{}mpro'.format(filt)].values\n",
    "    mag[det == 0] = -9.99\n",
    "    sdss['{}mag'.format(filt)] = mag"
   ]
  },
  {
   "cell_type": "markdown",
   "metadata": {
    "slideshow": {
     "slide_type": "slide"
    }
   },
   "source": [
    "Now that we have dealt with missing and categorical data we can construct out machine learning model. We will use a $k$ nearest neighbors regression model to determine how well we can measure photometric redshifts.\n",
    "\n",
    "The `sdss` dataframe now includes far more columns than are necessary for the model. Should any of these be excluded from the fitting? "
   ]
  },
  {
   "cell_type": "markdown",
   "metadata": {
    "slideshow": {
     "slide_type": "subslide"
    }
   },
   "source": [
    "**Problem 4d**\n",
    "\n",
    "Build a `scikit-learn` appropriate `X` and `y` array for the features and labels (i.e. redshifts) of the photo-z training set."
   ]
  },
  {
   "cell_type": "code",
   "execution_count": null,
   "metadata": {
    "slideshow": {
     "slide_type": "subslide"
    }
   },
   "outputs": [],
   "source": [
    "X = # complete\n",
    "y = # complete"
   ]
  },
  {
   "cell_type": "markdown",
   "metadata": {
    "slideshow": {
     "slide_type": "slide"
    }
   },
   "source": [
    "**Problem 4e**\n",
    "\n",
    "Estimate the RMSE for a [`KNeighborsRegression`](https://scikit-learn.org/stable/modules/generated/sklearn.neighbors.KNeighborsRegressor.html) via 10 fold CV.\n",
    "\n",
    "*Hint* - use [`cross_val_predict`](https://scikit-learn.org/stable/modules/generated/sklearn.model_selection.cross_val_predict.html) in this case so you can plot $z_\\mathrm{SDSS}$ vs. $z_\\mathrm{kNN}$.\n",
    "\n",
    "*Hint 2* - make the plot in a separate cell so you can adjust it without needing to re-run the CV."
   ]
  },
  {
   "cell_type": "code",
   "execution_count": null,
   "metadata": {
    "slideshow": {
     "slide_type": "slide"
    }
   },
   "outputs": [],
   "source": [
    "# cross validation goes here\n",
    "from sklearn.neighbors import KNeighborsRegressor\n",
    "from sklearn.model_selection import cross_val_predict\n",
    "from sklearn.metrics import mean_squared_error\n",
    "\n",
    "knn_reg = # complete\n",
    "y_preds = cross_val_predict( # complete\n",
    "print('The RMSE = {}'.format(np.sqrt(mean_squared_error(y,y_preds))))"
   ]
  },
  {
   "cell_type": "code",
   "execution_count": null,
   "metadata": {
    "slideshow": {
     "slide_type": "subslide"
    }
   },
   "outputs": [],
   "source": [
    "# plotting goes here\n",
    "\n",
    "fig, ax = plt.subplots(figsize=(7,7))\n",
    "ax.scatter( # complete\n",
    "ax.plot([0,6],[0,6], 'Crimson')\n",
    "ax.set_xlabel('z_SDSS')\n",
    "ax.set_ylabel('z_kNN')"
   ]
  },
  {
   "cell_type": "markdown",
   "metadata": {
    "slideshow": {
     "slide_type": "slide"
    }
   },
   "source": [
    "If you made a plot of redshift vs. predictions, you likely saw that there are many sources that are far from the 1 to 1 line. These are called catastrophic outliers, and they are a serious problem for science programs that rely on photometric redshifts. "
   ]
  },
  {
   "cell_type": "markdown",
   "metadata": {
    "slideshow": {
     "slide_type": "subslide"
    }
   },
   "source": [
    "**Problem 4f**\n",
    "\n",
    "Write a function that takes input arrays `ground_truth` and `predictions` and determines the fraction of the dataset that is catastrophic outliers. For today's purposes we will say a catastrophic outlier is one where the prediction differs by 20%. "
   ]
  },
  {
   "cell_type": "code",
   "execution_count": null,
   "metadata": {
    "slideshow": {
     "slide_type": "subslide"
    }
   },
   "outputs": [],
   "source": [
    "def catastrophic_fraction(ground_truth, predictions, threshold=0.2):\n",
    "    '''Function to calculate fraction of predictions that are catastrophic outliers\n",
    "    \n",
    "    Parameter\n",
    "    ---------\n",
    "    ground_truth : array-like\n",
    "        Correct labels for the model sources\n",
    "    \n",
    "    predictions : array-like\n",
    "        Predictions for the model sources\n",
    "    \n",
    "    threshold : float (optional, default=0.2)\n",
    "        The threshold to determine if a \"miss\" is catastrophic or not\n",
    "    \n",
    "    Returns\n",
    "    -------\n",
    "    oh_nos : float\n",
    "        Fractional number of catastrophic outliers\n",
    "    '''\n",
    "    # complete\n",
    "    # complete\n",
    "\n",
    "    return oh_nos"
   ]
  },
  {
   "cell_type": "markdown",
   "metadata": {
    "slideshow": {
     "slide_type": "slide"
    }
   },
   "source": [
    "**Problem 4g**\n",
    "\n",
    "How many catastrophic outliers did your previous predictions have? "
   ]
  },
  {
   "cell_type": "code",
   "execution_count": null,
   "metadata": {
    "slideshow": {
     "slide_type": "subslide"
    }
   },
   "outputs": [],
   "source": [
    "catastrophic_fraction( # complete\n"
   ]
  },
  {
   "cell_type": "markdown",
   "metadata": {
    "slideshow": {
     "slide_type": "slide"
    }
   },
   "source": [
    "Earlier we saw that the performance of a kNN model greatly improves with feature scaling.\n",
    "\n",
    "**Problem 4h**\n",
    "\n",
    "Use a MinMax scaler to scale the features, performs 10 fold cross-validation, and estimate the catastrophic outlier fraction."
   ]
  },
  {
   "cell_type": "code",
   "execution_count": null,
   "metadata": {
    "slideshow": {
     "slide_type": "subslide"
    }
   },
   "outputs": [],
   "source": [
    "scaler = MinMaxScaler()\n",
    "scaler.fit(X)\n",
    "Xminmax = scaler.transform(X)\n",
    "\n",
    "knn_reg = KNeighborsRegressor(n_neighbors=7)\n",
    "y_preds = cross_val_predict( # complete\n",
    "print('The RMSE = {}'.format(np.sqrt(mean_squared_error(y,y_preds))))\n",
    "print('{} are catastrophic'.format(catastrophic_fraction(y, y_preds)))"
   ]
  },
  {
   "cell_type": "code",
   "execution_count": null,
   "metadata": {
    "slideshow": {
     "slide_type": "subslide"
    }
   },
   "outputs": [],
   "source": [
    "# plotting goes here\n",
    "\n",
    "fig, ax = plt.subplots()\n",
    "ax.scatter( # complete\n",
    "ax.plot([0,6],[0,6], 'Crimson')\n",
    "ax.set_xlabel('z_SDSS')\n",
    "ax.set_ylabel('z_kNN')"
   ]
  },
  {
   "cell_type": "markdown",
   "metadata": {
    "slideshow": {
     "slide_type": "slide"
    }
   },
   "source": [
    "The MinMax scaler didn't help at all!\n",
    "\n",
    "Perhaps we need a different kind of wrangling for this data set - feature engineering. (For example, does it make sense to include `extinction` as a feature, or should we instead combine the extinction with the observed magnitudes to get extinction corrected brightness measurements?)\n",
    "\n",
    "Finally - we close with a machine learning question, not a data wrangling question. Does it actually make sense to use a kNN model for datasets that have categorical features? "
   ]
  },
  {
   "cell_type": "markdown",
   "metadata": {
    "slideshow": {
     "slide_type": "slide"
    }
   },
   "source": [
    "**Problem 4i**\n",
    "\n",
    "Build a better machine learning model, possibly with the use of different features, to improve the model classification performance.\n",
    "\n",
    "*Hint* - there was a hint about this in yesterday's lecture."
   ]
  },
  {
   "cell_type": "code",
   "execution_count": null,
   "metadata": {
    "slideshow": {
     "slide_type": "subslide"
    }
   },
   "outputs": [],
   "source": [
    "from sklearn.ensemble import RandomForestRegressor\n",
    "\n",
    "# complete\n",
    "# complete\n",
    "# complete\n",
    "# complete"
   ]
  },
  {
   "cell_type": "code",
   "execution_count": null,
   "metadata": {
    "slideshow": {
     "slide_type": "subslide"
    }
   },
   "outputs": [],
   "source": [
    "# plotting goes here\n",
    "\n",
    "fig, ax = plt.subplots(figsize=(8,8))\n",
    "ax.scatter( # complete\n",
    "ax.plot([0,6],[0,6], 'Crimson')\n",
    "ax.set_xlim(-0.1,4)\n",
    "ax.set_ylim(-0.1,4)\n",
    "ax.set_xlabel('z_SDSS')\n",
    "ax.set_ylabel('z_kNN')"
   ]
  }
 ],
 "metadata": {
  "celltoolbar": "Slideshow",
  "kernelspec": {
   "display_name": "Python 3",
   "language": "python",
   "name": "python3"
  },
  "language_info": {
   "codemirror_mode": {
    "name": "ipython",
    "version": 3
   },
   "file_extension": ".py",
   "mimetype": "text/x-python",
   "name": "python",
   "nbconvert_exporter": "python",
   "pygments_lexer": "ipython3",
   "version": "3.8.11"
  }
 },
 "nbformat": 4,
 "nbformat_minor": 2
}
