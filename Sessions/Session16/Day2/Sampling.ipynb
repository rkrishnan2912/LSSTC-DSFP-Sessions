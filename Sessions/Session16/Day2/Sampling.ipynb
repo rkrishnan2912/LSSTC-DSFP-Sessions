{
 "cells": [
  {
   "cell_type": "markdown",
   "id": "7a8e4cf4",
   "metadata": {},
   "source": [
    "## Markov Chain Monte Carlo and Sampling\n",
    "LSSTC Data Science Fellowship Program Session 16\n",
    "\n",
    "**Jiayin Dong**, Flatiron Research Fellow\n",
    "\n",
    "CCA, Flatiron Institute\n",
    "\n",
    "September 2022\n",
    "\n",
    "---"
   ]
  },
  {
   "cell_type": "markdown",
   "id": "8de9bb1d",
   "metadata": {},
   "source": [
    "In the lecture, we introduced a new approach to approximate the posterior -- Markov Chain Monte Carlo (MCMC). The MCMC technique is powerful when we study high-dimensional problems. We discussed two algorithms of MCMC: the Metropolis-Hastings algorithm and the Hamiltonian Monte Carlo algorithm. You may find the lecture material in this folder (https://github.com/jiayindong/LSSTC-DSFP-Sessions/tree/main/Sessions/Session16/Day2).\n",
    "\n",
    "The problem set here is to build and apply the Metropolis sampling to two problems we have worked on: (1) Draw balls out of a bag and (2) Fit a straight line to data."
   ]
  },
  {
   "cell_type": "code",
   "execution_count": 8,
   "id": "93719dae",
   "metadata": {},
   "outputs": [],
   "source": [
    "%matplotlib inline\n",
    "import numpy as np\n",
    "import matplotlib.pyplot as plt\n",
    "import scipy.stats as stats"
   ]
  },
  {
   "cell_type": "code",
   "execution_count": 2,
   "id": "cde369da",
   "metadata": {},
   "outputs": [],
   "source": [
    "from matplotlib import rc\n",
    "#rc('font', **{'family':'sans-serif'})\n",
    "#rc('text', usetex=True)"
   ]
  },
  {
   "cell_type": "markdown",
   "id": "8eb1fcb5",
   "metadata": {},
   "source": [
    "### Problem 1: Draw balls out of a bag\n",
    "\n",
    "We have a bag containing 4 balls. Each ball has two possible colors: black and white. We begin with no information on the number of black and white balls in the bag and want to update our guess on the number of black balls from observations (i.e., drawing balls out of the bag).\n",
    "\n",
    "We drew one ball out of the bag. And it is black.\n",
    "\n",
    "Let's use the MCMC to approximate the posterior.\n",
    "\n",
    "**Metroplis sampling**\n",
    "\n",
    "Begin with a random state $\\theta_i$.\n",
    "\n",
    "While runs > 0:\n",
    "\n",
    "- Calculate $P(\\theta_{\\rm cur}|D) = p(D|\\theta_{\\rm cur})p(\\theta_{\\rm cur})$.\n",
    "\n",
    "- Flip a coin.\n",
    "    - If head, propose to move to cur+1\n",
    "    - If tail, propose to visit cur-1\n",
    "    \n",
    "- Calculate $P(\\theta_{\\rm prop}|D) = p(D|\\theta_{\\rm prop})p(\\theta_{\\rm prop})$.\n",
    "\n",
    "- Caculate $\\alpha = P(\\theta_{\\rm prop}|D)/P(\\theta_{\\rm cur}|D)$.\n",
    "    - If $\\alpha > 1$, accept the proposal.\n",
    "    - Else, accept the proposal with probability of $\\alpha$.\n",
    "    \n",
    "- Record cur.\n",
    "\n",
    "- runs -= 1"
   ]
  },
  {
   "cell_type": "markdown",
   "id": "0d888aaa",
   "metadata": {},
   "source": [
    "Let's first write two helper functions.\n",
    "\n",
    "The prior function computes and returns the prior at a certain state. Again, we assume an uninformative prior.\n",
    "\n",
    "The likelihood function computes and returns the likelihood at a certain state."
   ]
  },
  {
   "cell_type": "code",
   "execution_count": 3,
   "id": "fd5f93fc",
   "metadata": {},
   "outputs": [],
   "source": [
    "def prior(state):\n",
    "    return 1/5\n",
    "    \n",
    "def likelihood(state):\n",
    "    return state/4"
   ]
  },
  {
   "cell_type": "markdown",
   "id": "8ee21395",
   "metadata": {},
   "source": [
    "Now, time for the MCMC."
   ]
  },
  {
   "cell_type": "code",
   "execution_count": 4,
   "id": "53495e2c",
   "metadata": {
    "scrolled": true
   },
   "outputs": [],
   "source": [
    "records = []\n",
    "\n",
    "cur = 2  # Let's pick a random state cur = 2.\n",
    "\n",
    "runs = 1000  # With 1000 runs\n",
    "while runs > 0:\n",
    "    \n",
    "    # Calculate P(cur)\n",
    "    p_cur = prior(cur)*likelihood(cur)\n",
    "\n",
    "    # Make a proposal\n",
    "    prop = cur+np.random.choice([-1,1])\n",
    "    prop = prop%5\n",
    "        \n",
    "    # Calculate P(prop)\n",
    "    p_prop = prior(prop)*likelihood(prop)\n",
    "        \n",
    "    # Accept or not?\n",
    "    α = p_prop/p_cur\n",
    "    if α > 1:\n",
    "        cur = prop\n",
    "    else:\n",
    "        if α > np.random.rand():\n",
    "            cur = prop\n",
    "    \n",
    "    # Record the cur\n",
    "    records.append(cur)\n",
    "\n",
    "    runs -= 1"
   ]
  },
  {
   "cell_type": "code",
   "execution_count": 9,
   "id": "22c0a2b5",
   "metadata": {
    "scrolled": false
   },
   "outputs": [
    {
     "data": {
      "image/png": "[encoded data removed]",
      "text/plain": [
       "<Figure size 385x330 with 1 Axes>"
      ]
     },
     "metadata": {
      "needs_background": "light"
     },
     "output_type": "display_data"
    }
   ],
   "source": [
    "## Plot the posterior distribution\n",
    "plt.figure(figsize=(3.5,3),dpi=110)\n",
    "plt.plot(np.bincount(records),'-o',c='k')\n",
    "plt.xticks(np.arange(5), ['State 1','State 2','State 3','State 4','State 5'],fontsize=12)\n",
    "plt.ylabel('Num of visits',fontsize=12)\n",
    "plt.tight_layout()\n",
    "plt.show()"
   ]
  },
  {
   "cell_type": "markdown",
   "id": "a772016f",
   "metadata": {},
   "source": [
    "Try increase the number of runs. Redo the analysis."
   ]
  },
  {
   "cell_type": "markdown",
   "id": "1bf4dcc2",
   "metadata": {},
   "source": [
    "### Problem 2: Fit a straight line to data\n",
    "\n",
    "We have two parameters of interest, the slope of the line $m$ and the intercept of the line $b$. The line model is described as $y = mx + b$.\n",
    "\n",
    "We made 10 observations of y but with some Gaussian noise $\\sigma$. Assume that we know the exact x values.\n",
    "\n",
    "Let's generate some data."
   ]
  },
  {
   "cell_type": "code",
   "execution_count": 30,
   "id": "668c5b35",
   "metadata": {},
   "outputs": [],
   "source": [
    "np.random.seed(42)\n",
    "\n",
    "x = np.linspace(-1,1,10)\n",
    "\n",
    "m_true = 1.\n",
    "b_true = 0.5\n",
    "y_true = m_true*x + b_true\n",
    "\n",
    "σ = 0.2\n",
    "\n",
    "y_obs = y_true + np.random.normal(size=len(y_true))*σ"
   ]
  },
  {
   "cell_type": "code",
   "execution_count": 31,
   "id": "d387cdf6",
   "metadata": {},
   "outputs": [
    {
     "data": {
      "image/png": "[encoded data removed]",
      "text/plain": [
       "<Figure size 440x297 with 1 Axes>"
      ]
     },
     "metadata": {
      "needs_background": "light"
     },
     "output_type": "display_data"
    }
   ],
   "source": [
    "plt.figure(figsize=(4,2.7),dpi=110)\n",
    "plt.errorbar(x, y_obs, yerr=σ, linestyle='', fmt='o', c='k')\n",
    "plt.plot(x, y_true, c='grey', lw=1, zorder=0)\n",
    "plt.ylabel('y')\n",
    "plt.xlabel('x')\n",
    "plt.tight_layout()\n",
    "plt.show()"
   ]
  },
  {
   "cell_type": "code",
   "execution_count": 32,
   "id": "f67cb310",
   "metadata": {},
   "outputs": [],
   "source": [
    "## Use our results from the grid approximation for plotting purpose\n",
    "mgrid = np.linspace(0,2,200)\n",
    "bgrid = np.linspace(0,1,100)\n",
    "mv, bv = np.meshgrid(mgrid, bgrid)\n",
    "\n",
    "## The priors\n",
    "prior_m = np.ones_like(mgrid)/200\n",
    "prior_b = np.ones_like(bgrid)/100\n",
    "\n",
    "prior_mv, prior_bv = np.meshgrid(prior_m, prior_b)\n",
    "\n",
    "log_prior = np.log(prior_mv)+np.log(prior_bv)\n",
    "\n",
    "## The likelihood\n",
    "log_likelihood = 0.\n",
    "for i, this_y_obs in enumerate(y_obs):\n",
    "    \n",
    "    this_y_true = mv*x[i] + bv\n",
    "    \n",
    "    log_likelihood += stats.norm.logpdf(this_y_obs, this_y_true, σ)\n",
    "\n",
    "## The posterior\n",
    "log_posterior = log_prior + log_likelihood\n",
    "posterior = np.exp(log_posterior)\n",
    "posterior /= np.sum(posterior)"
   ]
  },
  {
   "cell_type": "markdown",
   "id": "3673b0e0",
   "metadata": {},
   "source": [
    "We could again use the MCMC to approximate the posterior.\n",
    "\n",
    "**Metroplis sampling**\n",
    "\n",
    "Begin with a random state $\\theta_i = \\{m_i, b_i\\}$.\n",
    "\n",
    "While runs > 0:\n",
    "\n",
    "- Calculate $P(\\theta_{\\rm cur}|D) = p(D|\\theta_{\\rm cur})p(\\theta_{\\rm cur})$.\n",
    "\n",
    "- Make a proposal. Assume Gaussian random walk with a step size of 0.1.\n",
    "    - $ \\theta_{\\rm prop} = \\theta_{\\rm cur} + \\mathcal{N}$(0, 0.1, size=2)\n",
    "    \n",
    "- Calculate $P(\\theta_{\\rm prop}|D) = p(D|\\theta_{\\rm prop})p(\\theta_{\\rm prop})$.\n",
    "\n",
    "- Caculate $\\alpha = P(\\theta_{\\rm prop}|D)/P(\\theta_{\\rm cur}|D)$.\n",
    "    - If $\\alpha > 1$, accept the proposal.\n",
    "    - Else, accept the proposal with probability of $\\alpha$.\n",
    "    \n",
    "- Record $\\theta_{\\rm cur}$.\n",
    "\n",
    "- runs -= 1"
   ]
  },
  {
   "cell_type": "markdown",
   "id": "8295152e",
   "metadata": {},
   "source": [
    "Again, let's write two helper functions to compute the log_prior and log_likelihood for a certain state $\\theta$.\n",
    "\n",
    "We assume a uniform prior on m  and b.\n",
    "\n",
    "$m \\sim {\\rm Uniform}(0,2)$\n",
    "\n",
    "$b \\sim {\\rm Uniform}(0,1)$"
   ]
  },
  {
   "cell_type": "code",
   "execution_count": 33,
   "id": "2ecc1b07",
   "metadata": {},
   "outputs": [],
   "source": [
    "def log_prior(θ):\n",
    "    \n",
    "    m, b = θ\n",
    "    \n",
    "    ## log_prior on m\n",
    "    if (m > 0) and (m < 2):\n",
    "        log_prior_m = np.log(1/2)\n",
    "    else:\n",
    "        log_prior_m = -np.inf\n",
    "    \n",
    "    ## log_prior on b\n",
    "    if (b > 0) and (b < 1):\n",
    "        log_prior_b = np.log(1.)\n",
    "    else:\n",
    "        log_prior_b = -np.inf\n",
    "    \n",
    "    return log_prior_m + log_prior_b\n",
    "\n",
    "def log_likelihood(θ, y_obs, x, σ):\n",
    "    \n",
    "    m, b = θ\n",
    "    y_true = m*x + b\n",
    "        \n",
    "    return np.sum(stats.norm.logpdf(y_obs,y_true,σ))"
   ]
  },
  {
   "cell_type": "markdown",
   "id": "c51b5824",
   "metadata": {},
   "source": [
    "#### Problem 2(a) Run the MCMC."
   ]
  },
  {
   "cell_type": "code",
   "execution_count": 53,
   "id": "659fc662",
   "metadata": {},
   "outputs": [],
   "source": [
    "θ_cur = np.array([0.5,0.5]) # m_cur = 0, b_cur = 0\n",
    "trace_θ = []\n",
    "\n",
    "runs = 50000\n",
    "while runs > 0:\n",
    "    \n",
    "    ## log(P) at θ_cur\n",
    "    logP_θ_cur = log_prior(θ_cur)+log_likelihood(θ_cur, y_obs, x, σ)\n",
    "    \n",
    "    ## Make a proposal, assuming gaussain random walk\n",
    "    θ_prop = θ_cur + np.random.normal(loc=0, scale=0.01, size=2)\n",
    "    \n",
    "    ## log(P) at θ_prop\n",
    "    logP_θ_prop = log_prior(θ_prop)+log_likelihood(θ_prop, y_obs, x, σ)\n",
    "    \n",
    "    ## Decide if accept the proposal or not\n",
    "    if (logP_θ_prop - logP_θ_cur) > np.log(np.random.rand()):\n",
    "        θ_cur = θ_prop\n",
    "    \n",
    "    trace_θ.append(θ_cur)\n",
    "    \n",
    "    runs -= 1\n",
    "\n",
    "trace_θ = np.array(trace_θ)"
   ]
  },
  {
   "cell_type": "code",
   "execution_count": 59,
   "id": "979ae46c",
   "metadata": {},
   "outputs": [
    {
     "name": "stderr",
     "output_type": "stream",
     "text": [
      "<ipython-input-59-c072ea7281fe>:2: MatplotlibDeprecationWarning: shading='flat' when X and Y have the same dimensions as C is deprecated since 3.3.  Either specify the corners of the quadrilaterals with X and Y, or pass shading='auto', 'nearest' or 'gouraud', or set rcParams['pcolor.shading'].  This will become an error two minor releases later.\n",
      "  plt.pcolormesh(mgrid,bgrid,posterior,cmap='plasma')\n"
     ]
    },
    {
     "data": {
      "image/png": "[encoded data removed]",
      "text/plain": [
       "<Figure size 360x252 with 2 Axes>"
      ]
     },
     "metadata": {
      "needs_background": "light"
     },
     "output_type": "display_data"
    }
   ],
   "source": [
    "plt.figure(figsize=(5,3.5))\n",
    "plt.pcolormesh(mgrid,bgrid,posterior,cmap='plasma')\n",
    "plt.plot(trace_θ[1000:,0],trace_θ[1000:,1],'-o',c='k',markersize=2.)\n",
    "plt.xlabel('m grid')\n",
    "plt.ylabel('b grid')\n",
    "plt.colorbar()\n",
    "plt.title('posterior')\n",
    "plt.tight_layout()\n",
    "plt.show()"
   ]
  },
  {
   "cell_type": "code",
   "execution_count": 55,
   "id": "aecd0f36",
   "metadata": {
    "scrolled": true
   },
   "outputs": [
    {
     "data": {
      "image/png": "[encoded data removed]",
      "text/plain": [
       "<Figure size 252x252 with 4 Axes>"
      ]
     },
     "metadata": {
      "needs_background": "light"
     },
     "output_type": "display_data"
    }
   ],
   "source": [
    "import corner\n",
    "data = np.array([trace_θ[1000:,0],trace_θ[1000:,1]]).T\n",
    "\n",
    "fig = corner.corner(data, labels=[\"m\", \"b\"], truths=[m_true, b_true])\n",
    "fig.set_size_inches(3.5, 3.5)"
   ]
  },
  {
   "cell_type": "markdown",
   "id": "8bf3ac95",
   "metadata": {},
   "source": [
    "#### Problem 2(b) Increase the number of runs. \n",
    "\n",
    "Increase the number of runs from 100 to 1000 and 10,000. Redo the analysis.\n",
    "\n",
    "How does the number of runs affect the posterior approximation?"
   ]
  },
  {
   "cell_type": "code",
   "execution_count": null,
   "id": "84492e80",
   "metadata": {},
   "outputs": [],
   "source": []
  },
  {
   "cell_type": "markdown",
   "id": "965f9bd1",
   "metadata": {},
   "source": [
    "#### Problem 2(c) Change the step size.\n",
    "\n",
    "Change the step size of the Gaussian walker from 0.1 to 0.01 and 1. Redo the analysis.\n",
    "\n",
    "How do different step sizes affect the posterior approximation?"
   ]
  },
  {
   "cell_type": "code",
   "execution_count": null,
   "id": "57726eed",
   "metadata": {},
   "outputs": [],
   "source": []
  }
 ],
 "metadata": {
  "interpreter": {
   "hash": "e4400394f4569a0a03f7d6ca468589dfdcecca440e4bf199912b6b931a754dcf"
  },
  "kernelspec": {
   "display_name": "Python 3.8.11 ('DSFP': conda)",
   "language": "python",
   "name": "python3"
  },
  "language_info": {
   "codemirror_mode": {
    "name": "ipython",
    "version": 3
   },
   "file_extension": ".py",
   "mimetype": "text/x-python",
   "name": "python",
   "nbconvert_exporter": "python",
   "pygments_lexer": "ipython3",
   "version": "3.8.11"
  }
 },
 "nbformat": 4,
 "nbformat_minor": 5
}
