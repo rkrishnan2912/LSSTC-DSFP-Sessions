{
 "cells": [
  {
   "cell_type": "markdown",
   "id": "0f46f24f",
   "metadata": {},
   "source": [
    "# Priors, Likelihoods, Posteriors, and All That: Problems"
   ]
  },
  {
   "cell_type": "markdown",
   "id": "98d14e99",
   "metadata": {},
   "source": [
    "## Problem 1: The Curse of Dimensionality; or why self driving cars are hard.\n",
    "\n",
    "### 1a) Sampling in low dimensions\n",
    "\n",
    "Generate a sample of 100 randomly distributed points inside a 2D square. \n",
    "\n",
    "### 1b) Distances in low dimensions\n",
    "\n",
    "Calculate the pairwise distances between all of the points, in d-dimensions, for two points x_i and y_i, this quantity is\n",
    "\n",
    "$$ |x - y| = \\sqrt{\\Sigma^d (x_i - y_i)^2} $$\n",
    "\n",
    "### 1c) Distribution of distances in low dimensions \n",
    "\n",
    "Plot the distribution of these distances. Do you notice anything interesting? Is a \"special value\" picked out?\n",
    "\n",
    "### 1d) Extending to d-dimensions\n",
    "\n",
    "Now, let's consider the difference between picking a point located in a d-dimensional sphere vs in a d-dimensional cube. To do this, calculate and plot the the difference between the volume of a cube with unit-length sides and the volume of a unit-radius sphere as the dimension d of the space increases. Possibly helpful formula: \n",
    "\n",
    "$$ Sphere: V_d = \\frac{\\pi^{d/2}}{\\frac{d}{2} \\Gamma(\\frac{d}{2})} $$\n",
    "\n",
    "$$ Cube: V_d = L^d $$\n",
    "\n",
    "The proof of this formula is left as an exercise to the reader. (actually, a link to the proof for the curious will be provided in the solutions version of this notebook.\n",
    "\n",
    "### 1e) Sampling in d-dimensions\n",
    "\n",
    "Now, consider the problem of sampling in high-dimensions. If we use a uniform prior on every parameter, our expectation is that we will well sample the parameter space simply by picking in a \"uniform way\". Calculate the ratio of volume contained in an annulus between $R$ and $R - \\epsilon$ for d = 1-20 and plot this. Interpret your result in terms of a sampling problem. Are uniform priors a good choice in higher dimensions? Why or why not?\n",
    "\n",
    "### 1f) Further reading: \"Soap bubbles\" or \"moldy spheres\". \n",
    "\n",
    "A recent blogpost that discusses an extension of this idea to a Gaussian distribution (rather than uniform unit ball distributions) is here:  https://www.inference.vc/high-dimensional-gaussian-distributions-are-soap-bubble/ \n",
    "\n",
    "give it a short read. "
   ]
  },
  {
   "cell_type": "code",
   "execution_count": 20,
   "id": "0d18e1ca",
   "metadata": {},
   "outputs": [
    {
     "name": "stdout",
     "output_type": "stream",
     "text": [
      "3\n"
     ]
    }
   ],
   "source": [
    "import numpy as np\n",
    "np.random.seed(0)\n",
    "loc=np.random.rand(100, 3)\n",
    "print(np.shape(loc)[1])"
   ]
  },
  {
   "cell_type": "code",
   "execution_count": 21,
   "id": "dc7bc9bd",
   "metadata": {},
   "outputs": [],
   "source": [
    "def pairwise_distances(x, y):\n",
    "    dist=[]\n",
    "    d = len(x)\n",
    "    for i in np.arange(d):\n",
    "            dist.append((x[i]-y[i])**2)\n",
    "    return np.sqrt(np.sum(dist))"
   ]
  },
  {
   "cell_type": "code",
   "execution_count": 22,
   "id": "bc4fba2d",
   "metadata": {},
   "outputs": [],
   "source": [
    "list_of_d = []\n",
    "for x in loc:\n",
    "    for y in loc:\n",
    "        list_of_d.append(pairwise_distances(x,y))"
   ]
  },
  {
   "cell_type": "code",
   "execution_count": 23,
   "id": "38db7584",
   "metadata": {},
   "outputs": [
    {
     "data": {
      "text/plain": [
       "(array([ 190.,  582., 1310., 1788., 2060., 1918., 1366.,  620.,  140.,\n",
       "          26.]),\n",
       " array([0.        , 0.1462187 , 0.2924374 , 0.43865609, 0.58487479,\n",
       "        0.73109349, 0.87731219, 1.02353089, 1.16974958, 1.31596828,\n",
       "        1.46218698]),\n",
       " <BarContainer object of 10 artists>)"
      ]
     },
     "execution_count": 23,
     "metadata": {},
     "output_type": "execute_result"
    },
    {
     "data": {
      "image/png": "[encoded data removed]",
      "text/plain": [
       "<Figure size 432x288 with 1 Axes>"
      ]
     },
     "metadata": {
      "needs_background": "light"
     },
     "output_type": "display_data"
    }
   ],
   "source": [
    "%matplotlib inline\n",
    "import matplotlib.pyplot as plt\n",
    "plt.hist(list_of_d)"
   ]
  },
  {
   "cell_type": "markdown",
   "id": "a4344f4d",
   "metadata": {},
   "source": [
    "## Problem 2: Measuring distances - when priors matter\n",
    "\n",
    "A famous example where your choice of prior matters is found in parallax measurements. In this problem, we will explore this. \n",
    "\n",
    "(Thank you Adrian Price-Whelan for contributing this problem!) "
   ]
  },
  {
   "cell_type": "code",
   "execution_count": 1,
   "id": "5efe4792",
   "metadata": {},
   "outputs": [
    {
     "name": "stdout",
     "output_type": "stream",
     "text": [
      "Created TAP+ (v1.2.1) - Connection:\n",
      "\tHost: gea.esac.esa.int\n",
      "\tUse HTTPS: True\n",
      "\tPort: 443\n",
      "\tSSL Port: 443\n",
      "Created TAP+ (v1.2.1) - Connection:\n",
      "\tHost: geadata.esac.esa.int\n",
      "\tUse HTTPS: True\n",
      "\tPort: 443\n",
      "\tSSL Port: 443\n"
     ]
    }
   ],
   "source": [
    "# import statements\n",
    "\n",
    "import astropy.units as u\n",
    "import astropy.table as at\n",
    "import matplotlib as mpl\n",
    "import matplotlib.pyplot as plt\n",
    "%matplotlib inline\n",
    "import numpy as np\n",
    "\n",
    "import arviz as az\n",
    "from astroquery.gaia import Gaia\n",
    "import pymc as pm"
   ]
  },
  {
   "cell_type": "code",
   "execution_count": 2,
   "id": "86dbbe75",
   "metadata": {},
   "outputs": [],
   "source": [
    "# query Gaia \n",
    "# Cohort 5 students should confirm that they understand the database syntax here based on \n",
    "# the material from Session 15.\n",
    "# Cohort 6 students - we will cover this in Session 21 : ) \n",
    "\n",
    "job = Gaia.launch_job(\n",
    "    \"SELECT TOP 1 * FROM gaiadr3.gaia_source WHERE parallax_over_error > 3 and parallax_over_error < 4\"\n",
    ")\n",
    "data = at.QTable(job.get_results().filled())"
   ]
  },
  {
   "cell_type": "code",
   "execution_count": 13,
   "id": "60690f6b",
   "metadata": {},
   "outputs": [
    {
     "data": {
      "text/html": [
       "<div><i>QTable length=1</i>\n",
       "<table id=\"table139629512150560\" class=\"table-striped table-bordered table-condensed\">\n",
       "<thead><tr><th>solution_id</th><th>DESIGNATION</th><th>source_id</th><th>random_index</th><th>ref_epoch</th><th>ra</th><th>ra_error</th><th>dec</th><th>dec_error</th><th>parallax</th><th>parallax_error</th><th>parallax_over_error</th><th>pm</th><th>pmra</th><th>pmra_error</th><th>pmdec</th><th>pmdec_error</th><th>ra_dec_corr</th><th>ra_parallax_corr</th><th>ra_pmra_corr</th><th>ra_pmdec_corr</th><th>dec_parallax_corr</th><th>dec_pmra_corr</th><th>dec_pmdec_corr</th><th>parallax_pmra_corr</th><th>parallax_pmdec_corr</th><th>pmra_pmdec_corr</th><th>astrometric_n_obs_al</th><th>astrometric_n_obs_ac</th><th>astrometric_n_good_obs_al</th><th>astrometric_n_bad_obs_al</th><th>astrometric_gof_al</th><th>astrometric_chi2_al</th><th>astrometric_excess_noise</th><th>astrometric_excess_noise_sig</th><th>astrometric_params_solved</th><th>astrometric_primary_flag</th><th>nu_eff_used_in_astrometry</th><th>pseudocolour</th><th>pseudocolour_error</th><th>ra_pseudocolour_corr</th><th>dec_pseudocolour_corr</th><th>parallax_pseudocolour_corr</th><th>pmra_pseudocolour_corr</th><th>pmdec_pseudocolour_corr</th><th>astrometric_matched_transits</th><th>visibility_periods_used</th><th>astrometric_sigma5d_max</th><th>matched_transits</th><th>new_matched_transits</th><th>matched_transits_removed</th><th>ipd_gof_harmonic_amplitude</th><th>ipd_gof_harmonic_phase</th><th>ipd_frac_multi_peak</th><th>ipd_frac_odd_win</th><th>ruwe</th><th>scan_direction_strength_k1</th><th>scan_direction_strength_k2</th><th>scan_direction_strength_k3</th><th>scan_direction_strength_k4</th><th>scan_direction_mean_k1</th><th>scan_direction_mean_k2</th><th>scan_direction_mean_k3</th><th>scan_direction_mean_k4</th><th>duplicated_source</th><th>phot_g_n_obs</th><th>phot_g_mean_flux</th><th>phot_g_mean_flux_error</th><th>phot_g_mean_flux_over_error</th><th>phot_g_mean_mag</th><th>phot_bp_n_obs</th><th>phot_bp_mean_flux</th><th>phot_bp_mean_flux_error</th><th>phot_bp_mean_flux_over_error</th><th>phot_bp_mean_mag</th><th>phot_rp_n_obs</th><th>phot_rp_mean_flux</th><th>phot_rp_mean_flux_error</th><th>phot_rp_mean_flux_over_error</th><th>phot_rp_mean_mag</th><th>phot_bp_rp_excess_factor</th><th>phot_bp_n_contaminated_transits</th><th>phot_bp_n_blended_transits</th><th>phot_rp_n_contaminated_transits</th><th>phot_rp_n_blended_transits</th><th>phot_proc_mode</th><th>bp_rp</th><th>bp_g</th><th>g_rp</th><th>radial_velocity</th><th>radial_velocity_error</th><th>rv_method_used</th><th>rv_nb_transits</th><th>rv_nb_deblended_transits</th><th>rv_visibility_periods_used</th><th>rv_expected_sig_to_noise</th><th>rv_renormalised_gof</th><th>rv_chisq_pvalue</th><th>rv_time_duration</th><th>rv_amplitude_robust</th><th>rv_template_teff</th><th>rv_template_logg</th><th>rv_template_fe_h</th><th>rv_atm_param_origin</th><th>vbroad</th><th>vbroad_error</th><th>vbroad_nb_transits</th><th>grvs_mag</th><th>grvs_mag_error</th><th>grvs_mag_nb_transits</th><th>rvs_spec_sig_to_noise</th><th>phot_variable_flag</th><th>l</th><th>b</th><th>ecl_lon</th><th>ecl_lat</th><th>in_qso_candidates</th><th>in_galaxy_candidates</th><th>non_single_star</th><th>has_xp_continuous</th><th>has_xp_sampled</th><th>has_rvs</th><th>has_epoch_photometry</th><th>has_epoch_rv</th><th>has_mcmc_gspphot</th><th>has_mcmc_msc</th><th>in_andromeda_survey</th><th>classprob_dsc_combmod_quasar</th><th>classprob_dsc_combmod_galaxy</th><th>classprob_dsc_combmod_star</th><th>teff_gspphot</th><th>teff_gspphot_lower</th><th>teff_gspphot_upper</th><th>logg_gspphot</th><th>logg_gspphot_lower</th><th>logg_gspphot_upper</th><th>mh_gspphot</th><th>mh_gspphot_lower</th><th>mh_gspphot_upper</th><th>distance_gspphot</th><th>distance_gspphot_lower</th><th>distance_gspphot_upper</th><th>azero_gspphot</th><th>azero_gspphot_lower</th><th>azero_gspphot_upper</th><th>ag_gspphot</th><th>ag_gspphot_lower</th><th>ag_gspphot_upper</th><th>ebpminrp_gspphot</th><th>ebpminrp_gspphot_lower</th><th>ebpminrp_gspphot_upper</th><th>libname_gspphot</th></tr></thead>\n",
       "<thead><tr><th></th><th></th><th></th><th></th><th>yr</th><th>deg</th><th>mas</th><th>deg</th><th>mas</th><th>mas</th><th>mas</th><th></th><th>mas / yr</th><th>mas / yr</th><th>mas / yr</th><th>mas / yr</th><th>mas / yr</th><th></th><th></th><th></th><th></th><th></th><th></th><th></th><th></th><th></th><th></th><th></th><th></th><th></th><th></th><th></th><th></th><th>mas</th><th></th><th></th><th></th><th>1 / um</th><th>1 / um</th><th>1 / um</th><th></th><th></th><th></th><th></th><th></th><th></th><th></th><th>mas</th><th></th><th></th><th></th><th></th><th>deg</th><th></th><th></th><th></th><th></th><th></th><th></th><th></th><th>deg</th><th>deg</th><th>deg</th><th>deg</th><th></th><th></th><th>electron / s</th><th>electron / s</th><th></th><th>mag</th><th></th><th>electron / s</th><th>electron / s</th><th></th><th>mag</th><th></th><th>electron / s</th><th>electron / s</th><th></th><th>mag</th><th></th><th></th><th></th><th></th><th></th><th></th><th>mag</th><th>mag</th><th>mag</th><th>km / s</th><th>km / s</th><th></th><th></th><th></th><th></th><th></th><th></th><th></th><th>d</th><th>km / s</th><th>K</th><th>log(cm.s**-2)</th><th>dex</th><th></th><th>km / s</th><th>km / s</th><th></th><th>mag</th><th>mag</th><th></th><th></th><th></th><th>deg</th><th>deg</th><th>deg</th><th>deg</th><th></th><th></th><th></th><th></th><th></th><th></th><th></th><th></th><th></th><th></th><th></th><th></th><th></th><th></th><th>K</th><th>K</th><th>K</th><th>log(cm.s**-2)</th><th>log(cm.s**-2)</th><th>log(cm.s**-2)</th><th>dex</th><th>dex</th><th>dex</th><th>pc</th><th>pc</th><th>pc</th><th>mag</th><th>mag</th><th>mag</th><th>mag</th><th>mag</th><th>mag</th><th>mag</th><th>mag</th><th>mag</th><th></th></tr></thead>\n",
       "<thead><tr><th>int64</th><th>object</th><th>int64</th><th>int64</th><th>float64</th><th>float64</th><th>float32</th><th>float64</th><th>float32</th><th>float64</th><th>float32</th><th>float32</th><th>float32</th><th>float64</th><th>float32</th><th>float64</th><th>float32</th><th>float32</th><th>float32</th><th>float32</th><th>float32</th><th>float32</th><th>float32</th><th>float32</th><th>float32</th><th>float32</th><th>float32</th><th>int16</th><th>int16</th><th>int16</th><th>int16</th><th>float32</th><th>float32</th><th>float32</th><th>float32</th><th>int16</th><th>bool</th><th>float32</th><th>float32</th><th>float32</th><th>float32</th><th>float32</th><th>float32</th><th>float32</th><th>float32</th><th>int16</th><th>int16</th><th>float32</th><th>int16</th><th>int16</th><th>int16</th><th>float32</th><th>float32</th><th>int16</th><th>int16</th><th>float32</th><th>float32</th><th>float32</th><th>float32</th><th>float32</th><th>float32</th><th>float32</th><th>float32</th><th>float32</th><th>bool</th><th>int16</th><th>float64</th><th>float32</th><th>float32</th><th>float32</th><th>int16</th><th>float64</th><th>float32</th><th>float32</th><th>float32</th><th>int16</th><th>float64</th><th>float32</th><th>float32</th><th>float32</th><th>float32</th><th>int16</th><th>int16</th><th>int16</th><th>int16</th><th>int16</th><th>float32</th><th>float32</th><th>float32</th><th>float32</th><th>float32</th><th>int16</th><th>int16</th><th>int16</th><th>int16</th><th>float32</th><th>float32</th><th>float32</th><th>float32</th><th>float32</th><th>float32</th><th>float32</th><th>float32</th><th>int16</th><th>float32</th><th>float32</th><th>int16</th><th>float32</th><th>float32</th><th>int16</th><th>float32</th><th>object</th><th>float64</th><th>float64</th><th>float64</th><th>float64</th><th>bool</th><th>bool</th><th>int16</th><th>bool</th><th>bool</th><th>bool</th><th>bool</th><th>bool</th><th>bool</th><th>bool</th><th>bool</th><th>float32</th><th>float32</th><th>float32</th><th>float32</th><th>float32</th><th>float32</th><th>float32</th><th>float32</th><th>float32</th><th>float32</th><th>float32</th><th>float32</th><th>float32</th><th>float32</th><th>float32</th><th>float32</th><th>float32</th><th>float32</th><th>float32</th><th>float32</th><th>float32</th><th>float32</th><th>float32</th><th>float32</th><th>object</th></tr></thead>\n",
       "<tr><td>1636148068921376768</td><td>Gaia DR3 1995606423232200960</td><td>1995606423232200960</td><td>1614935512</td><td>2016.0</td><td>347.2627726023543</td><td>0.12581691145896912</td><td>53.51012896688222</td><td>0.12477681040763855</td><td>0.4755467506529697</td><td>0.1585155725479126</td><td>3.0000002</td><td>0.6327854990959167</td><td>0.6255570764749554</td><td>0.1734723001718521</td><td>-0.09537206341498172</td><td>0.1533447951078415</td><td>-0.18159986</td><td>0.20343514</td><td>-0.28409657</td><td>-0.15209495</td><td>0.14735281</td><td>-0.18122889</td><td>0.053331833</td><td>-0.1973263</td><td>-0.029368263</td><td>-0.1685269</td><td>419</td><td>0</td><td>416</td><td>3</td><td>-1.2828746</td><td>390.53262</td><td>0.0</td><td>0.0</td><td>31</td><td>False</td><td>1.4610753059387207</td><td>1.0000000200408773e+20</td><td>1.0000000200408773e+20</td><td>1e+20</td><td>1e+20</td><td>1e+20</td><td>1e+20</td><td>1e+20</td><td>49</td><td>26</td><td>0.25224462151527405</td><td>56</td><td>24</td><td>1</td><td>0.026057826</td><td>61.2397575378418</td><td>0</td><td>0</td><td>0.95479125</td><td>0.09917698</td><td>0.1745898</td><td>0.07461173</td><td>0.325168</td><td>175.2077178955078</td><td>45.93087387084961</td><td>15.975051879882812</td><td>-29.01456642150879</td><td>False</td><td>412</td><td>591.6476319018449</td><td>1.0008476972579956</td><td>591.14655</td><td>18.75720977783203</td><td>48</td><td>252.77658171221327</td><td>6.461784839630127</td><td>39.118694</td><td>19.33169937133789</td><td>46</td><td>450.55711730657566</td><td>5.50337553024292</td><td>81.86923</td><td>18.113521575927734</td><td>1.1887712</td><td>0</td><td>5</td><td>0</td><td>2</td><td>0</td><td>1.2181777954101562</td><td>0.5744895935058594</td><td>0.6436882019042969</td><td>1.0000000200408773e+20</td><td>1.0000000200408773e+20</td><td>16959</td><td>16959</td><td>16959</td><td>16959</td><td>1e+20</td><td>1e+20</td><td>1e+20</td><td>1.0000000200408773e+20</td><td>1.0000000200408773e+20</td><td>1.0000000200408773e+20</td><td>1.0000000200408773e+20</td><td>1.0000000200408773e+20</td><td>16959</td><td>1.0000000200408773e+20</td><td>1.0000000200408773e+20</td><td>16959</td><td>1.0000000200408773e+20</td><td>1.0000000200408773e+20</td><td>16959</td><td>1e+20</td><td>NOT_AVAILABLE</td><td>107.95014944115107</td><td>-6.356950700809576</td><td>18.98020369686893</td><td>52.16451972566577</td><td>False</td><td>False</td><td>0</td><td>False</td><td>False</td><td>False</td><td>False</td><td>False</td><td>True</td><td>False</td><td>False</td><td>1.05317854e-13</td><td>5.120424e-13</td><td>0.9999857</td><td>4592.58203125</td><td>4562.50927734375</td><td>4617.4658203125</td><td>4.860400199890137</td><td>4.815400123596191</td><td>4.885000228881836</td><td>-1.7274999618530273</td><td>-1.9076999425888062</td><td>-1.5703999996185303</td><td>1608.4278564453125</td><td>1574.970947265625</td><td>1702.644287109375</td><td>0.01209999993443489</td><td>0.0026000000070780516</td><td>0.031099999323487282</td><td>0.009399999864399433</td><td>0.0020000000949949026</td><td>0.024299999698996544</td><td>0.005100000184029341</td><td>0.0010999999940395355</td><td>0.013199999928474426</td><td>PHOENIX</td></tr>\n",
       "</table></div>"
      ],
      "text/plain": [
       "<QTable length=1>\n",
       "    solution_id             DESIGNATION          ... libname_gspphot\n",
       "                                                 ...                \n",
       "       int64                   object            ...      object    \n",
       "------------------- ---------------------------- ... ---------------\n",
       "1636148068921376768 Gaia DR3 1995606423232200960 ...         PHOENIX"
      ]
     },
     "execution_count": 13,
     "metadata": {},
     "output_type": "execute_result"
    }
   ],
   "source": [
    "# print the data - make sure you understand its structure\n",
    "data"
   ]
  },
  {
   "cell_type": "code",
   "execution_count": null,
   "id": "4ca2d049",
   "metadata": {},
   "outputs": [],
   "source": [
    "# now let's consider two choices of prior. First, a uniform prior, and then a truncated normal. \n",
    "\n",
    "def uniform_space_density_logp(L):\n",
    "    def lpdf(r):\n",
    "        return (2*pm.math.log(r)) - 3*pm.math.log(L) - pm.math.log(2) - r/L\n",
    "    return lpdf\n",
    "\n",
    "with pm.Model() as model:\n",
    "    r = pm.DensityDist(\n",
    "        'r', \n",
    "        logp=uniform_space_density_logp(4.), \n",
    "        initval=1.,\n",
    "        transform=pm.distributions.transforms.LogTransform()\n",
    "    )\n",
    "    plx = pm.Normal(\n",
    "        'plx',\n",
    "        mu=1/r,\n",
    "        sigma=\n",
    "        observed=\n",
    "    )\n",
    "    \n",
    "    samples_usd = pm.sample(tune=2000, draws=2000)"
   ]
  },
  {
   "cell_type": "code",
   "execution_count": null,
   "id": "6933b2c0",
   "metadata": {},
   "outputs": [],
   "source": [
    "with pm.Model() as model:\n",
    "    r = pm.TruncatedNormal(\n",
    "        'r', \n",
    "        mu=2.,\n",
    "        sigma=1.,\n",
    "        lower=0,\n",
    "        initval=1.,\n",
    "        transform=pm.distributions.transforms.LogTransform()\n",
    "    )\n",
    "    plx = pm.Normal(\n",
    "        'plx',\n",
    "        mu=1/r,\n",
    "        sigma=\n",
    "        observed=\n",
    "    )\n",
    "    \n",
    "    samples_truncnorm = pm.sample(tune=2000, draws=2000)"
   ]
  },
  {
   "cell_type": "code",
   "execution_count": null,
   "id": "fe69ac33",
   "metadata": {},
   "outputs": [],
   "source": [
    "# And plot the results"
   ]
  },
  {
   "cell_type": "markdown",
   "id": "f9872bf9",
   "metadata": {},
   "source": [
    "## Problem 3: Not everything is Gaussian\n",
    "\n",
    "In the lecture and challenge problems, we've emphasized the importance of the Gaussian distribution. This distribution is very common, but not universal. In a (perhaps apocryphal story) this problem was given to first year students at Cambridge in the 1980s. It concerns estimating the distance to an off-shore lighthouse based on the timing of pulses. A canonical statement of the problem is, \n",
    "\n",
    "\"A lighthouse is situated at unknown coordinates $x_0,y_0$ with respect to a straight coastline y=0. It sends a series of N flashes in random directions, and these are recorded on the coastline at positions $x_i$.\" \n",
    "\n",
    "### Problem 3-0) Draw the picture. \n",
    "\n",
    "With your partner, draw the picture.\n",
    "\n",
    "### Problem 3a) Prior \n",
    "\n",
    "Write down a prior for the $x_0, y_0$ position of the lighthouse. Implement a python function that returns a uniform probability (or if you'd like, another prior) for $x_0, y_0$. Hint: It is easier to write the prior in terms of the angle $\\theta$ between the line connecting the lighthouse to the shore and the direction in which the pulse is emitted. \n",
    "\n",
    "### Problem 3b) Likelihood \n",
    "\n",
    "Now, we need to determine the form of the likelihood. If you following the hint in 3a), we want to turn a function of the data (shoreline positions, x) in terms of the angle ($\\theta$). First, write down the relationship between the $x_0$ position of the lighthouse, the data x, and the angle ($\\theta$). \n",
    "\n",
    "### Problem 3c) Generate some data\n",
    "\n",
    "In order to produce a Bayesian estimate of the x-y position, we'll need some data. \n",
    "\n",
    "### Problem 3d) Posterior\n",
    "\n",
    "Using Bayes' theorem, write down the posterior. Implement a grid search function to calculate the posterior for the x-y position of the lighthouse. \n",
    "\n",
    "\n",
    "### Problem 3e) [Optional] Challenge: Is your likelihood a Gaussian? What is special about your likelihood?\n",
    "\n",
    "One property of a Gaussian that makes it \"special\" is that it is the maximum entropy distribution for for finite first and second moments. Calculate the first and second moments of your likelihood distribution. What makes this distribution special? Generate some example plots of your likelihood function and compare to a Gaussian distribution over the same range. Are these curves the same? What is different about them?"
   ]
  },
  {
   "cell_type": "code",
   "execution_count": null,
   "id": "6cec290e",
   "metadata": {},
   "outputs": [],
   "source": [
    "from numpy.random import uniform \n",
    "import matplotlib.pyplot as plt"
   ]
  },
  {
   "cell_type": "code",
   "execution_count": null,
   "id": "6c380434",
   "metadata": {},
   "outputs": [],
   "source": [
    "import numpy as np"
   ]
  },
  {
   "cell_type": "code",
   "execution_count": null,
   "id": "fea0f57d",
   "metadata": {},
   "outputs": [],
   "source": [
    "# unknown true values of the position \n",
    "\n",
    "x_0 = 10\n",
    "y_0  = 30\n",
    "\n",
    "# generate data\n",
    "\n",
    "def make_data(x, y, thetas): \n",
    "    return "
   ]
  },
  {
   "cell_type": "code",
   "execution_count": null,
   "id": "2f13e86d",
   "metadata": {},
   "outputs": [],
   "source": [
    "def ln_posterior(x_0, y_0, x):\n",
    "    \n",
    "    #you write this \n",
    "    \n",
    "    # why can you jump to the posterior?\n",
    "    \n",
    "    return log_posterior"
   ]
  },
  {
   "cell_type": "code",
   "execution_count": null,
   "id": "36a63a61",
   "metadata": {},
   "outputs": [],
   "source": [
    "def grid_search(x_0_grid, y_0_grid, datum): \n",
    "    # You write this\n",
    "    return posterior_grid "
   ]
  },
  {
   "cell_type": "code",
   "execution_count": null,
   "id": "2ad9a03c",
   "metadata": {},
   "outputs": [],
   "source": [
    "# loop over the data and calculate the posterior on the grid. "
   ]
  },
  {
   "cell_type": "code",
   "execution_count": null,
   "id": "8e8feeb9",
   "metadata": {},
   "outputs": [],
   "source": [
    "for data in xs: \n",
    "    posterior += grid_search(x_0_grid, y_0_grid, data)"
   ]
  },
  {
   "cell_type": "code",
   "execution_count": null,
   "id": "ab974b65",
   "metadata": {},
   "outputs": [],
   "source": [
    "# visualize your results \n",
    "\n",
    "plt.imshow(np.exp(), extent = (, , ,), origin = 'lower', cmap = 'plasma')"
   ]
  },
  {
   "cell_type": "markdown",
   "id": "968ee7b5",
   "metadata": {},
   "source": [
    "## [Pen & Paper] Challenge Problem 1: The Gaussian Derivation of the Central Distribution\n",
    "\n",
    "In the lecture, we see two derivations of the Central distribution based on physical arguments. The first, spatial homogeneity, arose to solve a problem in astronomy, while the second based on convolutions of distributions (and \"additive physical processes\" arose in condensed matter physics and electrical engineering. In this problem, we'll study another derivation that also arose in the fitting of the orbits of the planets. \n",
    "\n",
    "### Maximum Likelihood Estimates\n",
    "\n",
    "Begin by reviewing the discussion in Adam's lecture yesterday of the \"maximum likelihood estimate\" of a parameter. Then, write a general expression for the maximum of the log-likelihood. Then re-express your MLE statmeent in terms of a function $g'(\\hat{\\theta} - x$), where $\\hat{\\theta}$ is your MLE estimate for the parameter $\\theta$ and $g(\\theta-x) = log f(x_i | \\theta)$ is your log-likelihood.\n",
    "\n",
    "### The arithmetic mean and roots of the MLE\n",
    "\n",
    "Now assume that the MLE must be given by the arithmetic mean of the observations, \n",
    "\n",
    "$$ \\hat{\\theta} = \\bar{x} = \\frac{1}{n+1} \\Sigma_{i=0}^n x_i $$ and consider a simple sample. This sample should have one observation $x_0 = (n+1)(\\theta - x)$. Now compute $\\hat{\\theta}$ and $\\hat{\\theta} - x_0$. What is the value of $g'(\\hat{\\theta} - x$)? Is this symmetric or anti-symmetric?\n",
    "\n",
    "### Functional equations\n",
    "\n",
    "Given your expression for $g'(\\hat{\\theta} - x)$, do some functional analysis. What are the possible functional forms of $g(u)$? Then plug them into your original MLE expression. You will find that \n",
    "\n",
    "$$ f(x|\\theta) = \\sqrt{\\frac{\\alpha}{2\\pi}} \\exp \\left[ -  \\frac{1}{2} \\alpha (x-\\theta)^2 \\right]$$\n",
    "\n",
    "As noted in the lecture, the historical importance of this result is that the assumption that $\\hat{\\theta} = \\bar{x}$ provides a theoretical basis for the intuitive notion that errors cancel. This put to rest a long running argument about the nature of additive errors and justifies much of what we assume as a matter of course."
   ]
  },
  {
   "cell_type": "markdown",
   "id": "2ca00147",
   "metadata": {},
   "source": [
    "## [Hybrid] Challenge Problem 2: Deriving the Central Limit Theorem"
   ]
  },
  {
   "cell_type": "markdown",
   "id": "ac0ba69e",
   "metadata": {},
   "source": [
    "If you consult the wikipedia page on the central limit theorem, you will find the following definition,\n",
    "\n",
    "If $X_1, X_2,...,X_n$ are random samples drawn from a population with mean $\\mu$ and variance $\\sigma^2$, and if $\\bar{X}_n$ is the sample mean of the first n samples, then the limiting form of the distribution $Z = \\frac{(\\bar{X}_n - \\mu)}{\\sigma_{\\bar{X}_n}}$ with standard error of the mean, $\\sigma_{\\bar{X}_n} = \\sigma/n$ is normally distributed.\n",
    "\n",
    "However, in fact there are many central limit theorems for different distributions. A more general way to approach CLTs is via a form that may be more intuitive as a Bayesian who thinks more about distributions rather than estimators. \n",
    "\n",
    "In this form, a statement of the CLT is that, \n",
    "\n",
    "If you have a large number of distributions, labelled $f_i = (f_1, f_2, ... f_n)$ and take their convolution $F^{*} = f_1 * f_2 * ... * f_n$, that $F^{*} \\rightarrow \\mathscr{N}$ as $n \\rightarrow \\infty$. "
   ]
  },
  {
   "cell_type": "markdown",
   "id": "9c3fd126",
   "metadata": {},
   "source": [
    "### [Computational] Challenge Problem 2a) Convolutions of distributions\n",
    "\n",
    "Begin by computing and visualizing the convolution of n-arbitrary distributions. Look up statistical tests for normality and prove to yourself that the resulting distribution really is normal (and becomes increasingly normal as $n \\rightarrow \\infty$. Try some pathological cases. Can you break the CLT? What caveats should we add to our version of the CLT?\n",
    "\n",
    "### [Pen & Paper] Challenge Problem 2b) Proof with Fourier Transforms and Cumulants\n",
    "\n",
    "Now that you've convinced yourself of the CLT by convolving distributions, prove the CLT using pen & paper. One way to do this is by considering\n",
    "\n",
    "$$ \\phi(\\alpha) = \\int_{-\\infty}^{\\infty} f(x) \\exp \\left[ i \\alpha x \\right] $$ \n",
    "\n",
    "then repeating convolution of the function f(x) yields,\n",
    "\n",
    "$$ h_n (y) = f * f * ... * f = \\frac{1}{2\\pi} \\int_{-\\infty}^{\\infty} dy \\phi(y)^n \\exp \\left[ i \\alpha y \\right] $$ \n",
    "\n",
    "Now, complete the proof by first considering the quantity $\\phi(\\alpha)^n$ and performing a cumulant expansion of this quantity. After plugging in, perform the integral. You will find tha the resulting distribution is,\n",
    "\n",
    "$$ h_n (y) = \\frac{1}{\\sqrt{2 \\pi n \\sigma^2}} exp \\left( - \\frac{(y - n <x> x)^2}{2 n \\sigma^2} \\right)$$\n",
    "\n",
    "which proves the CLT. Confirm that the pen and paper derivation respects the conditions you worked out in 2a) for the CLT to be valid."
   ]
  }
 ],
 "metadata": {
  "interpreter": {
   "hash": "e4400394f4569a0a03f7d6ca468589dfdcecca440e4bf199912b6b931a754dcf"
  },
  "kernelspec": {
   "display_name": "Python 3.8.6 ('DSFP': conda)",
   "language": "python",
   "name": "python3"
  },
  "language_info": {
   "codemirror_mode": {
    "name": "ipython",
    "version": 3
   },
   "file_extension": ".py",
   "mimetype": "text/x-python",
   "name": "python",
   "nbconvert_exporter": "python",
   "pygments_lexer": "ipython3",
   "version": "3.8.6"
  }
 },
 "nbformat": 4,
 "nbformat_minor": 5
}
